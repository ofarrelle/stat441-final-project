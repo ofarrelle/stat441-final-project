{
 "cells": [
  {
   "cell_type": "code",
   "execution_count": 1,
   "id": "a6c083c3",
   "metadata": {
    "_cell_guid": "b1076dfc-b9ad-4769-8c92-a6c4dae69d19",
    "_uuid": "8f2839f25d086af736a60e9eeb907d3b93b6e0e5",
    "execution": {
     "iopub.execute_input": "2021-12-18T01:53:32.540861Z",
     "iopub.status.busy": "2021-12-18T01:53:32.539341Z",
     "iopub.status.idle": "2021-12-18T01:53:32.549073Z",
     "shell.execute_reply": "2021-12-18T01:53:32.548542Z",
     "shell.execute_reply.started": "2021-12-18T00:37:46.679333Z"
    },
    "papermill": {
     "duration": 0.02533,
     "end_time": "2021-12-18T01:53:32.549207",
     "exception": false,
     "start_time": "2021-12-18T01:53:32.523877",
     "status": "completed"
    },
    "tags": []
   },
   "outputs": [],
   "source": [
    "# This Python 3 environment comes with many helpful analytics libraries installed\n",
    "# It is defined by the kaggle/python Docker image: https://github.com/kaggle/docker-python\n",
    "# For example, here's several helpful packages to load\n",
    "\n",
    "import numpy as np # linear algebra\n",
    "import pandas as pd # data processing, CSV file I/O (e.g. pd.read_csv)\n",
    "\n",
    "# Input data files are available in the read-only \"../input/\" directory\n",
    "# For example, running this (by clicking run or pressing Shift+Enter) will list all files under the input directory\n",
    "\n",
    "import os\n",
    "# for dirname, _, filenames in os.walk('/kaggle/input'):\n",
    "#     for filename in filenames:\n",
    "#         print(os.path.join(dirname, filename))\n",
    "\n",
    "# You can write up to 20GB to the current directory (/kaggle/working/) that gets preserved as output when you create a version using \"Save & Run All\" \n",
    "# You can also write temporary files to /kaggle/temp/, but they won't be saved outside of the current session"
   ]
  },
  {
   "cell_type": "code",
   "execution_count": 2,
   "id": "dfeb0cc0",
   "metadata": {
    "execution": {
     "iopub.execute_input": "2021-12-18T01:53:32.570486Z",
     "iopub.status.busy": "2021-12-18T01:53:32.569829Z",
     "iopub.status.idle": "2021-12-18T01:53:48.844907Z",
     "shell.execute_reply": "2021-12-18T01:53:48.844403Z",
     "shell.execute_reply.started": "2021-12-18T00:37:46.71305Z"
    },
    "papermill": {
     "duration": 16.287091,
     "end_time": "2021-12-18T01:53:48.845054",
     "exception": false,
     "start_time": "2021-12-18T01:53:32.557963",
     "status": "completed"
    },
    "tags": []
   },
   "outputs": [
    {
     "name": "stdout",
     "output_type": "stream",
     "text": [
      "Collecting keras-applications\r\n",
      "  Downloading Keras_Applications-1.0.8-py3-none-any.whl (50 kB)\r\n",
      "\u001b[K     |████████████████████████████████| 50 kB 2.5 MB/s \r\n",
      "\u001b[?25hRequirement already satisfied: numpy>=1.9.1 in /opt/conda/lib/python3.7/site-packages (from keras-applications) (1.19.5)\r\n",
      "Requirement already satisfied: h5py in /opt/conda/lib/python3.7/site-packages (from keras-applications) (3.1.0)\r\n",
      "Requirement already satisfied: cached-property in /opt/conda/lib/python3.7/site-packages (from h5py->keras-applications) (1.5.2)\r\n",
      "Installing collected packages: keras-applications\r\n",
      "Successfully installed keras-applications-1.0.8\r\n",
      "\u001b[33mWARNING: Running pip as the 'root' user can result in broken permissions and conflicting behaviour with the system package manager. It is recommended to use a virtual environment instead: https://pip.pypa.io/warnings/venv\u001b[0m\r\n",
      "Collecting efficientnet\r\n",
      "  Downloading efficientnet-1.1.1-py3-none-any.whl (18 kB)\r\n",
      "Requirement already satisfied: scikit-image in /opt/conda/lib/python3.7/site-packages (from efficientnet) (0.18.3)\r\n",
      "Requirement already satisfied: keras-applications<=1.0.8,>=1.0.7 in /opt/conda/lib/python3.7/site-packages (from efficientnet) (1.0.8)\r\n",
      "Requirement already satisfied: numpy>=1.9.1 in /opt/conda/lib/python3.7/site-packages (from keras-applications<=1.0.8,>=1.0.7->efficientnet) (1.19.5)\r\n",
      "Requirement already satisfied: h5py in /opt/conda/lib/python3.7/site-packages (from keras-applications<=1.0.8,>=1.0.7->efficientnet) (3.1.0)\r\n",
      "Requirement already satisfied: cached-property in /opt/conda/lib/python3.7/site-packages (from h5py->keras-applications<=1.0.8,>=1.0.7->efficientnet) (1.5.2)\r\n",
      "Requirement already satisfied: networkx>=2.0 in /opt/conda/lib/python3.7/site-packages (from scikit-image->efficientnet) (2.5)\r\n",
      "Requirement already satisfied: matplotlib!=3.0.0,>=2.0.0 in /opt/conda/lib/python3.7/site-packages (from scikit-image->efficientnet) (3.4.3)\r\n",
      "Requirement already satisfied: pillow!=7.1.0,!=7.1.1,>=4.3.0 in /opt/conda/lib/python3.7/site-packages (from scikit-image->efficientnet) (8.2.0)\r\n",
      "Requirement already satisfied: scipy>=1.0.1 in /opt/conda/lib/python3.7/site-packages (from scikit-image->efficientnet) (1.7.1)\r\n",
      "Requirement already satisfied: PyWavelets>=1.1.1 in /opt/conda/lib/python3.7/site-packages (from scikit-image->efficientnet) (1.1.1)\r\n",
      "Requirement already satisfied: tifffile>=2019.7.26 in /opt/conda/lib/python3.7/site-packages (from scikit-image->efficientnet) (2021.8.30)\r\n",
      "Requirement already satisfied: imageio>=2.3.0 in /opt/conda/lib/python3.7/site-packages (from scikit-image->efficientnet) (2.9.0)\r\n",
      "Requirement already satisfied: cycler>=0.10 in /opt/conda/lib/python3.7/site-packages (from matplotlib!=3.0.0,>=2.0.0->scikit-image->efficientnet) (0.10.0)\r\n",
      "Requirement already satisfied: kiwisolver>=1.0.1 in /opt/conda/lib/python3.7/site-packages (from matplotlib!=3.0.0,>=2.0.0->scikit-image->efficientnet) (1.3.2)\r\n",
      "Requirement already satisfied: python-dateutil>=2.7 in /opt/conda/lib/python3.7/site-packages (from matplotlib!=3.0.0,>=2.0.0->scikit-image->efficientnet) (2.8.0)\r\n",
      "Requirement already satisfied: pyparsing>=2.2.1 in /opt/conda/lib/python3.7/site-packages (from matplotlib!=3.0.0,>=2.0.0->scikit-image->efficientnet) (2.4.7)\r\n",
      "Requirement already satisfied: six in /opt/conda/lib/python3.7/site-packages (from cycler>=0.10->matplotlib!=3.0.0,>=2.0.0->scikit-image->efficientnet) (1.16.0)\r\n",
      "Requirement already satisfied: decorator>=4.3.0 in /opt/conda/lib/python3.7/site-packages (from networkx>=2.0->scikit-image->efficientnet) (5.1.0)\r\n",
      "Installing collected packages: efficientnet\r\n",
      "Successfully installed efficientnet-1.1.1\r\n",
      "\u001b[33mWARNING: Running pip as the 'root' user can result in broken permissions and conflicting behaviour with the system package manager. It is recommended to use a virtual environment instead: https://pip.pypa.io/warnings/venv\u001b[0m\r\n"
     ]
    }
   ],
   "source": [
    "!pip install 'keras-applications'\n",
    "!pip install 'efficientnet'"
   ]
  },
  {
   "cell_type": "code",
   "execution_count": 3,
   "id": "729f61ad",
   "metadata": {
    "execution": {
     "iopub.execute_input": "2021-12-18T01:53:48.879201Z",
     "iopub.status.busy": "2021-12-18T01:53:48.878496Z",
     "iopub.status.idle": "2021-12-18T01:53:54.452646Z",
     "shell.execute_reply": "2021-12-18T01:53:54.452114Z",
     "shell.execute_reply.started": "2021-12-18T00:38:03.383646Z"
    },
    "papermill": {
     "duration": 5.593524,
     "end_time": "2021-12-18T01:53:54.452809",
     "exception": false,
     "start_time": "2021-12-18T01:53:48.859285",
     "status": "completed"
    },
    "tags": []
   },
   "outputs": [],
   "source": [
    "import numpy as np\n",
    "import pandas as pd\n",
    "import tensorflow as tf\n",
    "from tensorflow.keras.preprocessing import image\n",
    "from tensorflow.keras import models, Sequential, Input, layers, optimizers, regularizers, callbacks, losses, metrics \n",
    "from matplotlib import pyplot as plt\n",
    "from sklearn.metrics import mean_squared_error\n",
    "from sklearn.model_selection import StratifiedKFold\n",
    "\n",
    "import efficientnet.tfkeras as effnet\n",
    "from tensorflow.keras.layers import Input\n",
    "import warnings\n",
    "warnings.filterwarnings(\"ignore\")\n",
    "\n",
    "%matplotlib inline"
   ]
  },
  {
   "cell_type": "code",
   "execution_count": 4,
   "id": "ea37ce7e",
   "metadata": {
    "execution": {
     "iopub.execute_input": "2021-12-18T01:53:54.480638Z",
     "iopub.status.busy": "2021-12-18T01:53:54.479897Z",
     "iopub.status.idle": "2021-12-18T01:53:54.482445Z",
     "shell.execute_reply": "2021-12-18T01:53:54.481965Z",
     "shell.execute_reply.started": "2021-12-18T00:38:09.261477Z"
    },
    "papermill": {
     "duration": 0.01807,
     "end_time": "2021-12-18T01:53:54.482589",
     "exception": false,
     "start_time": "2021-12-18T01:53:54.464519",
     "status": "completed"
    },
    "tags": []
   },
   "outputs": [],
   "source": [
    "# FOR KAGGLE\n",
    "train_images_dir = '../input/petfinder-pawpularity-score/train/'\n",
    "test_images_dir = '../input/petfinder-pawpularity-score/test/'\n",
    "\n",
    "# FOR LOCAL PC\n",
    "# train_images_dir = './dataset/train/'\n",
    "# test_images_dir = './dataset/test/'"
   ]
  },
  {
   "cell_type": "code",
   "execution_count": 5,
   "id": "8ab03318",
   "metadata": {
    "execution": {
     "iopub.execute_input": "2021-12-18T01:53:54.510675Z",
     "iopub.status.busy": "2021-12-18T01:53:54.510042Z",
     "iopub.status.idle": "2021-12-18T01:53:54.566384Z",
     "shell.execute_reply": "2021-12-18T01:53:54.565958Z",
     "shell.execute_reply.started": "2021-12-18T00:38:54.212028Z"
    },
    "papermill": {
     "duration": 0.072535,
     "end_time": "2021-12-18T01:53:54.566497",
     "exception": false,
     "start_time": "2021-12-18T01:53:54.493962",
     "status": "completed"
    },
    "tags": []
   },
   "outputs": [],
   "source": [
    "train_df = pd.read_csv('../input/petfinder-pawpularity-score/train.csv')\n",
    "train_df.loc[:, 'filename'] = train_images_dir + train_df['Id'] + '.jpg'\n",
    "\n",
    "test_df = pd.read_csv('../input/petfinder-pawpularity-score/test.csv')\n",
    "test_df.loc[:, 'filename'] = test_images_dir + test_df['Id'] + '.jpg'\n",
    "\n",
    "\n",
    "# Set a specific label to be able to perform stratification\n",
    "train_df['stratify_label'] = pd.qcut(train_df['Pawpularity'], q = 30, labels = range(30))\n",
    "# Label value to be used for feature model 'classification' training.\n",
    "train_df['target_value'] = train_df['Pawpularity'] / 100."
   ]
  },
  {
   "cell_type": "code",
   "execution_count": 6,
   "id": "de2dee4f",
   "metadata": {
    "execution": {
     "iopub.execute_input": "2021-12-18T01:53:54.595034Z",
     "iopub.status.busy": "2021-12-18T01:53:54.594276Z",
     "iopub.status.idle": "2021-12-18T01:53:54.610640Z",
     "shell.execute_reply": "2021-12-18T01:53:54.611078Z",
     "shell.execute_reply.started": "2021-12-18T00:38:54.482557Z"
    },
    "papermill": {
     "duration": 0.033138,
     "end_time": "2021-12-18T01:53:54.611226",
     "exception": false,
     "start_time": "2021-12-18T01:53:54.578088",
     "status": "completed"
    },
    "tags": []
   },
   "outputs": [
    {
     "data": {
      "text/html": [
       "<div>\n",
       "<style scoped>\n",
       "    .dataframe tbody tr th:only-of-type {\n",
       "        vertical-align: middle;\n",
       "    }\n",
       "\n",
       "    .dataframe tbody tr th {\n",
       "        vertical-align: top;\n",
       "    }\n",
       "\n",
       "    .dataframe thead th {\n",
       "        text-align: right;\n",
       "    }\n",
       "</style>\n",
       "<table border=\"1\" class=\"dataframe\">\n",
       "  <thead>\n",
       "    <tr style=\"text-align: right;\">\n",
       "      <th></th>\n",
       "      <th>Id</th>\n",
       "      <th>Subject Focus</th>\n",
       "      <th>Eyes</th>\n",
       "      <th>Face</th>\n",
       "      <th>Near</th>\n",
       "      <th>Action</th>\n",
       "      <th>Accessory</th>\n",
       "      <th>Group</th>\n",
       "      <th>Collage</th>\n",
       "      <th>Human</th>\n",
       "      <th>Occlusion</th>\n",
       "      <th>Info</th>\n",
       "      <th>Blur</th>\n",
       "      <th>Pawpularity</th>\n",
       "      <th>filename</th>\n",
       "      <th>stratify_label</th>\n",
       "      <th>target_value</th>\n",
       "    </tr>\n",
       "  </thead>\n",
       "  <tbody>\n",
       "    <tr>\n",
       "      <th>0</th>\n",
       "      <td>0007de18844b0dbbb5e1f607da0606e0</td>\n",
       "      <td>0</td>\n",
       "      <td>1</td>\n",
       "      <td>1</td>\n",
       "      <td>1</td>\n",
       "      <td>0</td>\n",
       "      <td>0</td>\n",
       "      <td>1</td>\n",
       "      <td>0</td>\n",
       "      <td>0</td>\n",
       "      <td>0</td>\n",
       "      <td>0</td>\n",
       "      <td>0</td>\n",
       "      <td>63</td>\n",
       "      <td>../input/petfinder-pawpularity-score/train/000...</td>\n",
       "      <td>26</td>\n",
       "      <td>0.63</td>\n",
       "    </tr>\n",
       "    <tr>\n",
       "      <th>1</th>\n",
       "      <td>0009c66b9439883ba2750fb825e1d7db</td>\n",
       "      <td>0</td>\n",
       "      <td>1</td>\n",
       "      <td>1</td>\n",
       "      <td>0</td>\n",
       "      <td>0</td>\n",
       "      <td>0</td>\n",
       "      <td>0</td>\n",
       "      <td>0</td>\n",
       "      <td>0</td>\n",
       "      <td>0</td>\n",
       "      <td>0</td>\n",
       "      <td>0</td>\n",
       "      <td>42</td>\n",
       "      <td>../input/petfinder-pawpularity-score/train/000...</td>\n",
       "      <td>20</td>\n",
       "      <td>0.42</td>\n",
       "    </tr>\n",
       "    <tr>\n",
       "      <th>2</th>\n",
       "      <td>0013fd999caf9a3efe1352ca1b0d937e</td>\n",
       "      <td>0</td>\n",
       "      <td>1</td>\n",
       "      <td>1</td>\n",
       "      <td>1</td>\n",
       "      <td>0</td>\n",
       "      <td>0</td>\n",
       "      <td>0</td>\n",
       "      <td>0</td>\n",
       "      <td>1</td>\n",
       "      <td>1</td>\n",
       "      <td>0</td>\n",
       "      <td>0</td>\n",
       "      <td>28</td>\n",
       "      <td>../input/petfinder-pawpularity-score/train/001...</td>\n",
       "      <td>9</td>\n",
       "      <td>0.28</td>\n",
       "    </tr>\n",
       "    <tr>\n",
       "      <th>3</th>\n",
       "      <td>0018df346ac9c1d8413cfcc888ca8246</td>\n",
       "      <td>0</td>\n",
       "      <td>1</td>\n",
       "      <td>1</td>\n",
       "      <td>1</td>\n",
       "      <td>0</td>\n",
       "      <td>0</td>\n",
       "      <td>0</td>\n",
       "      <td>0</td>\n",
       "      <td>0</td>\n",
       "      <td>0</td>\n",
       "      <td>0</td>\n",
       "      <td>0</td>\n",
       "      <td>15</td>\n",
       "      <td>../input/petfinder-pawpularity-score/train/001...</td>\n",
       "      <td>2</td>\n",
       "      <td>0.15</td>\n",
       "    </tr>\n",
       "    <tr>\n",
       "      <th>4</th>\n",
       "      <td>001dc955e10590d3ca4673f034feeef2</td>\n",
       "      <td>0</td>\n",
       "      <td>0</td>\n",
       "      <td>0</td>\n",
       "      <td>1</td>\n",
       "      <td>0</td>\n",
       "      <td>0</td>\n",
       "      <td>1</td>\n",
       "      <td>0</td>\n",
       "      <td>0</td>\n",
       "      <td>0</td>\n",
       "      <td>0</td>\n",
       "      <td>0</td>\n",
       "      <td>72</td>\n",
       "      <td>../input/petfinder-pawpularity-score/train/001...</td>\n",
       "      <td>27</td>\n",
       "      <td>0.72</td>\n",
       "    </tr>\n",
       "  </tbody>\n",
       "</table>\n",
       "</div>"
      ],
      "text/plain": [
       "                                 Id  Subject Focus  Eyes  Face  Near  Action  \\\n",
       "0  0007de18844b0dbbb5e1f607da0606e0              0     1     1     1       0   \n",
       "1  0009c66b9439883ba2750fb825e1d7db              0     1     1     0       0   \n",
       "2  0013fd999caf9a3efe1352ca1b0d937e              0     1     1     1       0   \n",
       "3  0018df346ac9c1d8413cfcc888ca8246              0     1     1     1       0   \n",
       "4  001dc955e10590d3ca4673f034feeef2              0     0     0     1       0   \n",
       "\n",
       "   Accessory  Group  Collage  Human  Occlusion  Info  Blur  Pawpularity  \\\n",
       "0          0      1        0      0          0     0     0           63   \n",
       "1          0      0        0      0          0     0     0           42   \n",
       "2          0      0        0      1          1     0     0           28   \n",
       "3          0      0        0      0          0     0     0           15   \n",
       "4          0      1        0      0          0     0     0           72   \n",
       "\n",
       "                                            filename stratify_label  \\\n",
       "0  ../input/petfinder-pawpularity-score/train/000...             26   \n",
       "1  ../input/petfinder-pawpularity-score/train/000...             20   \n",
       "2  ../input/petfinder-pawpularity-score/train/001...              9   \n",
       "3  ../input/petfinder-pawpularity-score/train/001...              2   \n",
       "4  ../input/petfinder-pawpularity-score/train/001...             27   \n",
       "\n",
       "   target_value  \n",
       "0          0.63  \n",
       "1          0.42  \n",
       "2          0.28  \n",
       "3          0.15  \n",
       "4          0.72  "
      ]
     },
     "execution_count": 6,
     "metadata": {},
     "output_type": "execute_result"
    }
   ],
   "source": [
    "train_df.head(5)"
   ]
  },
  {
   "cell_type": "code",
   "execution_count": 7,
   "id": "ce0c0f91",
   "metadata": {
    "execution": {
     "iopub.execute_input": "2021-12-18T01:53:54.640667Z",
     "iopub.status.busy": "2021-12-18T01:53:54.639923Z",
     "iopub.status.idle": "2021-12-18T01:53:54.641795Z",
     "shell.execute_reply": "2021-12-18T01:53:54.642277Z",
     "shell.execute_reply.started": "2021-12-18T00:38:54.999295Z"
    },
    "papermill": {
     "duration": 0.017877,
     "end_time": "2021-12-18T01:53:54.642390",
     "exception": false,
     "start_time": "2021-12-18T01:53:54.624513",
     "status": "completed"
    },
    "tags": []
   },
   "outputs": [],
   "source": [
    "img_size = (384, 384, 3)\n",
    "BATCH_SIZE = 32\n",
    "EPOCHS = 10\n",
    "LEARNING_RATE = 0.000005\n",
    "FEATURE_FOLDS = 10\n",
    "SEED = 42"
   ]
  },
  {
   "cell_type": "code",
   "execution_count": 8,
   "id": "dd1c90df",
   "metadata": {
    "execution": {
     "iopub.execute_input": "2021-12-18T01:53:54.675445Z",
     "iopub.status.busy": "2021-12-18T01:53:54.669543Z",
     "iopub.status.idle": "2021-12-18T01:53:54.677356Z",
     "shell.execute_reply": "2021-12-18T01:53:54.677730Z",
     "shell.execute_reply.started": "2021-12-18T00:38:57.292354Z"
    },
    "papermill": {
     "duration": 0.023608,
     "end_time": "2021-12-18T01:53:54.677879",
     "exception": false,
     "start_time": "2021-12-18T01:53:54.654271",
     "status": "completed"
    },
    "tags": []
   },
   "outputs": [],
   "source": [
    "def augment_image(image, label=None):\n",
    "    image = tf.image.random_flip_left_right(image)\n",
    "    image = tf.image.random_flip_up_down(image)\n",
    "    image = tf.image.random_saturation(image, 0.95, 1.05)\n",
    "    image = tf.image.random_brightness(image, 0.05)\n",
    "    image = tf.image.random_contrast(image, 0.95, 1.05)\n",
    "    image = tf.image.random_hue(image, 0.05)\n",
    "    return image, label\n",
    "\n",
    "def parse_image(filename, label=None):\n",
    "    image_string = tf.io.read_file(filename)\n",
    "    image = tf.image.decode_jpeg(image_string, channels=img_size[2])\n",
    "    image = tf.image.convert_image_dtype(image, tf.float32)\n",
    "    image = tf.cast(image, tf.float32) / 255.0\n",
    "    image = tf.image.resize(image, img_size[:2])\n",
    "    return image, label\n",
    "\n",
    "def get_dataset(filenames, label=None, shuffle=False, augment=False, repeat=False):\n",
    "    dataset = tf.data.TFRecordDataset.from_tensor_slices((filenames, label))     \n",
    "    dataset = dataset.map(parse_image, num_parallel_calls=4)\n",
    "    if augment:\n",
    "        dataset = dataset.map(augment_image, num_parallel_calls=4)\n",
    "    if repeat:\n",
    "        dataset = dataset.repeat()\n",
    "    if shuffle:\n",
    "        dataset = dataset.shuffle(1024, reshuffle_each_iteration = True)\n",
    "    dataset = dataset.batch(BATCH_SIZE)\n",
    "    dataset = dataset.prefetch(True)\n",
    "    return dataset\n",
    "\n"
   ]
  },
  {
   "cell_type": "code",
   "execution_count": 9,
   "id": "34725bf5",
   "metadata": {
    "execution": {
     "iopub.execute_input": "2021-12-18T01:53:54.710081Z",
     "iopub.status.busy": "2021-12-18T01:53:54.707627Z",
     "iopub.status.idle": "2021-12-18T01:53:54.712423Z",
     "shell.execute_reply": "2021-12-18T01:53:54.711978Z",
     "shell.execute_reply.started": "2021-12-18T00:38:57.861431Z"
    },
    "papermill": {
     "duration": 0.022792,
     "end_time": "2021-12-18T01:53:54.712528",
     "exception": false,
     "start_time": "2021-12-18T01:53:54.689736",
     "status": "completed"
    },
    "tags": []
   },
   "outputs": [],
   "source": [
    "def save_checkpoint(fold):\n",
    "    return tf.keras.callbacks.ModelCheckpoint(f'/kaggle/working/feature_model_{fold}.h5',\n",
    "                                              monitor = 'val_rmse', \n",
    "                                              mode = 'min', \n",
    "                                              save_weights_only = True,\n",
    "                                              save_best_only = True)\n",
    "\n",
    "def build_model(): \n",
    "    # Create and Compile Model and show Summary\n",
    "    model = effnet.EfficientNetB2(include_top = False, \n",
    "                                  classes = None, \n",
    "                                  input_shape = img_size, \n",
    "                                  weights = 'noisy-student', \n",
    "                                  pooling = 'avg')\n",
    "\n",
    "    # Set all layers to Trainable except BN layers\n",
    "    for layer in model.layers:\n",
    "        if isinstance(layer, tf.keras.layers.BatchNormalization):\n",
    "            layer.trainable = False\n",
    "        else:\n",
    "            layer.trainable = True\n",
    "\n",
    "    \n",
    "    X = tf.keras.layers.Dropout(0.25)(model.output)\n",
    "    output = tf.keras.layers.Dense(1, activation = 'sigmoid')(X)\n",
    "    model = tf.keras.Model(inputs = model.input, outputs = output)\n",
    "    model.compile(optimizer = tf.keras.optimizers.Adam(learning_rate = LEARNING_RATE), \n",
    "                  loss = tf.keras.losses.BinaryCrossentropy(), \n",
    "                  metrics = [tf.keras.metrics.RootMeanSquaredError('rmse')])        \n",
    "    \n",
    "    return model    "
   ]
  },
  {
   "cell_type": "code",
   "execution_count": 10,
   "id": "7d74a56f",
   "metadata": {
    "execution": {
     "iopub.execute_input": "2021-12-18T01:53:54.744605Z",
     "iopub.status.busy": "2021-12-18T01:53:54.743854Z",
     "iopub.status.idle": "2021-12-18T09:55:06.403785Z",
     "shell.execute_reply": "2021-12-18T09:55:06.404241Z",
     "shell.execute_reply.started": "2021-12-18T00:41:50.093641Z"
    },
    "papermill": {
     "duration": 28871.679978,
     "end_time": "2021-12-18T09:55:06.404421",
     "exception": false,
     "start_time": "2021-12-18T01:53:54.724443",
     "status": "completed"
    },
    "tags": []
   },
   "outputs": [
    {
     "name": "stderr",
     "output_type": "stream",
     "text": [
      "2021-12-18 01:53:54.829833: I tensorflow/stream_executor/cuda/cuda_gpu_executor.cc:937] successful NUMA node read from SysFS had negative value (-1), but there must be at least one NUMA node, so returning NUMA node zero\n",
      "2021-12-18 01:53:54.968342: I tensorflow/stream_executor/cuda/cuda_gpu_executor.cc:937] successful NUMA node read from SysFS had negative value (-1), but there must be at least one NUMA node, so returning NUMA node zero\n",
      "2021-12-18 01:53:54.969064: I tensorflow/stream_executor/cuda/cuda_gpu_executor.cc:937] successful NUMA node read from SysFS had negative value (-1), but there must be at least one NUMA node, so returning NUMA node zero\n",
      "2021-12-18 01:53:54.970213: I tensorflow/core/platform/cpu_feature_guard.cc:142] This TensorFlow binary is optimized with oneAPI Deep Neural Network Library (oneDNN) to use the following CPU instructions in performance-critical operations:  AVX2 AVX512F FMA\n",
      "To enable them in other operations, rebuild TensorFlow with the appropriate compiler flags.\n",
      "2021-12-18 01:53:54.971418: I tensorflow/stream_executor/cuda/cuda_gpu_executor.cc:937] successful NUMA node read from SysFS had negative value (-1), but there must be at least one NUMA node, so returning NUMA node zero\n",
      "2021-12-18 01:53:54.972116: I tensorflow/stream_executor/cuda/cuda_gpu_executor.cc:937] successful NUMA node read from SysFS had negative value (-1), but there must be at least one NUMA node, so returning NUMA node zero\n",
      "2021-12-18 01:53:54.972716: I tensorflow/stream_executor/cuda/cuda_gpu_executor.cc:937] successful NUMA node read from SysFS had negative value (-1), but there must be at least one NUMA node, so returning NUMA node zero\n",
      "2021-12-18 01:53:56.774279: I tensorflow/stream_executor/cuda/cuda_gpu_executor.cc:937] successful NUMA node read from SysFS had negative value (-1), but there must be at least one NUMA node, so returning NUMA node zero\n",
      "2021-12-18 01:53:56.775625: I tensorflow/stream_executor/cuda/cuda_gpu_executor.cc:937] successful NUMA node read from SysFS had negative value (-1), but there must be at least one NUMA node, so returning NUMA node zero\n",
      "2021-12-18 01:53:56.776816: I tensorflow/stream_executor/cuda/cuda_gpu_executor.cc:937] successful NUMA node read from SysFS had negative value (-1), but there must be at least one NUMA node, so returning NUMA node zero\n",
      "2021-12-18 01:53:56.777866: I tensorflow/core/common_runtime/gpu/gpu_device.cc:1510] Created device /job:localhost/replica:0/task:0/device:GPU:0 with 15403 MB memory:  -> device: 0, name: Tesla P100-PCIE-16GB, pci bus id: 0000:00:04.0, compute capability: 6.0\n"
     ]
    },
    {
     "name": "stdout",
     "output_type": "stream",
     "text": [
      "Downloading data from https://github.com/qubvel/efficientnet/releases/download/v0.0.1/efficientnet-b2_noisy-student_notop.h5\n",
      "31784960/31782304 [==============================] - 0s 0us/step\n",
      "31793152/31782304 [==============================] - 0s 0us/step\n",
      "Epoch 1/10\n"
     ]
    },
    {
     "name": "stderr",
     "output_type": "stream",
     "text": [
      "2021-12-18 01:54:06.677279: I tensorflow/compiler/mlir/mlir_graph_optimization_pass.cc:185] None of the MLIR Optimization Passes are enabled (registered 2)\n",
      "2021-12-18 01:54:19.626193: I tensorflow/core/kernels/data/shuffle_dataset_op.cc:175] Filling up shuffle buffer (this may take a while): 850 of 1024\n",
      "2021-12-18 01:54:21.539012: I tensorflow/core/kernels/data/shuffle_dataset_op.cc:228] Shuffle buffer filled.\n",
      "2021-12-18 01:54:22.890277: I tensorflow/stream_executor/cuda/cuda_dnn.cc:369] Loaded cuDNN version 8005\n",
      "2021-12-18 01:54:28.245075: W tensorflow/core/common_runtime/bfc_allocator.cc:272] Allocator (GPU_0_bfc) ran out of memory trying to allocate 1.04GiB with freed_by_count=0. The caller indicates that this is not a failure, but may mean that there could be performance gains if more memory were available.\n",
      "2021-12-18 01:54:28.255193: W tensorflow/core/common_runtime/bfc_allocator.cc:272] Allocator (GPU_0_bfc) ran out of memory trying to allocate 1.64GiB with freed_by_count=0. The caller indicates that this is not a failure, but may mean that there could be performance gains if more memory were available.\n",
      "2021-12-18 01:54:28.281931: W tensorflow/core/common_runtime/bfc_allocator.cc:272] Allocator (GPU_0_bfc) ran out of memory trying to allocate 1.76GiB with freed_by_count=0. The caller indicates that this is not a failure, but may mean that there could be performance gains if more memory were available.\n",
      "2021-12-18 01:54:28.293159: W tensorflow/core/common_runtime/bfc_allocator.cc:272] Allocator (GPU_0_bfc) ran out of memory trying to allocate 1.10GiB with freed_by_count=0. The caller indicates that this is not a failure, but may mean that there could be performance gains if more memory were available.\n",
      "2021-12-18 01:54:28.658880: W tensorflow/core/common_runtime/bfc_allocator.cc:272] Allocator (GPU_0_bfc) ran out of memory trying to allocate 1.10GiB with freed_by_count=0. The caller indicates that this is not a failure, but may mean that there could be performance gains if more memory were available.\n",
      "2021-12-18 01:54:28.670297: W tensorflow/core/common_runtime/bfc_allocator.cc:272] Allocator (GPU_0_bfc) ran out of memory trying to allocate 1.18GiB with freed_by_count=0. The caller indicates that this is not a failure, but may mean that there could be performance gains if more memory were available.\n",
      "2021-12-18 01:54:28.680744: W tensorflow/core/common_runtime/bfc_allocator.cc:272] Allocator (GPU_0_bfc) ran out of memory trying to allocate 1.62GiB with freed_by_count=0. The caller indicates that this is not a failure, but may mean that there could be performance gains if more memory were available.\n",
      "2021-12-18 01:54:28.688533: W tensorflow/core/common_runtime/bfc_allocator.cc:272] Allocator (GPU_0_bfc) ran out of memory trying to allocate 1.64GiB with freed_by_count=0. The caller indicates that this is not a failure, but may mean that there could be performance gains if more memory were available.\n",
      "2021-12-18 01:54:28.725383: W tensorflow/core/common_runtime/bfc_allocator.cc:272] Allocator (GPU_0_bfc) ran out of memory trying to allocate 1.65GiB with freed_by_count=0. The caller indicates that this is not a failure, but may mean that there could be performance gains if more memory were available.\n",
      "2021-12-18 01:54:28.732102: W tensorflow/core/common_runtime/bfc_allocator.cc:272] Allocator (GPU_0_bfc) ran out of memory trying to allocate 1.76GiB with freed_by_count=0. The caller indicates that this is not a failure, but may mean that there could be performance gains if more memory were available.\n"
     ]
    },
    {
     "name": "stdout",
     "output_type": "stream",
     "text": [
      "278/278 [==============================] - 313s 1s/step - loss: 0.6667 - rmse: 0.2084 - val_loss: 0.6614 - val_rmse: 0.2009\n",
      "Epoch 2/10\n",
      "278/278 [==============================] - 286s 1s/step - loss: 0.6662 - rmse: 0.2088 - val_loss: 0.6614 - val_rmse: 0.2010\n",
      "Epoch 3/10\n",
      "278/278 [==============================] - 281s 1s/step - loss: 0.6660 - rmse: 0.2076 - val_loss: 0.6616 - val_rmse: 0.2012\n",
      "Epoch 4/10\n",
      "278/278 [==============================] - 282s 1s/step - loss: 0.6650 - rmse: 0.2068 - val_loss: 0.6616 - val_rmse: 0.2011\n",
      "Epoch 5/10\n",
      "278/278 [==============================] - 286s 1s/step - loss: 0.6656 - rmse: 0.2080 - val_loss: 0.6615 - val_rmse: 0.2010\n",
      "Epoch 6/10\n",
      "278/278 [==============================] - 285s 1s/step - loss: 0.6647 - rmse: 0.2067 - val_loss: 0.6618 - val_rmse: 0.2014\n",
      "Epoch 7/10\n",
      "278/278 [==============================] - 285s 1s/step - loss: 0.6655 - rmse: 0.2065 - val_loss: 0.6615 - val_rmse: 0.2011\n",
      "Epoch 8/10\n",
      "278/278 [==============================] - 286s 1s/step - loss: 0.6655 - rmse: 0.2081 - val_loss: 0.6616 - val_rmse: 0.2012\n",
      "Epoch 9/10\n",
      "278/278 [==============================] - 284s 1s/step - loss: 0.6656 - rmse: 0.2078 - val_loss: 0.6617 - val_rmse: 0.2013\n",
      "Epoch 10/10\n",
      "278/278 [==============================] - 284s 1s/step - loss: 0.6649 - rmse: 0.2065 - val_loss: 0.6615 - val_rmse: 0.2011\n",
      "\n",
      "Validation RMSE: 0.20092271268367767\n",
      "\n",
      "Epoch 1/10\n"
     ]
    },
    {
     "name": "stderr",
     "output_type": "stream",
     "text": [
      "2021-12-18 02:42:14.363774: I tensorflow/core/kernels/data/shuffle_dataset_op.cc:175] Filling up shuffle buffer (this may take a while): 996 of 1024\n",
      "2021-12-18 02:42:14.613724: I tensorflow/core/kernels/data/shuffle_dataset_op.cc:228] Shuffle buffer filled.\n"
     ]
    },
    {
     "name": "stdout",
     "output_type": "stream",
     "text": [
      "278/278 [==============================] - 307s 1s/step - loss: 0.6685 - rmse: 0.2106 - val_loss: 0.6622 - val_rmse: 0.2012\n",
      "Epoch 2/10\n",
      "278/278 [==============================] - 283s 1s/step - loss: 0.6654 - rmse: 0.2075 - val_loss: 0.6621 - val_rmse: 0.2011\n",
      "Epoch 3/10\n",
      "278/278 [==============================] - 282s 1s/step - loss: 0.6659 - rmse: 0.2077 - val_loss: 0.6626 - val_rmse: 0.2017\n",
      "Epoch 4/10\n",
      "278/278 [==============================] - 285s 1s/step - loss: 0.6658 - rmse: 0.2078 - val_loss: 0.6622 - val_rmse: 0.2012\n",
      "Epoch 5/10\n",
      "278/278 [==============================] - 285s 1s/step - loss: 0.6656 - rmse: 0.2071 - val_loss: 0.6622 - val_rmse: 0.2012\n",
      "Epoch 6/10\n",
      "278/278 [==============================] - 285s 1s/step - loss: 0.6652 - rmse: 0.2065 - val_loss: 0.6621 - val_rmse: 0.2011\n",
      "Epoch 7/10\n",
      "278/278 [==============================] - 285s 1s/step - loss: 0.6652 - rmse: 0.2070 - val_loss: 0.6621 - val_rmse: 0.2011\n",
      "Epoch 8/10\n",
      "278/278 [==============================] - 285s 1s/step - loss: 0.6653 - rmse: 0.2073 - val_loss: 0.6622 - val_rmse: 0.2012\n",
      "Epoch 9/10\n",
      "278/278 [==============================] - 287s 1s/step - loss: 0.6653 - rmse: 0.2061 - val_loss: 0.6622 - val_rmse: 0.2012\n",
      "Epoch 10/10\n",
      "278/278 [==============================] - 286s 1s/step - loss: 0.6646 - rmse: 0.2072 - val_loss: 0.6622 - val_rmse: 0.2012\n",
      "\n",
      "Validation RMSE: 0.20111951231956482\n",
      "\n",
      "Epoch 1/10\n"
     ]
    },
    {
     "name": "stderr",
     "output_type": "stream",
     "text": [
      "2021-12-18 03:30:07.520185: I tensorflow/core/kernels/data/shuffle_dataset_op.cc:175] Filling up shuffle buffer (this may take a while): 953 of 1024\n",
      "2021-12-18 03:30:08.162947: I tensorflow/core/kernels/data/shuffle_dataset_op.cc:228] Shuffle buffer filled.\n"
     ]
    },
    {
     "name": "stdout",
     "output_type": "stream",
     "text": [
      "278/278 [==============================] - 307s 1s/step - loss: 0.6672 - rmse: 0.2093 - val_loss: 0.6621 - val_rmse: 0.2033\n",
      "Epoch 2/10\n",
      "278/278 [==============================] - 284s 1s/step - loss: 0.6661 - rmse: 0.2080 - val_loss: 0.6623 - val_rmse: 0.2035\n",
      "Epoch 3/10\n",
      "278/278 [==============================] - 285s 1s/step - loss: 0.6657 - rmse: 0.2087 - val_loss: 0.6628 - val_rmse: 0.2041\n",
      "Epoch 4/10\n",
      "278/278 [==============================] - 285s 1s/step - loss: 0.6651 - rmse: 0.2062 - val_loss: 0.6621 - val_rmse: 0.2032\n",
      "Epoch 5/10\n",
      "278/278 [==============================] - 286s 1s/step - loss: 0.6654 - rmse: 0.2066 - val_loss: 0.6622 - val_rmse: 0.2034\n",
      "Epoch 6/10\n",
      "278/278 [==============================] - 286s 1s/step - loss: 0.6653 - rmse: 0.2076 - val_loss: 0.6621 - val_rmse: 0.2032\n",
      "Epoch 7/10\n",
      "278/278 [==============================] - 286s 1s/step - loss: 0.6648 - rmse: 0.2061 - val_loss: 0.6621 - val_rmse: 0.2032\n",
      "Epoch 8/10\n",
      "278/278 [==============================] - 286s 1s/step - loss: 0.6658 - rmse: 0.2078 - val_loss: 0.6621 - val_rmse: 0.2032\n",
      "Epoch 9/10\n",
      "278/278 [==============================] - 285s 1s/step - loss: 0.6648 - rmse: 0.2066 - val_loss: 0.6622 - val_rmse: 0.2033\n",
      "Epoch 10/10\n",
      "278/278 [==============================] - 286s 1s/step - loss: 0.6647 - rmse: 0.2066 - val_loss: 0.6621 - val_rmse: 0.2032\n",
      "\n",
      "Validation RMSE: 0.2032015174627304\n",
      "\n",
      "Epoch 1/10\n"
     ]
    },
    {
     "name": "stderr",
     "output_type": "stream",
     "text": [
      "2021-12-18 04:18:09.162182: I tensorflow/core/kernels/data/shuffle_dataset_op.cc:175] Filling up shuffle buffer (this may take a while): 961 of 1024\n",
      "2021-12-18 04:18:09.996616: I tensorflow/core/kernels/data/shuffle_dataset_op.cc:228] Shuffle buffer filled.\n"
     ]
    },
    {
     "name": "stdout",
     "output_type": "stream",
     "text": [
      "278/278 [==============================] - 307s 1s/step - loss: 0.6672 - rmse: 0.2095 - val_loss: 0.6630 - val_rmse: 0.2027\n",
      "Epoch 2/10\n",
      "278/278 [==============================] - 286s 1s/step - loss: 0.6661 - rmse: 0.2079 - val_loss: 0.6628 - val_rmse: 0.2026\n",
      "Epoch 3/10\n",
      "278/278 [==============================] - 286s 1s/step - loss: 0.6659 - rmse: 0.2085 - val_loss: 0.6627 - val_rmse: 0.2025\n",
      "Epoch 4/10\n",
      "278/278 [==============================] - 285s 1s/step - loss: 0.6653 - rmse: 0.2065 - val_loss: 0.6628 - val_rmse: 0.2026\n",
      "Epoch 5/10\n",
      "278/278 [==============================] - 286s 1s/step - loss: 0.6658 - rmse: 0.2077 - val_loss: 0.6628 - val_rmse: 0.2025\n",
      "Epoch 6/10\n",
      "278/278 [==============================] - 286s 1s/step - loss: 0.6655 - rmse: 0.2073 - val_loss: 0.6627 - val_rmse: 0.2025\n",
      "Epoch 7/10\n",
      "278/278 [==============================] - 286s 1s/step - loss: 0.6652 - rmse: 0.2065 - val_loss: 0.6627 - val_rmse: 0.2024\n",
      "Epoch 8/10\n",
      "278/278 [==============================] - 286s 1s/step - loss: 0.6648 - rmse: 0.2069 - val_loss: 0.6629 - val_rmse: 0.2026\n",
      "Epoch 9/10\n",
      "278/278 [==============================] - 285s 1s/step - loss: 0.6655 - rmse: 0.2075 - val_loss: 0.6631 - val_rmse: 0.2029\n",
      "Epoch 10/10\n",
      "278/278 [==============================] - 287s 1s/step - loss: 0.6653 - rmse: 0.2073 - val_loss: 0.6628 - val_rmse: 0.2026\n",
      "\n",
      "Validation RMSE: 0.2024306058883667\n",
      "\n",
      "Epoch 1/10\n",
      "278/278 [==============================] - 307s 1s/step - loss: 0.6670 - rmse: 0.2096 - val_loss: 0.6615 - val_rmse: 0.2002\n",
      "Epoch 2/10\n",
      "278/278 [==============================] - 284s 1s/step - loss: 0.6662 - rmse: 0.2078 - val_loss: 0.6614 - val_rmse: 0.2001\n",
      "Epoch 3/10\n",
      "278/278 [==============================] - 284s 1s/step - loss: 0.6661 - rmse: 0.2083 - val_loss: 0.6615 - val_rmse: 0.2001\n",
      "Epoch 4/10\n",
      "278/278 [==============================] - 284s 1s/step - loss: 0.6654 - rmse: 0.2070 - val_loss: 0.6616 - val_rmse: 0.2002\n",
      "Epoch 5/10\n",
      "278/278 [==============================] - 285s 1s/step - loss: 0.6651 - rmse: 0.2078 - val_loss: 0.6619 - val_rmse: 0.2007\n",
      "Epoch 6/10\n",
      "278/278 [==============================] - 286s 1s/step - loss: 0.6650 - rmse: 0.2060 - val_loss: 0.6614 - val_rmse: 0.2001\n",
      "Epoch 7/10\n",
      "278/278 [==============================] - 285s 1s/step - loss: 0.6655 - rmse: 0.2076 - val_loss: 0.6615 - val_rmse: 0.2001\n",
      "Epoch 8/10\n",
      "278/278 [==============================] - 286s 1s/step - loss: 0.6654 - rmse: 0.2077 - val_loss: 0.6615 - val_rmse: 0.2002\n",
      "Epoch 9/10\n",
      "278/278 [==============================] - 285s 1s/step - loss: 0.6653 - rmse: 0.2066 - val_loss: 0.6617 - val_rmse: 0.2004\n",
      "Epoch 10/10\n",
      "278/278 [==============================] - 286s 1s/step - loss: 0.6652 - rmse: 0.2083 - val_loss: 0.6614 - val_rmse: 0.2001\n",
      "\n",
      "Validation RMSE: 0.2000531554222107\n",
      "\n",
      "Epoch 1/10\n"
     ]
    },
    {
     "name": "stderr",
     "output_type": "stream",
     "text": [
      "2021-12-18 05:54:14.069084: I tensorflow/core/kernels/data/shuffle_dataset_op.cc:175] Filling up shuffle buffer (this may take a while): 1012 of 1024\n",
      "2021-12-18 05:54:14.146298: I tensorflow/core/kernels/data/shuffle_dataset_op.cc:228] Shuffle buffer filled.\n"
     ]
    },
    {
     "name": "stdout",
     "output_type": "stream",
     "text": [
      "278/278 [==============================] - 309s 1s/step - loss: 0.6667 - rmse: 0.2079 - val_loss: 0.6625 - val_rmse: 0.2017\n",
      "Epoch 2/10\n",
      "278/278 [==============================] - 285s 1s/step - loss: 0.6657 - rmse: 0.2083 - val_loss: 0.6627 - val_rmse: 0.2021\n",
      "Epoch 3/10\n",
      "278/278 [==============================] - 284s 1s/step - loss: 0.6655 - rmse: 0.2077 - val_loss: 0.6626 - val_rmse: 0.2019\n",
      "Epoch 4/10\n",
      "278/278 [==============================] - 285s 1s/step - loss: 0.6658 - rmse: 0.2073 - val_loss: 0.6625 - val_rmse: 0.2017\n",
      "Epoch 5/10\n",
      "278/278 [==============================] - 284s 1s/step - loss: 0.6646 - rmse: 0.2063 - val_loss: 0.6625 - val_rmse: 0.2018\n",
      "Epoch 6/10\n",
      "278/278 [==============================] - 285s 1s/step - loss: 0.6656 - rmse: 0.2081 - val_loss: 0.6625 - val_rmse: 0.2018\n",
      "Epoch 7/10\n",
      "278/278 [==============================] - 286s 1s/step - loss: 0.6644 - rmse: 0.2043 - val_loss: 0.6629 - val_rmse: 0.2023\n",
      "Epoch 8/10\n",
      "278/278 [==============================] - 286s 1s/step - loss: 0.6661 - rmse: 0.2083 - val_loss: 0.6626 - val_rmse: 0.2019\n",
      "Epoch 9/10\n",
      "278/278 [==============================] - 286s 1s/step - loss: 0.6646 - rmse: 0.2072 - val_loss: 0.6625 - val_rmse: 0.2017\n",
      "Epoch 10/10\n",
      "278/278 [==============================] - 286s 1s/step - loss: 0.6652 - rmse: 0.2065 - val_loss: 0.6625 - val_rmse: 0.2018\n",
      "\n",
      "Validation RMSE: 0.20174279808998108\n",
      "\n",
      "Epoch 1/10\n"
     ]
    },
    {
     "name": "stderr",
     "output_type": "stream",
     "text": [
      "2021-12-18 06:42:50.174595: I tensorflow/core/kernels/data/shuffle_dataset_op.cc:175] Filling up shuffle buffer (this may take a while): 964 of 1024\n",
      "2021-12-18 06:42:50.769696: I tensorflow/core/kernels/data/shuffle_dataset_op.cc:228] Shuffle buffer filled.\n"
     ]
    },
    {
     "name": "stdout",
     "output_type": "stream",
     "text": [
      "278/278 [==============================] - 308s 1s/step - loss: 0.6674 - rmse: 0.2098 - val_loss: 0.6622 - val_rmse: 0.1996\n",
      "Epoch 2/10\n",
      "278/278 [==============================] - 284s 1s/step - loss: 0.6654 - rmse: 0.2076 - val_loss: 0.6624 - val_rmse: 0.1998\n",
      "Epoch 3/10\n",
      "278/278 [==============================] - 285s 1s/step - loss: 0.6654 - rmse: 0.2063 - val_loss: 0.6623 - val_rmse: 0.1996\n",
      "Epoch 4/10\n",
      "278/278 [==============================] - 285s 1s/step - loss: 0.6659 - rmse: 0.2079 - val_loss: 0.6622 - val_rmse: 0.1996\n",
      "Epoch 5/10\n",
      "278/278 [==============================] - 287s 1s/step - loss: 0.6645 - rmse: 0.2057 - val_loss: 0.6632 - val_rmse: 0.2007\n",
      "Epoch 6/10\n",
      "278/278 [==============================] - 284s 1s/step - loss: 0.6666 - rmse: 0.2090 - val_loss: 0.6622 - val_rmse: 0.1996\n",
      "Epoch 7/10\n",
      "278/278 [==============================] - 285s 1s/step - loss: 0.6645 - rmse: 0.2058 - val_loss: 0.6624 - val_rmse: 0.1998\n",
      "Epoch 8/10\n",
      "278/278 [==============================] - 286s 1s/step - loss: 0.6650 - rmse: 0.2071 - val_loss: 0.6622 - val_rmse: 0.1995\n",
      "Epoch 9/10\n",
      "278/278 [==============================] - 281s 1s/step - loss: 0.6650 - rmse: 0.2069 - val_loss: 0.6622 - val_rmse: 0.1996\n",
      "Epoch 10/10\n",
      "278/278 [==============================] - 286s 1s/step - loss: 0.6645 - rmse: 0.2058 - val_loss: 0.6623 - val_rmse: 0.1997\n",
      "\n",
      "Validation RMSE: 0.19954532384872437\n",
      "\n",
      "Epoch 1/10\n",
      "278/278 [==============================] - 306s 1s/step - loss: 0.6675 - rmse: 0.2095 - val_loss: 0.6623 - val_rmse: 0.2028\n",
      "Epoch 2/10\n",
      "278/278 [==============================] - 285s 1s/step - loss: 0.6653 - rmse: 0.2077 - val_loss: 0.6623 - val_rmse: 0.2029\n",
      "Epoch 3/10\n",
      "278/278 [==============================] - 285s 1s/step - loss: 0.6655 - rmse: 0.2065 - val_loss: 0.6625 - val_rmse: 0.2031\n",
      "Epoch 4/10\n",
      "278/278 [==============================] - 282s 1s/step - loss: 0.6661 - rmse: 0.2083 - val_loss: 0.6623 - val_rmse: 0.2029\n",
      "Epoch 5/10\n",
      "278/278 [==============================] - 285s 1s/step - loss: 0.6650 - rmse: 0.2073 - val_loss: 0.6625 - val_rmse: 0.2031\n",
      "Epoch 6/10\n",
      "278/278 [==============================] - 286s 1s/step - loss: 0.6654 - rmse: 0.2067 - val_loss: 0.6625 - val_rmse: 0.2031\n",
      "Epoch 7/10\n",
      "278/278 [==============================] - 288s 1s/step - loss: 0.6656 - rmse: 0.2069 - val_loss: 0.6623 - val_rmse: 0.2029\n",
      "Epoch 8/10\n",
      "278/278 [==============================] - 283s 1s/step - loss: 0.6653 - rmse: 0.2070 - val_loss: 0.6634 - val_rmse: 0.2042\n",
      "Epoch 9/10\n",
      "278/278 [==============================] - 284s 1s/step - loss: 0.6653 - rmse: 0.2077 - val_loss: 0.6623 - val_rmse: 0.2029\n",
      "Epoch 10/10\n",
      "278/278 [==============================] - 286s 1s/step - loss: 0.6653 - rmse: 0.2074 - val_loss: 0.6623 - val_rmse: 0.2028\n",
      "\n",
      "Validation RMSE: 0.2028457522392273\n",
      "\n",
      "Epoch 1/10\n"
     ]
    },
    {
     "name": "stderr",
     "output_type": "stream",
     "text": [
      "2021-12-18 08:19:18.969083: I tensorflow/core/kernels/data/shuffle_dataset_op.cc:175] Filling up shuffle buffer (this may take a while): 1015 of 1024\n",
      "2021-12-18 08:19:19.081090: I tensorflow/core/kernels/data/shuffle_dataset_op.cc:228] Shuffle buffer filled.\n"
     ]
    },
    {
     "name": "stdout",
     "output_type": "stream",
     "text": [
      "278/278 [==============================] - 306s 1s/step - loss: 0.6669 - rmse: 0.2088 - val_loss: 0.6627 - val_rmse: 0.2048\n",
      "Epoch 2/10\n",
      "278/278 [==============================] - 290s 1s/step - loss: 0.6656 - rmse: 0.2077 - val_loss: 0.6625 - val_rmse: 0.2046\n",
      "Epoch 3/10\n",
      "278/278 [==============================] - 285s 1s/step - loss: 0.6661 - rmse: 0.2075 - val_loss: 0.6629 - val_rmse: 0.2051\n",
      "Epoch 4/10\n",
      "278/278 [==============================] - 285s 1s/step - loss: 0.6654 - rmse: 0.2068 - val_loss: 0.6625 - val_rmse: 0.2046\n",
      "Epoch 5/10\n",
      "278/278 [==============================] - 284s 1s/step - loss: 0.6655 - rmse: 0.2080 - val_loss: 0.6625 - val_rmse: 0.2046\n",
      "Epoch 6/10\n",
      "278/278 [==============================] - 284s 1s/step - loss: 0.6655 - rmse: 0.2072 - val_loss: 0.6625 - val_rmse: 0.2046\n",
      "Epoch 7/10\n",
      "278/278 [==============================] - 285s 1s/step - loss: 0.6649 - rmse: 0.2068 - val_loss: 0.6626 - val_rmse: 0.2047\n",
      "Epoch 8/10\n",
      "278/278 [==============================] - 283s 1s/step - loss: 0.6651 - rmse: 0.2064 - val_loss: 0.6626 - val_rmse: 0.2047\n",
      "Epoch 9/10\n",
      "278/278 [==============================] - 282s 1s/step - loss: 0.6654 - rmse: 0.2077 - val_loss: 0.6625 - val_rmse: 0.2046\n",
      "Epoch 10/10\n",
      "278/278 [==============================] - 285s 1s/step - loss: 0.6653 - rmse: 0.2065 - val_loss: 0.6625 - val_rmse: 0.2046\n",
      "\n",
      "Validation RMSE: 0.20461750030517578\n",
      "\n",
      "Epoch 1/10\n"
     ]
    },
    {
     "name": "stderr",
     "output_type": "stream",
     "text": [
      "2021-12-18 09:07:52.628425: I tensorflow/core/kernels/data/shuffle_dataset_op.cc:175] Filling up shuffle buffer (this may take a while): 890 of 1024\n",
      "2021-12-18 09:07:54.981005: I tensorflow/core/kernels/data/shuffle_dataset_op.cc:228] Shuffle buffer filled.\n"
     ]
    },
    {
     "name": "stdout",
     "output_type": "stream",
     "text": [
      "278/278 [==============================] - 313s 1s/step - loss: 0.6669 - rmse: 0.2086 - val_loss: 0.6604 - val_rmse: 0.1986\n",
      "Epoch 2/10\n",
      "278/278 [==============================] - 283s 1s/step - loss: 0.6655 - rmse: 0.2074 - val_loss: 0.6604 - val_rmse: 0.1986\n",
      "Epoch 3/10\n",
      "278/278 [==============================] - 283s 1s/step - loss: 0.6654 - rmse: 0.2071 - val_loss: 0.6604 - val_rmse: 0.1986\n",
      "Epoch 4/10\n",
      "278/278 [==============================] - 281s 1s/step - loss: 0.6660 - rmse: 0.2084 - val_loss: 0.6608 - val_rmse: 0.1990\n",
      "Epoch 5/10\n",
      "278/278 [==============================] - 281s 1s/step - loss: 0.6655 - rmse: 0.2079 - val_loss: 0.6612 - val_rmse: 0.1995\n",
      "Epoch 6/10\n",
      "278/278 [==============================] - 284s 1s/step - loss: 0.6656 - rmse: 0.2071 - val_loss: 0.6607 - val_rmse: 0.1989\n",
      "Epoch 7/10\n",
      "278/278 [==============================] - 283s 1s/step - loss: 0.6651 - rmse: 0.2066 - val_loss: 0.6604 - val_rmse: 0.1986\n",
      "Epoch 8/10\n",
      "278/278 [==============================] - 282s 1s/step - loss: 0.6646 - rmse: 0.2059 - val_loss: 0.6608 - val_rmse: 0.1990\n",
      "Epoch 9/10\n",
      "278/278 [==============================] - 282s 1s/step - loss: 0.6653 - rmse: 0.2080 - val_loss: 0.6607 - val_rmse: 0.1989\n",
      "Epoch 10/10\n",
      "278/278 [==============================] - 282s 1s/step - loss: 0.6648 - rmse: 0.2061 - val_loss: 0.6605 - val_rmse: 0.1987\n",
      "\n",
      "Validation RMSE: 0.19859790802001953\n",
      "\n",
      "\n",
      "Mean Validation RMSE: 0.20150767862796784\n",
      "\n"
     ]
    }
   ],
   "source": [
    "all_val_rmse = []\n",
    "\n",
    "# Stratified Training\n",
    "kfold = StratifiedKFold(n_splits = FEATURE_FOLDS, shuffle = True, random_state = SEED)\n",
    "for fold, (train_index, val_index) in enumerate(kfold.split(train_df.index, train_df['stratify_label'])):\n",
    "    \n",
    "    tf.keras.backend.clear_session()\n",
    "    model = build_model()\n",
    "\n",
    "    train_dataset = get_dataset(train_df.loc[train_index, 'filename'], train_df.loc[train_index, 'target_value'], shuffle=True, augment=True, repeat=True)\n",
    "    val_dataset = get_dataset(train_df.loc[train_index, 'filename'], train_df.loc[train_index, 'target_value'], repeat=True)\n",
    "    \n",
    "    # Fit Model\n",
    "    history = model.fit(train_dataset,\n",
    "                        epochs = EPOCHS,\n",
    "                        steps_per_epoch = train_index.shape[0] // BATCH_SIZE,\n",
    "                        validation_steps = val_index.shape[0] // BATCH_SIZE,\n",
    "                        callbacks = [save_checkpoint(fold)],\n",
    "                        validation_data = val_dataset\n",
    "                       )\n",
    "\n",
    "    # Validation Information\n",
    "    best_val_rmse = min(history.history['val_rmse'])\n",
    "    all_val_rmse.append(best_val_rmse)\n",
    "    print(f'\\nValidation RMSE: {best_val_rmse}\\n')\n",
    "print(f'\\nMean Validation RMSE: {np.mean(all_val_rmse)}\\n')\n"
   ]
  },
  {
   "cell_type": "code",
   "execution_count": null,
   "id": "5ce2c489",
   "metadata": {
    "papermill": {
     "duration": 7.259377,
     "end_time": "2021-12-18T09:55:21.909395",
     "exception": false,
     "start_time": "2021-12-18T09:55:14.650018",
     "status": "completed"
    },
    "tags": []
   },
   "outputs": [],
   "source": []
  }
 ],
 "metadata": {
  "kernelspec": {
   "display_name": "Python 3",
   "language": "python",
   "name": "python3"
  },
  "language_info": {
   "codemirror_mode": {
    "name": "ipython",
    "version": 3
   },
   "file_extension": ".py",
   "mimetype": "text/x-python",
   "name": "python",
   "nbconvert_exporter": "python",
   "pygments_lexer": "ipython3",
   "version": "3.7.10"
  },
  "papermill": {
   "default_parameters": {},
   "duration": 28928.795084,
   "end_time": "2021-12-18T09:55:33.549930",
   "environment_variables": {},
   "exception": null,
   "input_path": "__notebook__.ipynb",
   "output_path": "__notebook__.ipynb",
   "parameters": {},
   "start_time": "2021-12-18T01:53:24.754846",
   "version": "2.3.3"
  }
 },
 "nbformat": 4,
 "nbformat_minor": 5
}
