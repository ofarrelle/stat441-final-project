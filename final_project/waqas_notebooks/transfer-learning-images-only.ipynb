{
 "cells": [
  {
   "cell_type": "code",
   "execution_count": 1,
   "id": "beca3f1c",
   "metadata": {
    "_cell_guid": "b1076dfc-b9ad-4769-8c92-a6c4dae69d19",
    "_uuid": "8f2839f25d086af736a60e9eeb907d3b93b6e0e5",
    "execution": {
     "iopub.execute_input": "2021-12-19T20:01:35.675626Z",
     "iopub.status.busy": "2021-12-19T20:01:35.674021Z",
     "iopub.status.idle": "2021-12-19T20:01:35.684297Z",
     "shell.execute_reply": "2021-12-19T20:01:35.683711Z",
     "shell.execute_reply.started": "2021-12-19T19:53:54.20793Z"
    },
    "papermill": {
     "duration": 0.031445,
     "end_time": "2021-12-19T20:01:35.684447",
     "exception": false,
     "start_time": "2021-12-19T20:01:35.653002",
     "status": "completed"
    },
    "tags": []
   },
   "outputs": [],
   "source": [
    "# This Python 3 environment comes with many helpful analytics libraries installed\n",
    "# It is defined by the kaggle/python Docker image: https://github.com/kaggle/docker-python\n",
    "# For example, here's several helpful packages to load\n",
    "\n",
    "import numpy as np # linear algebra\n",
    "import pandas as pd # data processing, CSV file I/O (e.g. pd.read_csv)\n",
    "\n",
    "# Input data files are available in the read-only \"../input/\" directory\n",
    "# For example, running this (by clicking run or pressing Shift+Enter) will list all files under the input directory\n",
    "\n",
    "import os\n",
    "# for dirname, _, filenames in os.walk('/kaggle/input'):\n",
    "#     for filename in filenames:\n",
    "#         print(os.path.join(dirname, filename))\n",
    "\n",
    "# You can write up to 20GB to the current directory (/kaggle/working/) that gets preserved as output when you create a version using \"Save & Run All\" \n",
    "# You can also write temporary files to /kaggle/temp/, but they won't be saved outside of the current session"
   ]
  },
  {
   "cell_type": "code",
   "execution_count": 2,
   "id": "f88cb6cf",
   "metadata": {
    "execution": {
     "iopub.execute_input": "2021-12-19T20:01:35.719427Z",
     "iopub.status.busy": "2021-12-19T20:01:35.718442Z",
     "iopub.status.idle": "2021-12-19T20:01:41.612112Z",
     "shell.execute_reply": "2021-12-19T20:01:41.611132Z",
     "shell.execute_reply.started": "2021-12-19T19:53:54.241311Z"
    },
    "papermill": {
     "duration": 5.912776,
     "end_time": "2021-12-19T20:01:41.612266",
     "exception": false,
     "start_time": "2021-12-19T20:01:35.699490",
     "status": "completed"
    },
    "tags": []
   },
   "outputs": [],
   "source": [
    "import numpy as np\n",
    "import pandas as pd\n",
    "import tensorflow as tf\n",
    "from tensorflow.keras.preprocessing import image\n",
    "from tensorflow.keras import models, Sequential, Input, layers, optimizers, regularizers, callbacks, losses, metrics \n",
    "from matplotlib import pyplot as plt\n",
    "from sklearn.model_selection import KFold, train_test_split\n",
    "\n",
    "import warnings\n",
    "warnings.filterwarnings(\"ignore\")\n",
    "\n",
    "%matplotlib inline"
   ]
  },
  {
   "cell_type": "code",
   "execution_count": 3,
   "id": "baff36fa",
   "metadata": {
    "execution": {
     "iopub.execute_input": "2021-12-19T20:01:41.642601Z",
     "iopub.status.busy": "2021-12-19T20:01:41.640996Z",
     "iopub.status.idle": "2021-12-19T20:01:41.643206Z",
     "shell.execute_reply": "2021-12-19T20:01:41.643625Z",
     "shell.execute_reply.started": "2021-12-19T19:54:00.902721Z"
    },
    "papermill": {
     "duration": 0.019067,
     "end_time": "2021-12-19T20:01:41.643759",
     "exception": false,
     "start_time": "2021-12-19T20:01:41.624692",
     "status": "completed"
    },
    "tags": []
   },
   "outputs": [],
   "source": [
    "# FOR KAGGLE\n",
    "train_images_dir = '../input/petfinder-pawpularity-score/train/'\n",
    "test_images_dir = '../input/petfinder-pawpularity-score/test/'\n",
    "\n",
    "# FOR LOCAL PC\n",
    "# train_images_dir = './dataset/train/'\n",
    "# test_images_dir = './dataset/test/'"
   ]
  },
  {
   "cell_type": "code",
   "execution_count": 4,
   "id": "4f29bf1e",
   "metadata": {
    "execution": {
     "iopub.execute_input": "2021-12-19T20:01:41.673297Z",
     "iopub.status.busy": "2021-12-19T20:01:41.672609Z",
     "iopub.status.idle": "2021-12-19T20:01:41.724788Z",
     "shell.execute_reply": "2021-12-19T20:01:41.724295Z",
     "shell.execute_reply.started": "2021-12-19T19:54:00.914134Z"
    },
    "papermill": {
     "duration": 0.068998,
     "end_time": "2021-12-19T20:01:41.724909",
     "exception": false,
     "start_time": "2021-12-19T20:01:41.655911",
     "status": "completed"
    },
    "tags": []
   },
   "outputs": [],
   "source": [
    "train_df = pd.read_csv('../input/petfinder-pawpularity-score/train.csv')\n",
    "train_df.loc[:, 'filename'] = train_images_dir + train_df['Id'] + '.jpg'\n",
    "\n",
    "test_df = pd.read_csv('../input/petfinder-pawpularity-score/test.csv')\n",
    "test_df.loc[:, 'filename'] = test_images_dir + test_df['Id'] + '.jpg'"
   ]
  },
  {
   "cell_type": "code",
   "execution_count": 5,
   "id": "15d12521",
   "metadata": {
    "execution": {
     "iopub.execute_input": "2021-12-19T20:01:41.755967Z",
     "iopub.status.busy": "2021-12-19T20:01:41.755297Z",
     "iopub.status.idle": "2021-12-19T20:01:41.769648Z",
     "shell.execute_reply": "2021-12-19T20:01:41.770091Z",
     "shell.execute_reply.started": "2021-12-19T19:54:00.994869Z"
    },
    "papermill": {
     "duration": 0.032903,
     "end_time": "2021-12-19T20:01:41.770237",
     "exception": false,
     "start_time": "2021-12-19T20:01:41.737334",
     "status": "completed"
    },
    "tags": []
   },
   "outputs": [
    {
     "data": {
      "text/html": [
       "<div>\n",
       "<style scoped>\n",
       "    .dataframe tbody tr th:only-of-type {\n",
       "        vertical-align: middle;\n",
       "    }\n",
       "\n",
       "    .dataframe tbody tr th {\n",
       "        vertical-align: top;\n",
       "    }\n",
       "\n",
       "    .dataframe thead th {\n",
       "        text-align: right;\n",
       "    }\n",
       "</style>\n",
       "<table border=\"1\" class=\"dataframe\">\n",
       "  <thead>\n",
       "    <tr style=\"text-align: right;\">\n",
       "      <th></th>\n",
       "      <th>Id</th>\n",
       "      <th>Subject Focus</th>\n",
       "      <th>Eyes</th>\n",
       "      <th>Face</th>\n",
       "      <th>Near</th>\n",
       "      <th>Action</th>\n",
       "      <th>Accessory</th>\n",
       "      <th>Group</th>\n",
       "      <th>Collage</th>\n",
       "      <th>Human</th>\n",
       "      <th>Occlusion</th>\n",
       "      <th>Info</th>\n",
       "      <th>Blur</th>\n",
       "      <th>Pawpularity</th>\n",
       "      <th>filename</th>\n",
       "    </tr>\n",
       "  </thead>\n",
       "  <tbody>\n",
       "    <tr>\n",
       "      <th>0</th>\n",
       "      <td>0007de18844b0dbbb5e1f607da0606e0</td>\n",
       "      <td>0</td>\n",
       "      <td>1</td>\n",
       "      <td>1</td>\n",
       "      <td>1</td>\n",
       "      <td>0</td>\n",
       "      <td>0</td>\n",
       "      <td>1</td>\n",
       "      <td>0</td>\n",
       "      <td>0</td>\n",
       "      <td>0</td>\n",
       "      <td>0</td>\n",
       "      <td>0</td>\n",
       "      <td>63</td>\n",
       "      <td>../input/petfinder-pawpularity-score/train/000...</td>\n",
       "    </tr>\n",
       "    <tr>\n",
       "      <th>1</th>\n",
       "      <td>0009c66b9439883ba2750fb825e1d7db</td>\n",
       "      <td>0</td>\n",
       "      <td>1</td>\n",
       "      <td>1</td>\n",
       "      <td>0</td>\n",
       "      <td>0</td>\n",
       "      <td>0</td>\n",
       "      <td>0</td>\n",
       "      <td>0</td>\n",
       "      <td>0</td>\n",
       "      <td>0</td>\n",
       "      <td>0</td>\n",
       "      <td>0</td>\n",
       "      <td>42</td>\n",
       "      <td>../input/petfinder-pawpularity-score/train/000...</td>\n",
       "    </tr>\n",
       "    <tr>\n",
       "      <th>2</th>\n",
       "      <td>0013fd999caf9a3efe1352ca1b0d937e</td>\n",
       "      <td>0</td>\n",
       "      <td>1</td>\n",
       "      <td>1</td>\n",
       "      <td>1</td>\n",
       "      <td>0</td>\n",
       "      <td>0</td>\n",
       "      <td>0</td>\n",
       "      <td>0</td>\n",
       "      <td>1</td>\n",
       "      <td>1</td>\n",
       "      <td>0</td>\n",
       "      <td>0</td>\n",
       "      <td>28</td>\n",
       "      <td>../input/petfinder-pawpularity-score/train/001...</td>\n",
       "    </tr>\n",
       "    <tr>\n",
       "      <th>3</th>\n",
       "      <td>0018df346ac9c1d8413cfcc888ca8246</td>\n",
       "      <td>0</td>\n",
       "      <td>1</td>\n",
       "      <td>1</td>\n",
       "      <td>1</td>\n",
       "      <td>0</td>\n",
       "      <td>0</td>\n",
       "      <td>0</td>\n",
       "      <td>0</td>\n",
       "      <td>0</td>\n",
       "      <td>0</td>\n",
       "      <td>0</td>\n",
       "      <td>0</td>\n",
       "      <td>15</td>\n",
       "      <td>../input/petfinder-pawpularity-score/train/001...</td>\n",
       "    </tr>\n",
       "    <tr>\n",
       "      <th>4</th>\n",
       "      <td>001dc955e10590d3ca4673f034feeef2</td>\n",
       "      <td>0</td>\n",
       "      <td>0</td>\n",
       "      <td>0</td>\n",
       "      <td>1</td>\n",
       "      <td>0</td>\n",
       "      <td>0</td>\n",
       "      <td>1</td>\n",
       "      <td>0</td>\n",
       "      <td>0</td>\n",
       "      <td>0</td>\n",
       "      <td>0</td>\n",
       "      <td>0</td>\n",
       "      <td>72</td>\n",
       "      <td>../input/petfinder-pawpularity-score/train/001...</td>\n",
       "    </tr>\n",
       "  </tbody>\n",
       "</table>\n",
       "</div>"
      ],
      "text/plain": [
       "                                 Id  Subject Focus  Eyes  Face  Near  Action  \\\n",
       "0  0007de18844b0dbbb5e1f607da0606e0              0     1     1     1       0   \n",
       "1  0009c66b9439883ba2750fb825e1d7db              0     1     1     0       0   \n",
       "2  0013fd999caf9a3efe1352ca1b0d937e              0     1     1     1       0   \n",
       "3  0018df346ac9c1d8413cfcc888ca8246              0     1     1     1       0   \n",
       "4  001dc955e10590d3ca4673f034feeef2              0     0     0     1       0   \n",
       "\n",
       "   Accessory  Group  Collage  Human  Occlusion  Info  Blur  Pawpularity  \\\n",
       "0          0      1        0      0          0     0     0           63   \n",
       "1          0      0        0      0          0     0     0           42   \n",
       "2          0      0        0      1          1     0     0           28   \n",
       "3          0      0        0      0          0     0     0           15   \n",
       "4          0      1        0      0          0     0     0           72   \n",
       "\n",
       "                                            filename  \n",
       "0  ../input/petfinder-pawpularity-score/train/000...  \n",
       "1  ../input/petfinder-pawpularity-score/train/000...  \n",
       "2  ../input/petfinder-pawpularity-score/train/001...  \n",
       "3  ../input/petfinder-pawpularity-score/train/001...  \n",
       "4  ../input/petfinder-pawpularity-score/train/001...  "
      ]
     },
     "execution_count": 5,
     "metadata": {},
     "output_type": "execute_result"
    }
   ],
   "source": [
    "train_df.head(5)"
   ]
  },
  {
   "cell_type": "code",
   "execution_count": 6,
   "id": "b2f6b0f3",
   "metadata": {
    "execution": {
     "iopub.execute_input": "2021-12-19T20:01:41.801297Z",
     "iopub.status.busy": "2021-12-19T20:01:41.800676Z",
     "iopub.status.idle": "2021-12-19T20:01:41.810922Z",
     "shell.execute_reply": "2021-12-19T20:01:41.811378Z",
     "shell.execute_reply.started": "2021-12-19T19:54:01.02187Z"
    },
    "papermill": {
     "duration": 0.028366,
     "end_time": "2021-12-19T20:01:41.811522",
     "exception": false,
     "start_time": "2021-12-19T20:01:41.783156",
     "status": "completed"
    },
    "tags": []
   },
   "outputs": [],
   "source": [
    "X_train, X_val, y_train, y_val = train_test_split(train_df.loc[:, train_df.columns != 'Pawpularity'], train_df['Pawpularity'], test_size=0.2, random_state=42)"
   ]
  },
  {
   "cell_type": "code",
   "execution_count": 7,
   "id": "760ec59c",
   "metadata": {
    "execution": {
     "iopub.execute_input": "2021-12-19T20:01:41.848707Z",
     "iopub.status.busy": "2021-12-19T20:01:41.848095Z",
     "iopub.status.idle": "2021-12-19T20:01:41.850925Z",
     "shell.execute_reply": "2021-12-19T20:01:41.850510Z",
     "shell.execute_reply.started": "2021-12-19T19:54:01.041253Z"
    },
    "papermill": {
     "duration": 0.02637,
     "end_time": "2021-12-19T20:01:41.851072",
     "exception": false,
     "start_time": "2021-12-19T20:01:41.824702",
     "status": "completed"
    },
    "tags": []
   },
   "outputs": [],
   "source": [
    "img_size = (320, 320, 3)\n",
    "BATCH_SIZE = 32\n",
    "\n",
    "def augment_image(image, label=None):\n",
    "    image = tf.image.random_flip_left_right(image)\n",
    "    image = tf.image.random_flip_up_down(image)\n",
    "    image = tf.image.random_saturation(image, 0.95, 1.05)\n",
    "    image = tf.image.random_brightness(image, 0.05)\n",
    "    image = tf.image.random_contrast(image, 0.95, 1.05)\n",
    "    image = tf.image.random_hue(image, 0.05)\n",
    "    return image, label\n",
    "\n",
    "def parse_image(filename, label=None):\n",
    "    image_string = tf.io.read_file(filename)\n",
    "    image = tf.image.decode_jpeg(image_string, channels=img_size[2])\n",
    "    image = tf.image.convert_image_dtype(image, tf.float32)\n",
    "    image = tf.cast(image, tf.float32) / 255.0\n",
    "    image = tf.image.resize(image, img_size[:2])\n",
    "    return image, label\n",
    "\n",
    "def get_dataset(filenames, label=None, shuffle=False, augment=False, repeat=False):\n",
    "    dataset = tf.data.TFRecordDataset.from_tensor_slices((filenames, label))     \n",
    "    dataset = dataset.map(parse_image, num_parallel_calls=4)\n",
    "    if augment:\n",
    "        dataset = dataset.map(augment_image, num_parallel_calls=4)\n",
    "    if repeat:\n",
    "        dataset = dataset.repeat()\n",
    "    if shuffle:\n",
    "        dataset = dataset.shuffle(1024, reshuffle_each_iteration = True)\n",
    "    dataset = dataset.batch(BATCH_SIZE)\n",
    "    dataset = dataset.prefetch(True)\n",
    "    return dataset"
   ]
  },
  {
   "cell_type": "code",
   "execution_count": 8,
   "id": "b25dc722",
   "metadata": {
    "execution": {
     "iopub.execute_input": "2021-12-19T20:01:42.051911Z",
     "iopub.status.busy": "2021-12-19T20:01:42.050997Z",
     "iopub.status.idle": "2021-12-19T20:01:44.705088Z",
     "shell.execute_reply": "2021-12-19T20:01:44.704371Z",
     "shell.execute_reply.started": "2021-12-19T19:54:01.057583Z"
    },
    "papermill": {
     "duration": 2.841271,
     "end_time": "2021-12-19T20:01:44.705263",
     "exception": false,
     "start_time": "2021-12-19T20:01:41.863992",
     "status": "completed"
    },
    "tags": []
   },
   "outputs": [
    {
     "name": "stderr",
     "output_type": "stream",
     "text": [
      "2021-12-19 20:01:41.928024: I tensorflow/stream_executor/cuda/cuda_gpu_executor.cc:937] successful NUMA node read from SysFS had negative value (-1), but there must be at least one NUMA node, so returning NUMA node zero\n",
      "2021-12-19 20:01:42.047165: I tensorflow/stream_executor/cuda/cuda_gpu_executor.cc:937] successful NUMA node read from SysFS had negative value (-1), but there must be at least one NUMA node, so returning NUMA node zero\n",
      "2021-12-19 20:01:42.048003: I tensorflow/stream_executor/cuda/cuda_gpu_executor.cc:937] successful NUMA node read from SysFS had negative value (-1), but there must be at least one NUMA node, so returning NUMA node zero\n",
      "2021-12-19 20:01:42.058257: I tensorflow/core/platform/cpu_feature_guard.cc:142] This TensorFlow binary is optimized with oneAPI Deep Neural Network Library (oneDNN) to use the following CPU instructions in performance-critical operations:  AVX2 AVX512F FMA\n",
      "To enable them in other operations, rebuild TensorFlow with the appropriate compiler flags.\n",
      "2021-12-19 20:01:42.059235: I tensorflow/stream_executor/cuda/cuda_gpu_executor.cc:937] successful NUMA node read from SysFS had negative value (-1), but there must be at least one NUMA node, so returning NUMA node zero\n",
      "2021-12-19 20:01:42.060086: I tensorflow/stream_executor/cuda/cuda_gpu_executor.cc:937] successful NUMA node read from SysFS had negative value (-1), but there must be at least one NUMA node, so returning NUMA node zero\n",
      "2021-12-19 20:01:42.060725: I tensorflow/stream_executor/cuda/cuda_gpu_executor.cc:937] successful NUMA node read from SysFS had negative value (-1), but there must be at least one NUMA node, so returning NUMA node zero\n",
      "2021-12-19 20:01:43.999389: I tensorflow/stream_executor/cuda/cuda_gpu_executor.cc:937] successful NUMA node read from SysFS had negative value (-1), but there must be at least one NUMA node, so returning NUMA node zero\n",
      "2021-12-19 20:01:44.000227: I tensorflow/stream_executor/cuda/cuda_gpu_executor.cc:937] successful NUMA node read from SysFS had negative value (-1), but there must be at least one NUMA node, so returning NUMA node zero\n",
      "2021-12-19 20:01:44.000853: I tensorflow/stream_executor/cuda/cuda_gpu_executor.cc:937] successful NUMA node read from SysFS had negative value (-1), but there must be at least one NUMA node, so returning NUMA node zero\n",
      "2021-12-19 20:01:44.001455: I tensorflow/core/common_runtime/gpu/gpu_device.cc:1510] Created device /job:localhost/replica:0/task:0/device:GPU:0 with 15403 MB memory:  -> device: 0, name: Tesla P100-PCIE-16GB, pci bus id: 0000:00:04.0, compute capability: 6.0\n"
     ]
    }
   ],
   "source": [
    "train_dataset = get_dataset(X_train['filename'], y_train, shuffle=True, augment=True)\n",
    "val_dataset = get_dataset(X_val['filename'], y_val)\n",
    "test_dataset = get_dataset(test_df['filename'])\n"
   ]
  },
  {
   "cell_type": "code",
   "execution_count": 9,
   "id": "e06c8c68",
   "metadata": {
    "execution": {
     "iopub.execute_input": "2021-12-19T20:01:44.743507Z",
     "iopub.status.busy": "2021-12-19T20:01:44.741898Z",
     "iopub.status.idle": "2021-12-19T20:01:44.744108Z",
     "shell.execute_reply": "2021-12-19T20:01:44.744533Z",
     "shell.execute_reply.started": "2021-12-19T19:54:04.157702Z"
    },
    "papermill": {
     "duration": 0.02561,
     "end_time": "2021-12-19T20:01:44.744670",
     "exception": false,
     "start_time": "2021-12-19T20:01:44.719060",
     "status": "completed"
    },
    "tags": []
   },
   "outputs": [],
   "source": [
    "def build_model():\n",
    "    top_dropout_rate = 0.2\n",
    "    image_input = Input(shape=img_size)\n",
    "    \n",
    "    mobilenet = tf.keras.applications.MobileNetV3Small(include_top=False, weights=\"imagenet\")\n",
    "    mobilenet.trainable = False\n",
    "    x = mobilenet(image_input)\n",
    "    x = layers.GlobalAveragePooling2D(name=\"avg_pool\")(x)\n",
    "    x = layers.BatchNormalization()(x)\n",
    "    x = layers.Dropout(top_dropout_rate, name=\"top_dropout\")(x)\n",
    "    x = layers.Dense(128, activation=\"relu\", name=\"features\")(x)\n",
    "    x = layers.Dense(64, activation='relu')(x)\n",
    "    x = layers.Dropout(0.3)(x)\n",
    "    x = layers.Dense(16, activation='relu')(x)\n",
    "    output = layers.Dense(1)(x)\n",
    "    # output = layers.Rescaling(100)(z)\n",
    "\n",
    "    model = tf.keras.Model(inputs=image_input, outputs=output)\n",
    "    \n",
    "    model.compile(optimizer=optimizers.Adam(), \n",
    "                  loss=losses.MeanSquaredError(), \n",
    "                  metrics=[metrics.RootMeanSquaredError()]\n",
    "                 )\n",
    "    return model\n",
    "\n",
    "es = callbacks.EarlyStopping(monitor='val_accuracy', mode='max', min_delta=0.002, patience=10)\n",
    "reduce_lr = callbacks.ReduceLROnPlateau(monitor='val_accuracy', factor=0.2,\n",
    "                              patience=5, min_lr=0.000001)"
   ]
  },
  {
   "cell_type": "code",
   "execution_count": 10,
   "id": "b214fa9c",
   "metadata": {
    "execution": {
     "iopub.execute_input": "2021-12-19T20:01:44.776842Z",
     "iopub.status.busy": "2021-12-19T20:01:44.775997Z",
     "iopub.status.idle": "2021-12-19T23:13:51.900648Z",
     "shell.execute_reply": "2021-12-19T23:13:51.901194Z",
     "shell.execute_reply.started": "2021-12-19T19:54:04.210283Z"
    },
    "papermill": {
     "duration": 11527.143288,
     "end_time": "2021-12-19T23:13:51.901365",
     "exception": false,
     "start_time": "2021-12-19T20:01:44.758077",
     "status": "completed"
    },
    "tags": []
   },
   "outputs": [
    {
     "name": "stdout",
     "output_type": "stream",
     "text": [
      "Downloading data from https://storage.googleapis.com/tensorflow/keras-applications/mobilenet_v3/weights_mobilenet_v3_small_224_1.0_float_no_top.h5\n",
      "6701056/6698480 [==============================] - 0s 0us/step\n",
      "6709248/6698480 [==============================] - 0s 0us/step\n",
      "Epoch 1/100\n"
     ]
    },
    {
     "name": "stderr",
     "output_type": "stream",
     "text": [
      "2021-12-19 20:01:49.458077: I tensorflow/compiler/mlir/mlir_graph_optimization_pass.cc:185] None of the MLIR Optimization Passes are enabled (registered 2)\n",
      "2021-12-19 20:01:59.899404: I tensorflow/core/kernels/data/shuffle_dataset_op.cc:175] Filling up shuffle buffer (this may take a while): 933 of 1024\n",
      "2021-12-19 20:02:01.044038: I tensorflow/core/kernels/data/shuffle_dataset_op.cc:228] Shuffle buffer filled.\n",
      "2021-12-19 20:02:02.219421: I tensorflow/stream_executor/cuda/cuda_dnn.cc:369] Loaded cuDNN version 8005\n"
     ]
    },
    {
     "name": "stdout",
     "output_type": "stream",
     "text": [
      "248/248 [==============================] - 115s 381ms/step - loss: 617.4922 - root_mean_squared_error: 24.8494 - val_loss: 446.1660 - val_root_mean_squared_error: 21.1226\n",
      "Epoch 2/100\n",
      "248/248 [==============================] - 90s 328ms/step - loss: 450.1779 - root_mean_squared_error: 21.2174 - val_loss: 445.1878 - val_root_mean_squared_error: 21.0995\n",
      "Epoch 3/100\n",
      "248/248 [==============================] - 91s 329ms/step - loss: 442.8694 - root_mean_squared_error: 21.0445 - val_loss: 446.0062 - val_root_mean_squared_error: 21.1189\n",
      "Epoch 4/100\n",
      "248/248 [==============================] - 89s 322ms/step - loss: 448.2475 - root_mean_squared_error: 21.1719 - val_loss: 460.3998 - val_root_mean_squared_error: 21.4569\n",
      "Epoch 5/100\n",
      "248/248 [==============================] - 90s 327ms/step - loss: 444.1684 - root_mean_squared_error: 21.0753 - val_loss: 462.3688 - val_root_mean_squared_error: 21.5028\n",
      "Epoch 6/100\n",
      "248/248 [==============================] - 87s 316ms/step - loss: 447.7363 - root_mean_squared_error: 21.1598 - val_loss: 448.8504 - val_root_mean_squared_error: 21.1861\n",
      "Epoch 7/100\n",
      "248/248 [==============================] - 89s 326ms/step - loss: 444.5664 - root_mean_squared_error: 21.0847 - val_loss: 449.4654 - val_root_mean_squared_error: 21.2006\n",
      "Epoch 8/100\n",
      "248/248 [==============================] - 91s 327ms/step - loss: 443.3320 - root_mean_squared_error: 21.0555 - val_loss: 450.9901 - val_root_mean_squared_error: 21.2365\n",
      "Epoch 9/100\n",
      "248/248 [==============================] - 91s 329ms/step - loss: 441.4503 - root_mean_squared_error: 21.0107 - val_loss: 442.4379 - val_root_mean_squared_error: 21.0342\n",
      "Epoch 10/100\n",
      "248/248 [==============================] - 91s 328ms/step - loss: 442.9836 - root_mean_squared_error: 21.0472 - val_loss: 443.7183 - val_root_mean_squared_error: 21.0646\n",
      "Epoch 11/100\n",
      "248/248 [==============================] - 89s 319ms/step - loss: 442.7716 - root_mean_squared_error: 21.0421 - val_loss: 443.2634 - val_root_mean_squared_error: 21.0538\n",
      "Epoch 12/100\n",
      "248/248 [==============================] - 90s 327ms/step - loss: 442.9459 - root_mean_squared_error: 21.0463 - val_loss: 443.0528 - val_root_mean_squared_error: 21.0488\n",
      "Epoch 13/100\n",
      "248/248 [==============================] - 91s 325ms/step - loss: 442.1398 - root_mean_squared_error: 21.0271 - val_loss: 442.0379 - val_root_mean_squared_error: 21.0247\n",
      "Epoch 14/100\n",
      "248/248 [==============================] - 91s 332ms/step - loss: 442.0688 - root_mean_squared_error: 21.0254 - val_loss: 447.8855 - val_root_mean_squared_error: 21.1633\n",
      "Epoch 15/100\n",
      "248/248 [==============================] - 89s 322ms/step - loss: 444.7740 - root_mean_squared_error: 21.0897 - val_loss: 445.3288 - val_root_mean_squared_error: 21.1028\n",
      "Epoch 16/100\n"
     ]
    },
    {
     "name": "stderr",
     "output_type": "stream",
     "text": [
      "2021-12-19 20:31:28.164295: I tensorflow/core/kernels/data/shuffle_dataset_op.cc:175] Filling up shuffle buffer (this may take a while): 1019 of 1024\n",
      "2021-12-19 20:31:28.193003: I tensorflow/core/kernels/data/shuffle_dataset_op.cc:228] Shuffle buffer filled.\n"
     ]
    },
    {
     "name": "stdout",
     "output_type": "stream",
     "text": [
      "248/248 [==============================] - 91s 327ms/step - loss: 438.5602 - root_mean_squared_error: 20.9418 - val_loss: 449.0087 - val_root_mean_squared_error: 21.1898\n",
      "Epoch 17/100\n",
      "248/248 [==============================] - 91s 334ms/step - loss: 443.8958 - root_mean_squared_error: 21.0688 - val_loss: 456.1322 - val_root_mean_squared_error: 21.3573\n",
      "Epoch 18/100\n",
      "248/248 [==============================] - 91s 329ms/step - loss: 442.4608 - root_mean_squared_error: 21.0348 - val_loss: 453.4788 - val_root_mean_squared_error: 21.2950\n",
      "Epoch 19/100\n",
      "248/248 [==============================] - 91s 329ms/step - loss: 441.0167 - root_mean_squared_error: 21.0004 - val_loss: 442.0536 - val_root_mean_squared_error: 21.0251\n",
      "Epoch 20/100\n",
      "248/248 [==============================] - 90s 330ms/step - loss: 439.3700 - root_mean_squared_error: 20.9612 - val_loss: 447.6122 - val_root_mean_squared_error: 21.1568\n",
      "Epoch 21/100\n",
      "248/248 [==============================] - 92s 331ms/step - loss: 441.8849 - root_mean_squared_error: 21.0211 - val_loss: 456.7284 - val_root_mean_squared_error: 21.3712\n",
      "Epoch 22/100\n",
      "248/248 [==============================] - 89s 324ms/step - loss: 440.1584 - root_mean_squared_error: 20.9800 - val_loss: 449.2784 - val_root_mean_squared_error: 21.1962\n",
      "Epoch 23/100\n",
      "248/248 [==============================] - 91s 330ms/step - loss: 441.0336 - root_mean_squared_error: 21.0008 - val_loss: 467.7773 - val_root_mean_squared_error: 21.6282\n",
      "Epoch 24/100\n",
      "248/248 [==============================] - 92s 330ms/step - loss: 439.0329 - root_mean_squared_error: 20.9531 - val_loss: 447.4747 - val_root_mean_squared_error: 21.1536\n",
      "Epoch 25/100\n",
      "248/248 [==============================] - 90s 324ms/step - loss: 443.8231 - root_mean_squared_error: 21.0671 - val_loss: 444.4652 - val_root_mean_squared_error: 21.0823\n",
      "Epoch 26/100\n"
     ]
    },
    {
     "name": "stderr",
     "output_type": "stream",
     "text": [
      "2021-12-19 20:50:00.151751: I tensorflow/core/kernels/data/shuffle_dataset_op.cc:175] Filling up shuffle buffer (this may take a while): 964 of 1024\n",
      "2021-12-19 20:50:00.656219: I tensorflow/core/kernels/data/shuffle_dataset_op.cc:228] Shuffle buffer filled.\n"
     ]
    },
    {
     "name": "stdout",
     "output_type": "stream",
     "text": [
      "248/248 [==============================] - 90s 319ms/step - loss: 439.9424 - root_mean_squared_error: 20.9748 - val_loss: 463.1963 - val_root_mean_squared_error: 21.5220\n",
      "Epoch 27/100\n",
      "248/248 [==============================] - 92s 335ms/step - loss: 435.9814 - root_mean_squared_error: 20.8802 - val_loss: 477.7454 - val_root_mean_squared_error: 21.8574\n",
      "Epoch 28/100\n"
     ]
    },
    {
     "name": "stderr",
     "output_type": "stream",
     "text": [
      "2021-12-19 20:53:51.809433: I tensorflow/core/kernels/data/shuffle_dataset_op.cc:175] Filling up shuffle buffer (this may take a while): 946 of 1024\n",
      "2021-12-19 20:53:52.402290: I tensorflow/core/kernels/data/shuffle_dataset_op.cc:228] Shuffle buffer filled.\n"
     ]
    },
    {
     "name": "stdout",
     "output_type": "stream",
     "text": [
      "248/248 [==============================] - 93s 334ms/step - loss: 433.4046 - root_mean_squared_error: 20.8184 - val_loss: 458.0694 - val_root_mean_squared_error: 21.4026\n",
      "Epoch 29/100\n",
      "248/248 [==============================] - 93s 340ms/step - loss: 437.0313 - root_mean_squared_error: 20.9053 - val_loss: 460.7086 - val_root_mean_squared_error: 21.4641\n",
      "Epoch 30/100\n",
      "248/248 [==============================] - 89s 325ms/step - loss: 437.7009 - root_mean_squared_error: 20.9213 - val_loss: 455.2403 - val_root_mean_squared_error: 21.3364\n",
      "Epoch 31/100\n",
      "248/248 [==============================] - 93s 337ms/step - loss: 433.4979 - root_mean_squared_error: 20.8206 - val_loss: 452.7748 - val_root_mean_squared_error: 21.2785\n",
      "Epoch 32/100\n",
      "248/248 [==============================] - 90s 327ms/step - loss: 433.7341 - root_mean_squared_error: 20.8263 - val_loss: 468.4017 - val_root_mean_squared_error: 21.6426\n",
      "Epoch 33/100\n",
      "248/248 [==============================] - 89s 323ms/step - loss: 433.0507 - root_mean_squared_error: 20.8099 - val_loss: 466.1804 - val_root_mean_squared_error: 21.5912\n",
      "Epoch 34/100\n"
     ]
    },
    {
     "name": "stderr",
     "output_type": "stream",
     "text": [
      "2021-12-19 21:03:00.625209: I tensorflow/core/kernels/data/shuffle_dataset_op.cc:175] Filling up shuffle buffer (this may take a while): 980 of 1024\n",
      "2021-12-19 21:03:00.976432: I tensorflow/core/kernels/data/shuffle_dataset_op.cc:228] Shuffle buffer filled.\n"
     ]
    },
    {
     "name": "stdout",
     "output_type": "stream",
     "text": [
      "248/248 [==============================] - 91s 327ms/step - loss: 431.1080 - root_mean_squared_error: 20.7631 - val_loss: 524.1652 - val_root_mean_squared_error: 22.8947\n",
      "Epoch 35/100\n",
      "248/248 [==============================] - 92s 337ms/step - loss: 429.3041 - root_mean_squared_error: 20.7197 - val_loss: 509.8984 - val_root_mean_squared_error: 22.5809\n",
      "Epoch 36/100\n"
     ]
    },
    {
     "name": "stderr",
     "output_type": "stream",
     "text": [
      "2021-12-19 21:06:04.211021: I tensorflow/core/kernels/data/shuffle_dataset_op.cc:175] Filling up shuffle buffer (this may take a while): 953 of 1024\n",
      "2021-12-19 21:06:04.756210: I tensorflow/core/kernels/data/shuffle_dataset_op.cc:228] Shuffle buffer filled.\n"
     ]
    },
    {
     "name": "stdout",
     "output_type": "stream",
     "text": [
      "248/248 [==============================] - 94s 337ms/step - loss: 426.2175 - root_mean_squared_error: 20.6450 - val_loss: 483.1480 - val_root_mean_squared_error: 21.9806\n",
      "Epoch 37/100\n"
     ]
    },
    {
     "name": "stderr",
     "output_type": "stream",
     "text": [
      "2021-12-19 21:08:26.114402: I tensorflow/core/kernels/data/shuffle_dataset_op.cc:175] Filling up shuffle buffer (this may take a while): 953 of 1024\n",
      "2021-12-19 21:08:26.651262: I tensorflow/core/kernels/data/shuffle_dataset_op.cc:228] Shuffle buffer filled.\n"
     ]
    },
    {
     "name": "stdout",
     "output_type": "stream",
     "text": [
      "248/248 [==============================] - 95s 340ms/step - loss: 427.5204 - root_mean_squared_error: 20.6766 - val_loss: 501.7137 - val_root_mean_squared_error: 22.3990\n",
      "Epoch 38/100\n"
     ]
    },
    {
     "name": "stderr",
     "output_type": "stream",
     "text": [
      "2021-12-19 21:10:48.025883: I tensorflow/core/kernels/data/shuffle_dataset_op.cc:175] Filling up shuffle buffer (this may take a while): 946 of 1024\n",
      "2021-12-19 21:10:48.667717: I tensorflow/core/kernels/data/shuffle_dataset_op.cc:228] Shuffle buffer filled.\n"
     ]
    },
    {
     "name": "stdout",
     "output_type": "stream",
     "text": [
      "248/248 [==============================] - 92s 328ms/step - loss: 428.7178 - root_mean_squared_error: 20.7055 - val_loss: 514.4842 - val_root_mean_squared_error: 22.6822\n",
      "Epoch 39/100\n"
     ]
    },
    {
     "name": "stderr",
     "output_type": "stream",
     "text": [
      "2021-12-19 21:13:09.964607: I tensorflow/core/kernels/data/shuffle_dataset_op.cc:175] Filling up shuffle buffer (this may take a while): 893 of 1024\n",
      "2021-12-19 21:13:11.069583: I tensorflow/core/kernels/data/shuffle_dataset_op.cc:228] Shuffle buffer filled.\n"
     ]
    },
    {
     "name": "stdout",
     "output_type": "stream",
     "text": [
      "248/248 [==============================] - 95s 339ms/step - loss: 427.1679 - root_mean_squared_error: 20.6680 - val_loss: 522.1254 - val_root_mean_squared_error: 22.8501\n",
      "Epoch 40/100\n",
      "248/248 [==============================] - 92s 333ms/step - loss: 426.7275 - root_mean_squared_error: 20.6574 - val_loss: 535.3386 - val_root_mean_squared_error: 23.1374\n",
      "Epoch 41/100\n"
     ]
    },
    {
     "name": "stderr",
     "output_type": "stream",
     "text": [
      "2021-12-19 21:16:17.165046: I tensorflow/core/kernels/data/shuffle_dataset_op.cc:175] Filling up shuffle buffer (this may take a while): 942 of 1024\n",
      "2021-12-19 21:16:17.861465: I tensorflow/core/kernels/data/shuffle_dataset_op.cc:228] Shuffle buffer filled.\n"
     ]
    },
    {
     "name": "stdout",
     "output_type": "stream",
     "text": [
      "248/248 [==============================] - 95s 340ms/step - loss: 428.6937 - root_mean_squared_error: 20.7049 - val_loss: 514.9952 - val_root_mean_squared_error: 22.6935\n",
      "Epoch 42/100\n",
      "248/248 [==============================] - 93s 340ms/step - loss: 427.4430 - root_mean_squared_error: 20.6747 - val_loss: 517.3251 - val_root_mean_squared_error: 22.7448\n",
      "Epoch 43/100\n"
     ]
    },
    {
     "name": "stderr",
     "output_type": "stream",
     "text": [
      "2021-12-19 21:19:25.464981: I tensorflow/core/kernels/data/shuffle_dataset_op.cc:175] Filling up shuffle buffer (this may take a while): 907 of 1024\n",
      "2021-12-19 21:19:26.435852: I tensorflow/core/kernels/data/shuffle_dataset_op.cc:228] Shuffle buffer filled.\n"
     ]
    },
    {
     "name": "stdout",
     "output_type": "stream",
     "text": [
      "248/248 [==============================] - 93s 329ms/step - loss: 428.3876 - root_mean_squared_error: 20.6975 - val_loss: 509.3932 - val_root_mean_squared_error: 22.5697\n",
      "Epoch 44/100\n"
     ]
    },
    {
     "name": "stderr",
     "output_type": "stream",
     "text": [
      "2021-12-19 21:21:47.368682: I tensorflow/core/kernels/data/shuffle_dataset_op.cc:175] Filling up shuffle buffer (this may take a while): 901 of 1024\n",
      "2021-12-19 21:21:48.382793: I tensorflow/core/kernels/data/shuffle_dataset_op.cc:228] Shuffle buffer filled.\n"
     ]
    },
    {
     "name": "stdout",
     "output_type": "stream",
     "text": [
      "248/248 [==============================] - 95s 340ms/step - loss: 427.6798 - root_mean_squared_error: 20.6804 - val_loss: 517.8562 - val_root_mean_squared_error: 22.7565\n",
      "Epoch 45/100\n",
      "248/248 [==============================] - 91s 331ms/step - loss: 427.1682 - root_mean_squared_error: 20.6680 - val_loss: 499.8282 - val_root_mean_squared_error: 22.3568\n",
      "Epoch 46/100\n"
     ]
    },
    {
     "name": "stderr",
     "output_type": "stream",
     "text": [
      "2021-12-19 21:24:53.634088: I tensorflow/core/kernels/data/shuffle_dataset_op.cc:175] Filling up shuffle buffer (this may take a while): 925 of 1024\n",
      "2021-12-19 21:24:54.416971: I tensorflow/core/kernels/data/shuffle_dataset_op.cc:228] Shuffle buffer filled.\n"
     ]
    },
    {
     "name": "stdout",
     "output_type": "stream",
     "text": [
      "248/248 [==============================] - 95s 340ms/step - loss: 428.0825 - root_mean_squared_error: 20.6902 - val_loss: 532.5751 - val_root_mean_squared_error: 23.0776\n",
      "Epoch 47/100\n"
     ]
    },
    {
     "name": "stderr",
     "output_type": "stream",
     "text": [
      "2021-12-19 21:27:15.542409: I tensorflow/core/kernels/data/shuffle_dataset_op.cc:175] Filling up shuffle buffer (this may take a while): 905 of 1024\n",
      "2021-12-19 21:27:16.515836: I tensorflow/core/kernels/data/shuffle_dataset_op.cc:228] Shuffle buffer filled.\n"
     ]
    },
    {
     "name": "stdout",
     "output_type": "stream",
     "text": [
      "248/248 [==============================] - 93s 330ms/step - loss: 425.1293 - root_mean_squared_error: 20.6187 - val_loss: 531.1766 - val_root_mean_squared_error: 23.0473\n",
      "Epoch 48/100\n"
     ]
    },
    {
     "name": "stderr",
     "output_type": "stream",
     "text": [
      "2021-12-19 21:29:37.443086: I tensorflow/core/kernels/data/shuffle_dataset_op.cc:175] Filling up shuffle buffer (this may take a while): 875 of 1024\n",
      "2021-12-19 21:29:39.041405: I tensorflow/core/kernels/data/shuffle_dataset_op.cc:228] Shuffle buffer filled.\n"
     ]
    },
    {
     "name": "stdout",
     "output_type": "stream",
     "text": [
      "248/248 [==============================] - 94s 332ms/step - loss: 427.5942 - root_mean_squared_error: 20.6784 - val_loss: 543.1630 - val_root_mean_squared_error: 23.3059\n",
      "Epoch 49/100\n",
      "248/248 [==============================] - 93s 341ms/step - loss: 425.6084 - root_mean_squared_error: 20.6303 - val_loss: 534.8936 - val_root_mean_squared_error: 23.1278\n",
      "Epoch 50/100\n"
     ]
    },
    {
     "name": "stderr",
     "output_type": "stream",
     "text": [
      "2021-12-19 21:33:33.323557: I tensorflow/core/kernels/data/shuffle_dataset_op.cc:175] Filling up shuffle buffer (this may take a while): 866 of 1024\n",
      "2021-12-19 21:33:34.676048: I tensorflow/core/kernels/data/shuffle_dataset_op.cc:228] Shuffle buffer filled.\n"
     ]
    },
    {
     "name": "stdout",
     "output_type": "stream",
     "text": [
      "248/248 [==============================] - 93s 330ms/step - loss: 425.4027 - root_mean_squared_error: 20.6253 - val_loss: 593.0822 - val_root_mean_squared_error: 24.3533\n",
      "Epoch 51/100\n",
      "248/248 [==============================] - 94s 342ms/step - loss: 427.1241 - root_mean_squared_error: 20.6670 - val_loss: 562.5419 - val_root_mean_squared_error: 23.7180\n",
      "Epoch 52/100\n"
     ]
    },
    {
     "name": "stderr",
     "output_type": "stream",
     "text": [
      "2021-12-19 21:37:28.435548: I tensorflow/core/kernels/data/shuffle_dataset_op.cc:175] Filling up shuffle buffer (this may take a while): 866 of 1024\n",
      "2021-12-19 21:37:29.692503: I tensorflow/core/kernels/data/shuffle_dataset_op.cc:228] Shuffle buffer filled.\n"
     ]
    },
    {
     "name": "stdout",
     "output_type": "stream",
     "text": [
      "248/248 [==============================] - 97s 346ms/step - loss: 427.0314 - root_mean_squared_error: 20.6647 - val_loss: 544.7303 - val_root_mean_squared_error: 23.3395\n",
      "Epoch 53/100\n",
      "248/248 [==============================] - 94s 342ms/step - loss: 425.2260 - root_mean_squared_error: 20.6210 - val_loss: 531.7311 - val_root_mean_squared_error: 23.0593\n",
      "Epoch 54/100\n"
     ]
    },
    {
     "name": "stderr",
     "output_type": "stream",
     "text": [
      "2021-12-19 21:40:38.989543: I tensorflow/core/kernels/data/shuffle_dataset_op.cc:175] Filling up shuffle buffer (this may take a while): 793 of 1024\n",
      "2021-12-19 21:40:40.895196: I tensorflow/core/kernels/data/shuffle_dataset_op.cc:228] Shuffle buffer filled.\n"
     ]
    },
    {
     "name": "stdout",
     "output_type": "stream",
     "text": [
      "248/248 [==============================] - 97s 343ms/step - loss: 427.6091 - root_mean_squared_error: 20.6787 - val_loss: 527.6964 - val_root_mean_squared_error: 22.9716\n",
      "Epoch 55/100\n"
     ]
    },
    {
     "name": "stderr",
     "output_type": "stream",
     "text": [
      "2021-12-19 21:43:00.901851: I tensorflow/core/kernels/data/shuffle_dataset_op.cc:175] Filling up shuffle buffer (this may take a while): 866 of 1024\n",
      "2021-12-19 21:43:02.432665: I tensorflow/core/kernels/data/shuffle_dataset_op.cc:228] Shuffle buffer filled.\n"
     ]
    },
    {
     "name": "stdout",
     "output_type": "stream",
     "text": [
      "248/248 [==============================] - 97s 347ms/step - loss: 424.7726 - root_mean_squared_error: 20.6100 - val_loss: 540.3406 - val_root_mean_squared_error: 23.2452\n",
      "Epoch 56/100\n"
     ]
    },
    {
     "name": "stderr",
     "output_type": "stream",
     "text": [
      "2021-12-19 21:45:22.832184: I tensorflow/core/kernels/data/shuffle_dataset_op.cc:175] Filling up shuffle buffer (this may take a while): 872 of 1024\n",
      "2021-12-19 21:45:24.428064: I tensorflow/core/kernels/data/shuffle_dataset_op.cc:228] Shuffle buffer filled.\n"
     ]
    },
    {
     "name": "stdout",
     "output_type": "stream",
     "text": [
      "248/248 [==============================] - 97s 346ms/step - loss: 424.6696 - root_mean_squared_error: 20.6075 - val_loss: 576.0427 - val_root_mean_squared_error: 24.0009\n",
      "Epoch 57/100\n",
      "248/248 [==============================] - 92s 337ms/step - loss: 426.7598 - root_mean_squared_error: 20.6582 - val_loss: 546.9921 - val_root_mean_squared_error: 23.3879\n",
      "Epoch 58/100\n"
     ]
    },
    {
     "name": "stderr",
     "output_type": "stream",
     "text": [
      "2021-12-19 21:48:32.427185: I tensorflow/core/kernels/data/shuffle_dataset_op.cc:175] Filling up shuffle buffer (this may take a while): 836 of 1024\n",
      "2021-12-19 21:48:34.023647: I tensorflow/core/kernels/data/shuffle_dataset_op.cc:228] Shuffle buffer filled.\n"
     ]
    },
    {
     "name": "stdout",
     "output_type": "stream",
     "text": [
      "248/248 [==============================] - 93s 329ms/step - loss: 425.4842 - root_mean_squared_error: 20.6273 - val_loss: 539.2358 - val_root_mean_squared_error: 23.2215\n",
      "Epoch 59/100\n",
      "248/248 [==============================] - 89s 323ms/step - loss: 426.4817 - root_mean_squared_error: 20.6514 - val_loss: 551.2789 - val_root_mean_squared_error: 23.4793\n",
      "Epoch 60/100\n",
      "248/248 [==============================] - 92s 333ms/step - loss: 425.9181 - root_mean_squared_error: 20.6378 - val_loss: 542.8469 - val_root_mean_squared_error: 23.2991\n",
      "Epoch 61/100\n"
     ]
    },
    {
     "name": "stderr",
     "output_type": "stream",
     "text": [
      "2021-12-19 21:53:06.464468: I tensorflow/core/kernels/data/shuffle_dataset_op.cc:175] Filling up shuffle buffer (this may take a while): 817 of 1024\n",
      "2021-12-19 21:53:08.100330: I tensorflow/core/kernels/data/shuffle_dataset_op.cc:228] Shuffle buffer filled.\n"
     ]
    },
    {
     "name": "stdout",
     "output_type": "stream",
     "text": [
      "248/248 [==============================] - 95s 336ms/step - loss: 424.3449 - root_mean_squared_error: 20.5996 - val_loss: 562.4832 - val_root_mean_squared_error: 23.7167\n",
      "Epoch 62/100\n",
      "248/248 [==============================] - 90s 326ms/step - loss: 425.4822 - root_mean_squared_error: 20.6272 - val_loss: 546.0135 - val_root_mean_squared_error: 23.3669\n",
      "Epoch 63/100\n",
      "248/248 [==============================] - 92s 334ms/step - loss: 425.5049 - root_mean_squared_error: 20.6278 - val_loss: 554.8940 - val_root_mean_squared_error: 23.5562\n",
      "Epoch 64/100\n"
     ]
    },
    {
     "name": "stderr",
     "output_type": "stream",
     "text": [
      "2021-12-19 21:57:42.804604: I tensorflow/core/kernels/data/shuffle_dataset_op.cc:175] Filling up shuffle buffer (this may take a while): 760 of 1024\n",
      "2021-12-19 21:57:45.066263: I tensorflow/core/kernels/data/shuffle_dataset_op.cc:228] Shuffle buffer filled.\n"
     ]
    },
    {
     "name": "stdout",
     "output_type": "stream",
     "text": [
      "248/248 [==============================] - 95s 333ms/step - loss: 425.2383 - root_mean_squared_error: 20.6213 - val_loss: 565.5984 - val_root_mean_squared_error: 23.7823\n",
      "Epoch 65/100\n",
      "248/248 [==============================] - 92s 332ms/step - loss: 426.1873 - root_mean_squared_error: 20.6443 - val_loss: 535.3862 - val_root_mean_squared_error: 23.1384\n",
      "Epoch 66/100\n"
     ]
    },
    {
     "name": "stderr",
     "output_type": "stream",
     "text": [
      "2021-12-19 22:01:39.590615: I tensorflow/core/kernels/data/shuffle_dataset_op.cc:175] Filling up shuffle buffer (this may take a while): 765 of 1024\n",
      "2021-12-19 22:01:41.669816: I tensorflow/core/kernels/data/shuffle_dataset_op.cc:228] Shuffle buffer filled.\n"
     ]
    },
    {
     "name": "stdout",
     "output_type": "stream",
     "text": [
      "248/248 [==============================] - 96s 338ms/step - loss: 425.3282 - root_mean_squared_error: 20.6235 - val_loss: 525.5200 - val_root_mean_squared_error: 22.9242\n",
      "Epoch 67/100\n",
      "248/248 [==============================] - 89s 322ms/step - loss: 426.6949 - root_mean_squared_error: 20.6566 - val_loss: 539.4203 - val_root_mean_squared_error: 23.2254\n",
      "Epoch 68/100\n",
      "248/248 [==============================] - 92s 332ms/step - loss: 423.4272 - root_mean_squared_error: 20.5773 - val_loss: 561.6643 - val_root_mean_squared_error: 23.6995\n",
      "Epoch 69/100\n",
      "248/248 [==============================] - 93s 338ms/step - loss: 424.6394 - root_mean_squared_error: 20.6068 - val_loss: 554.3566 - val_root_mean_squared_error: 23.5448\n",
      "Epoch 70/100\n",
      "248/248 [==============================] - 93s 336ms/step - loss: 422.8708 - root_mean_squared_error: 20.5638 - val_loss: 539.6202 - val_root_mean_squared_error: 23.2297\n",
      "Epoch 71/100\n"
     ]
    },
    {
     "name": "stderr",
     "output_type": "stream",
     "text": [
      "2021-12-19 22:11:01.058020: I tensorflow/core/kernels/data/shuffle_dataset_op.cc:175] Filling up shuffle buffer (this may take a while): 733 of 1024\n",
      "2021-12-19 22:11:04.170304: I tensorflow/core/kernels/data/shuffle_dataset_op.cc:228] Shuffle buffer filled.\n"
     ]
    },
    {
     "name": "stdout",
     "output_type": "stream",
     "text": [
      "248/248 [==============================] - 93s 322ms/step - loss: 426.2750 - root_mean_squared_error: 20.6464 - val_loss: 546.5745 - val_root_mean_squared_error: 23.3789\n",
      "Epoch 72/100\n",
      "248/248 [==============================] - 90s 328ms/step - loss: 424.7784 - root_mean_squared_error: 20.6102 - val_loss: 513.8834 - val_root_mean_squared_error: 22.6690\n",
      "Epoch 73/100\n"
     ]
    },
    {
     "name": "stderr",
     "output_type": "stream",
     "text": [
      "2021-12-19 22:14:55.977092: I tensorflow/core/kernels/data/shuffle_dataset_op.cc:175] Filling up shuffle buffer (this may take a while): 670 of 1024\n",
      "2021-12-19 22:14:58.833614: I tensorflow/core/kernels/data/shuffle_dataset_op.cc:228] Shuffle buffer filled.\n"
     ]
    },
    {
     "name": "stdout",
     "output_type": "stream",
     "text": [
      "248/248 [==============================] - 96s 334ms/step - loss: 423.4553 - root_mean_squared_error: 20.5780 - val_loss: 552.2947 - val_root_mean_squared_error: 23.5009\n",
      "Epoch 74/100\n",
      "248/248 [==============================] - 90s 327ms/step - loss: 426.5956 - root_mean_squared_error: 20.6542 - val_loss: 518.2138 - val_root_mean_squared_error: 22.7643\n",
      "Epoch 75/100\n"
     ]
    },
    {
     "name": "stderr",
     "output_type": "stream",
     "text": [
      "2021-12-19 22:18:53.504228: I tensorflow/core/kernels/data/shuffle_dataset_op.cc:175] Filling up shuffle buffer (this may take a while): 747 of 1024\n",
      "2021-12-19 22:18:55.946680: I tensorflow/core/kernels/data/shuffle_dataset_op.cc:228] Shuffle buffer filled.\n"
     ]
    },
    {
     "name": "stdout",
     "output_type": "stream",
     "text": [
      "248/248 [==============================] - 94s 328ms/step - loss: 425.9767 - root_mean_squared_error: 20.6392 - val_loss: 532.0563 - val_root_mean_squared_error: 23.0663\n",
      "Epoch 76/100\n",
      "248/248 [==============================] - 93s 340ms/step - loss: 425.2584 - root_mean_squared_error: 20.6218 - val_loss: 536.6451 - val_root_mean_squared_error: 23.1656\n",
      "Epoch 77/100\n",
      "248/248 [==============================] - 94s 342ms/step - loss: 424.5795 - root_mean_squared_error: 20.6053 - val_loss: 535.0399 - val_root_mean_squared_error: 23.1309\n",
      "Epoch 78/100\n",
      "248/248 [==============================] - 92s 334ms/step - loss: 424.0932 - root_mean_squared_error: 20.5935 - val_loss: 531.5226 - val_root_mean_squared_error: 23.0548\n",
      "Epoch 79/100\n",
      "248/248 [==============================] - 95s 343ms/step - loss: 425.0738 - root_mean_squared_error: 20.6173 - val_loss: 539.3958 - val_root_mean_squared_error: 23.2249\n",
      "Epoch 80/100\n",
      "248/248 [==============================] - 93s 340ms/step - loss: 424.2009 - root_mean_squared_error: 20.5961 - val_loss: 558.2347 - val_root_mean_squared_error: 23.6270\n",
      "Epoch 81/100\n"
     ]
    },
    {
     "name": "stderr",
     "output_type": "stream",
     "text": [
      "2021-12-19 22:30:39.478868: I tensorflow/core/kernels/data/shuffle_dataset_op.cc:175] Filling up shuffle buffer (this may take a while): 701 of 1024\n",
      "2021-12-19 22:30:42.393034: I tensorflow/core/kernels/data/shuffle_dataset_op.cc:228] Shuffle buffer filled.\n"
     ]
    },
    {
     "name": "stdout",
     "output_type": "stream",
     "text": [
      "248/248 [==============================] - 96s 334ms/step - loss: 426.2425 - root_mean_squared_error: 20.6456 - val_loss: 542.5118 - val_root_mean_squared_error: 23.2919\n",
      "Epoch 82/100\n"
     ]
    },
    {
     "name": "stderr",
     "output_type": "stream",
     "text": [
      "2021-12-19 22:33:01.401293: I tensorflow/core/kernels/data/shuffle_dataset_op.cc:175] Filling up shuffle buffer (this may take a while): 714 of 1024\n",
      "2021-12-19 22:33:04.109845: I tensorflow/core/kernels/data/shuffle_dataset_op.cc:228] Shuffle buffer filled.\n"
     ]
    },
    {
     "name": "stdout",
     "output_type": "stream",
     "text": [
      "248/248 [==============================] - 94s 328ms/step - loss: 424.2878 - root_mean_squared_error: 20.5982 - val_loss: 544.2421 - val_root_mean_squared_error: 23.3290\n",
      "Epoch 83/100\n"
     ]
    },
    {
     "name": "stderr",
     "output_type": "stream",
     "text": [
      "2021-12-19 22:35:23.306807: I tensorflow/core/kernels/data/shuffle_dataset_op.cc:175] Filling up shuffle buffer (this may take a while): 677 of 1024\n",
      "2021-12-19 22:35:26.822817: I tensorflow/core/kernels/data/shuffle_dataset_op.cc:228] Shuffle buffer filled.\n"
     ]
    },
    {
     "name": "stdout",
     "output_type": "stream",
     "text": [
      "248/248 [==============================] - 95s 330ms/step - loss: 424.8931 - root_mean_squared_error: 20.6129 - val_loss: 501.3398 - val_root_mean_squared_error: 22.3906\n",
      "Epoch 84/100\n"
     ]
    },
    {
     "name": "stderr",
     "output_type": "stream",
     "text": [
      "2021-12-19 22:37:45.217714: I tensorflow/core/kernels/data/shuffle_dataset_op.cc:175] Filling up shuffle buffer (this may take a while): 679 of 1024\n",
      "2021-12-19 22:37:48.150872: I tensorflow/core/kernels/data/shuffle_dataset_op.cc:228] Shuffle buffer filled.\n"
     ]
    },
    {
     "name": "stdout",
     "output_type": "stream",
     "text": [
      "248/248 [==============================] - 97s 339ms/step - loss: 425.2790 - root_mean_squared_error: 20.6223 - val_loss: 588.8742 - val_root_mean_squared_error: 24.2667\n",
      "Epoch 85/100\n"
     ]
    },
    {
     "name": "stderr",
     "output_type": "stream",
     "text": [
      "2021-12-19 22:40:07.139316: I tensorflow/core/kernels/data/shuffle_dataset_op.cc:175] Filling up shuffle buffer (this may take a while): 647 of 1024\n",
      "2021-12-19 22:40:10.520845: I tensorflow/core/kernels/data/shuffle_dataset_op.cc:228] Shuffle buffer filled.\n"
     ]
    },
    {
     "name": "stdout",
     "output_type": "stream",
     "text": [
      "248/248 [==============================] - 98s 341ms/step - loss: 424.7601 - root_mean_squared_error: 20.6097 - val_loss: 557.3234 - val_root_mean_squared_error: 23.6077\n",
      "Epoch 86/100\n",
      "248/248 [==============================] - 93s 339ms/step - loss: 425.1792 - root_mean_squared_error: 20.6199 - val_loss: 558.3075 - val_root_mean_squared_error: 23.6285\n",
      "Epoch 87/100\n"
     ]
    },
    {
     "name": "stderr",
     "output_type": "stream",
     "text": [
      "2021-12-19 22:44:06.931841: I tensorflow/core/kernels/data/shuffle_dataset_op.cc:175] Filling up shuffle buffer (this may take a while): 677 of 1024\n",
      "2021-12-19 22:44:10.123076: I tensorflow/core/kernels/data/shuffle_dataset_op.cc:228] Shuffle buffer filled.\n"
     ]
    },
    {
     "name": "stdout",
     "output_type": "stream",
     "text": [
      "248/248 [==============================] - 95s 331ms/step - loss: 423.9561 - root_mean_squared_error: 20.5902 - val_loss: 563.5022 - val_root_mean_squared_error: 23.7382\n",
      "Epoch 88/100\n",
      "248/248 [==============================] - 93s 339ms/step - loss: 423.7767 - root_mean_squared_error: 20.5858 - val_loss: 536.5909 - val_root_mean_squared_error: 23.1644\n",
      "Epoch 89/100\n",
      "248/248 [==============================] - 94s 343ms/step - loss: 426.3258 - root_mean_squared_error: 20.6477 - val_loss: 556.5358 - val_root_mean_squared_error: 23.5910\n",
      "Epoch 90/100\n"
     ]
    },
    {
     "name": "stderr",
     "output_type": "stream",
     "text": [
      "2021-12-19 22:50:24.951666: I tensorflow/core/kernels/data/shuffle_dataset_op.cc:175] Filling up shuffle buffer (this may take a while): 682 of 1024\n",
      "2021-12-19 22:50:28.446809: I tensorflow/core/kernels/data/shuffle_dataset_op.cc:228] Shuffle buffer filled.\n"
     ]
    },
    {
     "name": "stdout",
     "output_type": "stream",
     "text": [
      "248/248 [==============================] - 97s 337ms/step - loss: 423.5217 - root_mean_squared_error: 20.5796 - val_loss: 578.0222 - val_root_mean_squared_error: 24.0421\n",
      "Epoch 91/100\n",
      "248/248 [==============================] - 90s 327ms/step - loss: 424.9058 - root_mean_squared_error: 20.6132 - val_loss: 526.7690 - val_root_mean_squared_error: 22.9515\n",
      "Epoch 92/100\n",
      "248/248 [==============================] - 91s 333ms/step - loss: 425.5775 - root_mean_squared_error: 20.6295 - val_loss: 586.9539 - val_root_mean_squared_error: 24.2271\n",
      "Epoch 93/100\n",
      "248/248 [==============================] - 92s 336ms/step - loss: 424.2199 - root_mean_squared_error: 20.5966 - val_loss: 558.9106 - val_root_mean_squared_error: 23.6413\n",
      "Epoch 94/100\n",
      "248/248 [==============================] - 90s 329ms/step - loss: 425.9359 - root_mean_squared_error: 20.6382 - val_loss: 565.4692 - val_root_mean_squared_error: 23.7796\n",
      "Epoch 95/100\n",
      "248/248 [==============================] - 92s 336ms/step - loss: 424.4504 - root_mean_squared_error: 20.6022 - val_loss: 574.4520 - val_root_mean_squared_error: 23.9677\n",
      "Epoch 96/100\n"
     ]
    },
    {
     "name": "stderr",
     "output_type": "stream",
     "text": [
      "2021-12-19 23:03:46.937966: I tensorflow/core/kernels/data/shuffle_dataset_op.cc:175] Filling up shuffle buffer (this may take a while): 666 of 1024\n",
      "2021-12-19 23:03:50.655668: I tensorflow/core/kernels/data/shuffle_dataset_op.cc:228] Shuffle buffer filled.\n"
     ]
    },
    {
     "name": "stdout",
     "output_type": "stream",
     "text": [
      "248/248 [==============================] - 95s 326ms/step - loss: 424.1671 - root_mean_squared_error: 20.5953 - val_loss: 533.8738 - val_root_mean_squared_error: 23.1057\n",
      "Epoch 97/100\n",
      "248/248 [==============================] - 90s 329ms/step - loss: 424.7855 - root_mean_squared_error: 20.6103 - val_loss: 490.4255 - val_root_mean_squared_error: 22.1456\n",
      "Epoch 98/100\n"
     ]
    },
    {
     "name": "stderr",
     "output_type": "stream",
     "text": [
      "2021-12-19 23:07:39.049117: I tensorflow/core/kernels/data/shuffle_dataset_op.cc:175] Filling up shuffle buffer (this may take a while): 694 of 1024\n",
      "2021-12-19 23:07:42.462722: I tensorflow/core/kernels/data/shuffle_dataset_op.cc:228] Shuffle buffer filled.\n"
     ]
    },
    {
     "name": "stdout",
     "output_type": "stream",
     "text": [
      "248/248 [==============================] - 101s 353ms/step - loss: 426.1508 - root_mean_squared_error: 20.6434 - val_loss: 555.5592 - val_root_mean_squared_error: 23.5703\n",
      "Epoch 99/100\n",
      "248/248 [==============================] - 93s 341ms/step - loss: 423.4574 - root_mean_squared_error: 20.5781 - val_loss: 516.1580 - val_root_mean_squared_error: 22.7191\n",
      "Epoch 100/100\n",
      "248/248 [==============================] - 93s 337ms/step - loss: 424.5719 - root_mean_squared_error: 20.6051 - val_loss: 526.8585 - val_root_mean_squared_error: 22.9534\n"
     ]
    }
   ],
   "source": [
    "model = build_model()\n",
    "history = model.fit(\n",
    "    train_dataset,\n",
    "    validation_data=val_dataset,\n",
    "    epochs=100,\n",
    "#     steps_per_epoch=10,\n",
    "#     use_multiprocessing=True,\n",
    "#     callbacks=[es, reduce_lr]\n",
    ")"
   ]
  },
  {
   "cell_type": "code",
   "execution_count": 11,
   "id": "fe20baa2",
   "metadata": {
    "execution": {
     "iopub.execute_input": "2021-12-19T23:14:04.840621Z",
     "iopub.status.busy": "2021-12-19T23:14:04.839915Z",
     "iopub.status.idle": "2021-12-19T23:14:05.028033Z",
     "shell.execute_reply": "2021-12-19T23:14:05.027590Z",
     "shell.execute_reply.started": "2021-12-19T19:56:32.776622Z"
    },
    "papermill": {
     "duration": 6.593636,
     "end_time": "2021-12-19T23:14:05.028169",
     "exception": false,
     "start_time": "2021-12-19T23:13:58.434533",
     "status": "completed"
    },
    "tags": []
   },
   "outputs": [
    {
     "data": {
      "image/png": "[encoded data removed]",
      "text/plain": [
       "<Figure size 432x288 with 1 Axes>"
      ]
     },
     "metadata": {
      "needs_background": "light"
     },
     "output_type": "display_data"
    }
   ],
   "source": [
    "plt.plot(history.history['root_mean_squared_error'])\n",
    "plt.plot(history.history['val_root_mean_squared_error'])\n",
    "plt.legend(['train', 'val'], loc='upper right')\n",
    "plt.show()"
   ]
  },
  {
   "cell_type": "code",
   "execution_count": 12,
   "id": "25cb1627",
   "metadata": {
    "execution": {
     "iopub.execute_input": "2021-12-19T23:14:17.486480Z",
     "iopub.status.busy": "2021-12-19T23:14:17.485519Z",
     "iopub.status.idle": "2021-12-19T23:14:17.653881Z",
     "shell.execute_reply": "2021-12-19T23:14:17.654358Z",
     "shell.execute_reply.started": "2021-12-19T19:56:33.057265Z"
    },
    "papermill": {
     "duration": 6.231801,
     "end_time": "2021-12-19T23:14:17.654513",
     "exception": false,
     "start_time": "2021-12-19T23:14:11.422712",
     "status": "completed"
    },
    "tags": []
   },
   "outputs": [
    {
     "data": {
      "image/png": "[encoded data removed]",
      "text/plain": [
       "<Figure size 432x288 with 1 Axes>"
      ]
     },
     "metadata": {
      "needs_background": "light"
     },
     "output_type": "display_data"
    }
   ],
   "source": [
    "plt.plot(history.history['loss'])\n",
    "plt.plot(history.history['val_loss'])\n",
    "plt.legend(['train', 'val'], loc='upper right')\n",
    "plt.show()"
   ]
  },
  {
   "cell_type": "code",
   "execution_count": 13,
   "id": "c55a8792",
   "metadata": {
    "execution": {
     "iopub.execute_input": "2021-12-19T23:14:30.759856Z",
     "iopub.status.busy": "2021-12-19T23:14:30.759018Z",
     "iopub.status.idle": "2021-12-19T23:14:31.817275Z",
     "shell.execute_reply": "2021-12-19T23:14:31.816709Z",
     "shell.execute_reply.started": "2021-12-19T19:56:33.441948Z"
    },
    "papermill": {
     "duration": 7.592911,
     "end_time": "2021-12-19T23:14:31.817412",
     "exception": false,
     "start_time": "2021-12-19T23:14:24.224501",
     "status": "completed"
    },
    "tags": []
   },
   "outputs": [],
   "source": [
    "preds = model.predict(test_dataset)"
   ]
  },
  {
   "cell_type": "code",
   "execution_count": 14,
   "id": "025dfa6a",
   "metadata": {
    "execution": {
     "iopub.execute_input": "2021-12-19T23:14:44.334101Z",
     "iopub.status.busy": "2021-12-19T23:14:44.332394Z",
     "iopub.status.idle": "2021-12-19T23:14:44.336077Z",
     "shell.execute_reply": "2021-12-19T23:14:44.336503Z",
     "shell.execute_reply.started": "2021-12-19T19:56:34.733251Z"
    },
    "papermill": {
     "duration": 6.397626,
     "end_time": "2021-12-19T23:14:44.336662",
     "exception": false,
     "start_time": "2021-12-19T23:14:37.939036",
     "status": "completed"
    },
    "tags": []
   },
   "outputs": [],
   "source": [
    "submisson_df = test_df[['Id']]\n",
    "submisson_df['Pawpularity'] = preds"
   ]
  },
  {
   "cell_type": "code",
   "execution_count": 15,
   "id": "3b0a1b5f",
   "metadata": {
    "execution": {
     "iopub.execute_input": "2021-12-19T23:14:56.823337Z",
     "iopub.status.busy": "2021-12-19T23:14:56.822510Z",
     "iopub.status.idle": "2021-12-19T23:14:56.825358Z",
     "shell.execute_reply": "2021-12-19T23:14:56.825858Z",
     "shell.execute_reply.started": "2021-12-19T19:56:34.746637Z"
    },
    "papermill": {
     "duration": 6.400572,
     "end_time": "2021-12-19T23:14:56.826013",
     "exception": false,
     "start_time": "2021-12-19T23:14:50.425441",
     "status": "completed"
    },
    "tags": []
   },
   "outputs": [
    {
     "data": {
      "text/html": [
       "<div>\n",
       "<style scoped>\n",
       "    .dataframe tbody tr th:only-of-type {\n",
       "        vertical-align: middle;\n",
       "    }\n",
       "\n",
       "    .dataframe tbody tr th {\n",
       "        vertical-align: top;\n",
       "    }\n",
       "\n",
       "    .dataframe thead th {\n",
       "        text-align: right;\n",
       "    }\n",
       "</style>\n",
       "<table border=\"1\" class=\"dataframe\">\n",
       "  <thead>\n",
       "    <tr style=\"text-align: right;\">\n",
       "      <th></th>\n",
       "      <th>Id</th>\n",
       "      <th>Pawpularity</th>\n",
       "    </tr>\n",
       "  </thead>\n",
       "  <tbody>\n",
       "    <tr>\n",
       "      <th>0</th>\n",
       "      <td>4128bae22183829d2b5fea10effdb0c3</td>\n",
       "      <td>28.840229</td>\n",
       "    </tr>\n",
       "    <tr>\n",
       "      <th>1</th>\n",
       "      <td>43a2262d7738e3d420d453815151079e</td>\n",
       "      <td>28.839809</td>\n",
       "    </tr>\n",
       "    <tr>\n",
       "      <th>2</th>\n",
       "      <td>4e429cead1848a298432a0acad014c9d</td>\n",
       "      <td>28.842529</td>\n",
       "    </tr>\n",
       "    <tr>\n",
       "      <th>3</th>\n",
       "      <td>80bc3ccafcc51b66303c2c263aa38486</td>\n",
       "      <td>28.837849</td>\n",
       "    </tr>\n",
       "    <tr>\n",
       "      <th>4</th>\n",
       "      <td>8f49844c382931444e68dffbe20228f4</td>\n",
       "      <td>28.840046</td>\n",
       "    </tr>\n",
       "    <tr>\n",
       "      <th>5</th>\n",
       "      <td>b03f7041962238a7c9d6537e22f9b017</td>\n",
       "      <td>28.838482</td>\n",
       "    </tr>\n",
       "    <tr>\n",
       "      <th>6</th>\n",
       "      <td>c978013571258ed6d4637f6e8cc9d6a3</td>\n",
       "      <td>28.841515</td>\n",
       "    </tr>\n",
       "    <tr>\n",
       "      <th>7</th>\n",
       "      <td>e0de453c1bffc20c22b072b34b54e50f</td>\n",
       "      <td>28.838799</td>\n",
       "    </tr>\n",
       "  </tbody>\n",
       "</table>\n",
       "</div>"
      ],
      "text/plain": [
       "                                 Id  Pawpularity\n",
       "0  4128bae22183829d2b5fea10effdb0c3    28.840229\n",
       "1  43a2262d7738e3d420d453815151079e    28.839809\n",
       "2  4e429cead1848a298432a0acad014c9d    28.842529\n",
       "3  80bc3ccafcc51b66303c2c263aa38486    28.837849\n",
       "4  8f49844c382931444e68dffbe20228f4    28.840046\n",
       "5  b03f7041962238a7c9d6537e22f9b017    28.838482\n",
       "6  c978013571258ed6d4637f6e8cc9d6a3    28.841515\n",
       "7  e0de453c1bffc20c22b072b34b54e50f    28.838799"
      ]
     },
     "execution_count": 15,
     "metadata": {},
     "output_type": "execute_result"
    }
   ],
   "source": [
    "submisson_df"
   ]
  },
  {
   "cell_type": "code",
   "execution_count": 16,
   "id": "682a0358",
   "metadata": {
    "execution": {
     "iopub.execute_input": "2021-12-19T23:15:09.737800Z",
     "iopub.status.busy": "2021-12-19T23:15:09.736904Z",
     "iopub.status.idle": "2021-12-19T23:15:09.742114Z",
     "shell.execute_reply": "2021-12-19T23:15:09.741627Z",
     "shell.execute_reply.started": "2021-12-19T19:56:34.766161Z"
    },
    "papermill": {
     "duration": 6.293555,
     "end_time": "2021-12-19T23:15:09.742239",
     "exception": false,
     "start_time": "2021-12-19T23:15:03.448684",
     "status": "completed"
    },
    "tags": []
   },
   "outputs": [],
   "source": [
    "submisson_df.to_csv('submission.csv', index=False)"
   ]
  },
  {
   "cell_type": "code",
   "execution_count": 17,
   "id": "49651c16",
   "metadata": {
    "execution": {
     "iopub.execute_input": "2021-12-19T23:15:22.226017Z",
     "iopub.status.busy": "2021-12-19T23:15:22.190277Z",
     "iopub.status.idle": "2021-12-19T23:15:22.421587Z",
     "shell.execute_reply": "2021-12-19T23:15:22.421103Z",
     "shell.execute_reply.started": "2021-12-19T19:56:34.778636Z"
    },
    "papermill": {
     "duration": 6.32967,
     "end_time": "2021-12-19T23:15:22.421715",
     "exception": false,
     "start_time": "2021-12-19T23:15:16.092045",
     "status": "completed"
    },
    "tags": []
   },
   "outputs": [],
   "source": [
    "model.save('/kaggle/working/transfer_images_only_model.h5')"
   ]
  }
 ],
 "metadata": {
  "kernelspec": {
   "display_name": "Python 3",
   "language": "python",
   "name": "python3"
  },
  "language_info": {
   "codemirror_mode": {
    "name": "ipython",
    "version": 3
   },
   "file_extension": ".py",
   "mimetype": "text/x-python",
   "name": "python",
   "nbconvert_exporter": "python",
   "pygments_lexer": "ipython3",
   "version": "3.7.10"
  },
  "papermill": {
   "default_parameters": {},
   "duration": 11643.583834,
   "end_time": "2021-12-19T23:15:31.602035",
   "environment_variables": {},
   "exception": null,
   "input_path": "__notebook__.ipynb",
   "output_path": "__notebook__.ipynb",
   "parameters": {},
   "start_time": "2021-12-19T20:01:28.018201",
   "version": "2.3.3"
  }
 },
 "nbformat": 4,
 "nbformat_minor": 5
}
