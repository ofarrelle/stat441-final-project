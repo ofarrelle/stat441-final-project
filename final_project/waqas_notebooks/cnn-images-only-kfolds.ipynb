{
 "cells": [
  {
   "cell_type": "code",
   "execution_count": 1,
   "id": "0c7e3107",
   "metadata": {
    "_cell_guid": "b1076dfc-b9ad-4769-8c92-a6c4dae69d19",
    "_uuid": "8f2839f25d086af736a60e9eeb907d3b93b6e0e5",
    "execution": {
     "iopub.execute_input": "2021-12-19T20:05:19.443459Z",
     "iopub.status.busy": "2021-12-19T20:05:19.441967Z",
     "iopub.status.idle": "2021-12-19T20:05:19.451701Z",
     "shell.execute_reply": "2021-12-19T20:05:19.451131Z",
     "shell.execute_reply.started": "2021-12-12T02:26:38.55791Z"
    },
    "papermill": {
     "duration": 0.029085,
     "end_time": "2021-12-19T20:05:19.451853",
     "exception": false,
     "start_time": "2021-12-19T20:05:19.422768",
     "status": "completed"
    },
    "tags": []
   },
   "outputs": [],
   "source": [
    "# This Python 3 environment comes with many helpful analytics libraries installed\n",
    "# It is defined by the kaggle/python Docker image: https://github.com/kaggle/docker-python\n",
    "# For example, here's several helpful packages to load\n",
    "\n",
    "import numpy as np # linear algebra\n",
    "import pandas as pd # data processing, CSV file I/O (e.g. pd.read_csv)\n",
    "\n",
    "# Input data files are available in the read-only \"../input/\" directory\n",
    "# For example, running this (by clicking run or pressing Shift+Enter) will list all files under the input directory\n",
    "\n",
    "import os\n",
    "# for dirname, _, filenames in os.walk('/kaggle/input'):\n",
    "#     for filename in filenames:\n",
    "#         print(os.path.join(dirname, filename))\n",
    "\n",
    "# You can write up to 20GB to the current directory (/kaggle/working/) that gets preserved as output when you create a version using \"Save & Run All\" \n",
    "# You can also write temporary files to /kaggle/temp/, but they won't be saved outside of the current session"
   ]
  },
  {
   "cell_type": "code",
   "execution_count": 2,
   "id": "08704431",
   "metadata": {
    "execution": {
     "iopub.execute_input": "2021-12-19T20:05:19.484527Z",
     "iopub.status.busy": "2021-12-19T20:05:19.483928Z",
     "iopub.status.idle": "2021-12-19T20:05:24.901193Z",
     "shell.execute_reply": "2021-12-19T20:05:24.900478Z",
     "shell.execute_reply.started": "2021-12-12T02:26:38.589705Z"
    },
    "papermill": {
     "duration": 5.435382,
     "end_time": "2021-12-19T20:05:24.901341",
     "exception": false,
     "start_time": "2021-12-19T20:05:19.465959",
     "status": "completed"
    },
    "tags": []
   },
   "outputs": [],
   "source": [
    "import numpy as np\n",
    "import pandas as pd\n",
    "import tensorflow as tf\n",
    "from tensorflow.keras.preprocessing import image\n",
    "from tensorflow.keras import models, Sequential, Input, layers, optimizers, regularizers, callbacks, losses, metrics \n",
    "from matplotlib import pyplot as plt\n",
    "from sklearn.model_selection import KFold, train_test_split\n",
    "\n",
    "import warnings\n",
    "warnings.filterwarnings(\"ignore\")\n",
    "\n",
    "%matplotlib inline"
   ]
  },
  {
   "cell_type": "code",
   "execution_count": 3,
   "id": "575dcaa4",
   "metadata": {
    "execution": {
     "iopub.execute_input": "2021-12-19T20:05:24.935967Z",
     "iopub.status.busy": "2021-12-19T20:05:24.935104Z",
     "iopub.status.idle": "2021-12-19T20:05:24.936811Z",
     "shell.execute_reply": "2021-12-19T20:05:24.937333Z",
     "shell.execute_reply.started": "2021-12-12T02:26:44.273003Z"
    },
    "papermill": {
     "duration": 0.019363,
     "end_time": "2021-12-19T20:05:24.937469",
     "exception": false,
     "start_time": "2021-12-19T20:05:24.918106",
     "status": "completed"
    },
    "tags": []
   },
   "outputs": [],
   "source": [
    "# FOR KAGGLE\n",
    "train_images_dir = '../input/petfinder-pawpularity-score/train/'\n",
    "test_images_dir = '../input/petfinder-pawpularity-score/test/'\n",
    "\n",
    "# FOR LOCAL PC\n",
    "# train_images_dir = './dataset/train/'\n",
    "# test_images_dir = './dataset/test/'"
   ]
  },
  {
   "cell_type": "code",
   "execution_count": 4,
   "id": "7d62d90c",
   "metadata": {
    "execution": {
     "iopub.execute_input": "2021-12-19T20:05:24.966888Z",
     "iopub.status.busy": "2021-12-19T20:05:24.966362Z",
     "iopub.status.idle": "2021-12-19T20:05:25.014756Z",
     "shell.execute_reply": "2021-12-19T20:05:25.014258Z",
     "shell.execute_reply.started": "2021-12-12T02:26:44.279245Z"
    },
    "papermill": {
     "duration": 0.065332,
     "end_time": "2021-12-19T20:05:25.014916",
     "exception": false,
     "start_time": "2021-12-19T20:05:24.949584",
     "status": "completed"
    },
    "tags": []
   },
   "outputs": [],
   "source": [
    "train_df = pd.read_csv('../input/petfinder-pawpularity-score/train.csv')\n",
    "train_df.loc[:, 'filename'] = train_images_dir + train_df['Id'] + '.jpg'\n",
    "\n",
    "test_df = pd.read_csv('../input/petfinder-pawpularity-score/test.csv')\n",
    "test_df.loc[:, 'filename'] = test_images_dir + test_df['Id'] + '.jpg'"
   ]
  },
  {
   "cell_type": "code",
   "execution_count": 5,
   "id": "3fe03533",
   "metadata": {
    "execution": {
     "iopub.execute_input": "2021-12-19T20:05:25.046435Z",
     "iopub.status.busy": "2021-12-19T20:05:25.045614Z",
     "iopub.status.idle": "2021-12-19T20:05:25.059606Z",
     "shell.execute_reply": "2021-12-19T20:05:25.060050Z",
     "shell.execute_reply.started": "2021-12-12T02:26:44.343551Z"
    },
    "papermill": {
     "duration": 0.03292,
     "end_time": "2021-12-19T20:05:25.060192",
     "exception": false,
     "start_time": "2021-12-19T20:05:25.027272",
     "status": "completed"
    },
    "tags": []
   },
   "outputs": [
    {
     "data": {
      "text/html": [
       "<div>\n",
       "<style scoped>\n",
       "    .dataframe tbody tr th:only-of-type {\n",
       "        vertical-align: middle;\n",
       "    }\n",
       "\n",
       "    .dataframe tbody tr th {\n",
       "        vertical-align: top;\n",
       "    }\n",
       "\n",
       "    .dataframe thead th {\n",
       "        text-align: right;\n",
       "    }\n",
       "</style>\n",
       "<table border=\"1\" class=\"dataframe\">\n",
       "  <thead>\n",
       "    <tr style=\"text-align: right;\">\n",
       "      <th></th>\n",
       "      <th>Id</th>\n",
       "      <th>Subject Focus</th>\n",
       "      <th>Eyes</th>\n",
       "      <th>Face</th>\n",
       "      <th>Near</th>\n",
       "      <th>Action</th>\n",
       "      <th>Accessory</th>\n",
       "      <th>Group</th>\n",
       "      <th>Collage</th>\n",
       "      <th>Human</th>\n",
       "      <th>Occlusion</th>\n",
       "      <th>Info</th>\n",
       "      <th>Blur</th>\n",
       "      <th>Pawpularity</th>\n",
       "      <th>filename</th>\n",
       "    </tr>\n",
       "  </thead>\n",
       "  <tbody>\n",
       "    <tr>\n",
       "      <th>0</th>\n",
       "      <td>0007de18844b0dbbb5e1f607da0606e0</td>\n",
       "      <td>0</td>\n",
       "      <td>1</td>\n",
       "      <td>1</td>\n",
       "      <td>1</td>\n",
       "      <td>0</td>\n",
       "      <td>0</td>\n",
       "      <td>1</td>\n",
       "      <td>0</td>\n",
       "      <td>0</td>\n",
       "      <td>0</td>\n",
       "      <td>0</td>\n",
       "      <td>0</td>\n",
       "      <td>63</td>\n",
       "      <td>../input/petfinder-pawpularity-score/train/000...</td>\n",
       "    </tr>\n",
       "    <tr>\n",
       "      <th>1</th>\n",
       "      <td>0009c66b9439883ba2750fb825e1d7db</td>\n",
       "      <td>0</td>\n",
       "      <td>1</td>\n",
       "      <td>1</td>\n",
       "      <td>0</td>\n",
       "      <td>0</td>\n",
       "      <td>0</td>\n",
       "      <td>0</td>\n",
       "      <td>0</td>\n",
       "      <td>0</td>\n",
       "      <td>0</td>\n",
       "      <td>0</td>\n",
       "      <td>0</td>\n",
       "      <td>42</td>\n",
       "      <td>../input/petfinder-pawpularity-score/train/000...</td>\n",
       "    </tr>\n",
       "    <tr>\n",
       "      <th>2</th>\n",
       "      <td>0013fd999caf9a3efe1352ca1b0d937e</td>\n",
       "      <td>0</td>\n",
       "      <td>1</td>\n",
       "      <td>1</td>\n",
       "      <td>1</td>\n",
       "      <td>0</td>\n",
       "      <td>0</td>\n",
       "      <td>0</td>\n",
       "      <td>0</td>\n",
       "      <td>1</td>\n",
       "      <td>1</td>\n",
       "      <td>0</td>\n",
       "      <td>0</td>\n",
       "      <td>28</td>\n",
       "      <td>../input/petfinder-pawpularity-score/train/001...</td>\n",
       "    </tr>\n",
       "    <tr>\n",
       "      <th>3</th>\n",
       "      <td>0018df346ac9c1d8413cfcc888ca8246</td>\n",
       "      <td>0</td>\n",
       "      <td>1</td>\n",
       "      <td>1</td>\n",
       "      <td>1</td>\n",
       "      <td>0</td>\n",
       "      <td>0</td>\n",
       "      <td>0</td>\n",
       "      <td>0</td>\n",
       "      <td>0</td>\n",
       "      <td>0</td>\n",
       "      <td>0</td>\n",
       "      <td>0</td>\n",
       "      <td>15</td>\n",
       "      <td>../input/petfinder-pawpularity-score/train/001...</td>\n",
       "    </tr>\n",
       "    <tr>\n",
       "      <th>4</th>\n",
       "      <td>001dc955e10590d3ca4673f034feeef2</td>\n",
       "      <td>0</td>\n",
       "      <td>0</td>\n",
       "      <td>0</td>\n",
       "      <td>1</td>\n",
       "      <td>0</td>\n",
       "      <td>0</td>\n",
       "      <td>1</td>\n",
       "      <td>0</td>\n",
       "      <td>0</td>\n",
       "      <td>0</td>\n",
       "      <td>0</td>\n",
       "      <td>0</td>\n",
       "      <td>72</td>\n",
       "      <td>../input/petfinder-pawpularity-score/train/001...</td>\n",
       "    </tr>\n",
       "  </tbody>\n",
       "</table>\n",
       "</div>"
      ],
      "text/plain": [
       "                                 Id  Subject Focus  Eyes  Face  Near  Action  \\\n",
       "0  0007de18844b0dbbb5e1f607da0606e0              0     1     1     1       0   \n",
       "1  0009c66b9439883ba2750fb825e1d7db              0     1     1     0       0   \n",
       "2  0013fd999caf9a3efe1352ca1b0d937e              0     1     1     1       0   \n",
       "3  0018df346ac9c1d8413cfcc888ca8246              0     1     1     1       0   \n",
       "4  001dc955e10590d3ca4673f034feeef2              0     0     0     1       0   \n",
       "\n",
       "   Accessory  Group  Collage  Human  Occlusion  Info  Blur  Pawpularity  \\\n",
       "0          0      1        0      0          0     0     0           63   \n",
       "1          0      0        0      0          0     0     0           42   \n",
       "2          0      0        0      1          1     0     0           28   \n",
       "3          0      0        0      0          0     0     0           15   \n",
       "4          0      1        0      0          0     0     0           72   \n",
       "\n",
       "                                            filename  \n",
       "0  ../input/petfinder-pawpularity-score/train/000...  \n",
       "1  ../input/petfinder-pawpularity-score/train/000...  \n",
       "2  ../input/petfinder-pawpularity-score/train/001...  \n",
       "3  ../input/petfinder-pawpularity-score/train/001...  \n",
       "4  ../input/petfinder-pawpularity-score/train/001...  "
      ]
     },
     "execution_count": 5,
     "metadata": {},
     "output_type": "execute_result"
    }
   ],
   "source": [
    "train_df.head(5)"
   ]
  },
  {
   "cell_type": "code",
   "execution_count": 6,
   "id": "c50470e7",
   "metadata": {
    "execution": {
     "iopub.execute_input": "2021-12-19T20:05:25.097556Z",
     "iopub.status.busy": "2021-12-19T20:05:25.095375Z",
     "iopub.status.idle": "2021-12-19T20:05:25.102215Z",
     "shell.execute_reply": "2021-12-19T20:05:25.102592Z",
     "shell.execute_reply.started": "2021-12-12T02:26:44.367793Z"
    },
    "papermill": {
     "duration": 0.029412,
     "end_time": "2021-12-19T20:05:25.102734",
     "exception": false,
     "start_time": "2021-12-19T20:05:25.073322",
     "status": "completed"
    },
    "tags": []
   },
   "outputs": [],
   "source": [
    "X_train, X_val, y_train, y_val = train_test_split(train_df.loc[:, train_df.columns != 'Pawpularity'], train_df['Pawpularity'], test_size=0.2, random_state=42)"
   ]
  },
  {
   "cell_type": "code",
   "execution_count": 7,
   "id": "efd27775",
   "metadata": {
    "execution": {
     "iopub.execute_input": "2021-12-19T20:05:25.139122Z",
     "iopub.status.busy": "2021-12-19T20:05:25.138529Z",
     "iopub.status.idle": "2021-12-19T20:05:25.141841Z",
     "shell.execute_reply": "2021-12-19T20:05:25.141409Z",
     "shell.execute_reply.started": "2021-12-12T02:26:44.386534Z"
    },
    "papermill": {
     "duration": 0.026318,
     "end_time": "2021-12-19T20:05:25.141978",
     "exception": false,
     "start_time": "2021-12-19T20:05:25.115660",
     "status": "completed"
    },
    "tags": []
   },
   "outputs": [],
   "source": [
    "img_size = (320, 320, 3)\n",
    "BATCH_SIZE = 32\n",
    "\n",
    "def augment_image(image, label=None):\n",
    "    image = tf.image.random_flip_left_right(image)\n",
    "    image = tf.image.random_flip_up_down(image)\n",
    "    image = tf.image.random_saturation(image, 0.95, 1.05)\n",
    "    image = tf.image.random_brightness(image, 0.05)\n",
    "    image = tf.image.random_contrast(image, 0.95, 1.05)\n",
    "    image = tf.image.random_hue(image, 0.05)\n",
    "    return image, label\n",
    "\n",
    "def parse_image(filename, label=None):\n",
    "    image_string = tf.io.read_file(filename)\n",
    "    image = tf.image.decode_jpeg(image_string, channels=img_size[2])\n",
    "    image = tf.image.convert_image_dtype(image, tf.float32)\n",
    "    image = tf.cast(image, tf.float32) / 255.0\n",
    "    image = tf.image.resize(image, img_size[:2])\n",
    "    return image, label\n",
    "\n",
    "def get_dataset(filenames, label=None, shuffle=False, augment=False, repeat=False):\n",
    "    dataset = tf.data.TFRecordDataset.from_tensor_slices((filenames, label))     \n",
    "    dataset = dataset.map(parse_image, num_parallel_calls=4)\n",
    "    if augment:\n",
    "        dataset = dataset.map(augment_image, num_parallel_calls=4)\n",
    "    if repeat:\n",
    "        dataset = dataset.repeat()\n",
    "    if shuffle:\n",
    "        dataset = dataset.shuffle(1024, reshuffle_each_iteration = True)\n",
    "    dataset = dataset.batch(BATCH_SIZE)\n",
    "    dataset = dataset.prefetch(True)\n",
    "    return dataset"
   ]
  },
  {
   "cell_type": "code",
   "execution_count": 8,
   "id": "0983f7bb",
   "metadata": {
    "execution": {
     "iopub.execute_input": "2021-12-19T20:05:27.201755Z",
     "iopub.status.busy": "2021-12-19T20:05:27.200319Z",
     "iopub.status.idle": "2021-12-19T20:05:27.918774Z",
     "shell.execute_reply": "2021-12-19T20:05:27.917796Z",
     "shell.execute_reply.started": "2021-12-12T02:26:44.395975Z"
    },
    "papermill": {
     "duration": 2.764139,
     "end_time": "2021-12-19T20:05:27.918964",
     "exception": false,
     "start_time": "2021-12-19T20:05:25.154825",
     "status": "completed"
    },
    "tags": []
   },
   "outputs": [
    {
     "name": "stderr",
     "output_type": "stream",
     "text": [
      "2021-12-19 20:05:25.216085: I tensorflow/stream_executor/cuda/cuda_gpu_executor.cc:937] successful NUMA node read from SysFS had negative value (-1), but there must be at least one NUMA node, so returning NUMA node zero\n",
      "2021-12-19 20:05:25.326115: I tensorflow/stream_executor/cuda/cuda_gpu_executor.cc:937] successful NUMA node read from SysFS had negative value (-1), but there must be at least one NUMA node, so returning NUMA node zero\n",
      "2021-12-19 20:05:25.326825: I tensorflow/stream_executor/cuda/cuda_gpu_executor.cc:937] successful NUMA node read from SysFS had negative value (-1), but there must be at least one NUMA node, so returning NUMA node zero\n",
      "2021-12-19 20:05:25.338093: I tensorflow/core/platform/cpu_feature_guard.cc:142] This TensorFlow binary is optimized with oneAPI Deep Neural Network Library (oneDNN) to use the following CPU instructions in performance-critical operations:  AVX2 AVX512F FMA\n",
      "To enable them in other operations, rebuild TensorFlow with the appropriate compiler flags.\n",
      "2021-12-19 20:05:25.338935: I tensorflow/stream_executor/cuda/cuda_gpu_executor.cc:937] successful NUMA node read from SysFS had negative value (-1), but there must be at least one NUMA node, so returning NUMA node zero\n",
      "2021-12-19 20:05:25.339604: I tensorflow/stream_executor/cuda/cuda_gpu_executor.cc:937] successful NUMA node read from SysFS had negative value (-1), but there must be at least one NUMA node, so returning NUMA node zero\n",
      "2021-12-19 20:05:25.340204: I tensorflow/stream_executor/cuda/cuda_gpu_executor.cc:937] successful NUMA node read from SysFS had negative value (-1), but there must be at least one NUMA node, so returning NUMA node zero\n",
      "2021-12-19 20:05:27.190086: I tensorflow/stream_executor/cuda/cuda_gpu_executor.cc:937] successful NUMA node read from SysFS had negative value (-1), but there must be at least one NUMA node, so returning NUMA node zero\n",
      "2021-12-19 20:05:27.190946: I tensorflow/stream_executor/cuda/cuda_gpu_executor.cc:937] successful NUMA node read from SysFS had negative value (-1), but there must be at least one NUMA node, so returning NUMA node zero\n",
      "2021-12-19 20:05:27.191667: I tensorflow/stream_executor/cuda/cuda_gpu_executor.cc:937] successful NUMA node read from SysFS had negative value (-1), but there must be at least one NUMA node, so returning NUMA node zero\n",
      "2021-12-19 20:05:27.192343: I tensorflow/core/common_runtime/gpu/gpu_device.cc:1510] Created device /job:localhost/replica:0/task:0/device:GPU:0 with 15403 MB memory:  -> device: 0, name: Tesla P100-PCIE-16GB, pci bus id: 0000:00:04.0, compute capability: 6.0\n"
     ]
    }
   ],
   "source": [
    "train_dataset = get_dataset(X_train['filename'], y_train, shuffle=True, augment=True)\n",
    "val_dataset = get_dataset(X_val['filename'], y_val)\n",
    "test_dataset = get_dataset(test_df['filename'])"
   ]
  },
  {
   "cell_type": "code",
   "execution_count": 9,
   "id": "65988115",
   "metadata": {
    "execution": {
     "iopub.execute_input": "2021-12-19T20:05:27.960549Z",
     "iopub.status.busy": "2021-12-19T20:05:27.958921Z",
     "iopub.status.idle": "2021-12-19T20:05:27.961148Z",
     "shell.execute_reply": "2021-12-19T20:05:27.961565Z",
     "shell.execute_reply.started": "2021-12-12T02:26:47.061465Z"
    },
    "papermill": {
     "duration": 0.029289,
     "end_time": "2021-12-19T20:05:27.961704",
     "exception": false,
     "start_time": "2021-12-19T20:05:27.932415",
     "status": "completed"
    },
    "tags": []
   },
   "outputs": [],
   "source": [
    "def build_model():\n",
    "    model = Sequential([\n",
    "        layers.Conv2D(16, (3, 3), padding='same', activation='relu'),\n",
    "        layers.MaxPooling2D((2, 2), padding='same'),\n",
    "        layers.Conv2D(16, (3, 3), padding='same', activation='relu'),\n",
    "        layers.BatchNormalization(),\n",
    "        layers.MaxPooling2D((2, 2), padding='same'),\n",
    "        layers.Conv2D(32, (3, 3), padding='same', activation='relu'),\n",
    "        layers.MaxPooling2D((2, 2), padding='same'),\n",
    "        layers.Conv2D(32, (3, 3), padding='same', activation='relu'),\n",
    "        layers.BatchNormalization(),\n",
    "        layers.MaxPooling2D((2, 2), padding='same'),      \n",
    "        layers.Conv2D(32, (3, 3), padding='same', activation='relu'),\n",
    "        layers.BatchNormalization(),\n",
    "        layers.MaxPooling2D((2, 2), padding='same'),      \n",
    "        layers.Conv2D(64, (3, 3), padding='same', activation='relu'),\n",
    "        layers.MaxPooling2D((2, 2), padding='same'),\n",
    "        layers.Conv2D(64, (3, 3), padding='same', activation='relu'),\n",
    "        layers.BatchNormalization(),\n",
    "        layers.MaxPooling2D((2, 2), padding='same'),\n",
    "        layers.Conv2D(64, (3, 3), padding='same', activation='relu'),\n",
    "        layers.BatchNormalization(),\n",
    "        layers.MaxPooling2D((2, 2), padding='same'),\n",
    "        layers.Flatten(),\n",
    "        layers.Dense(258, activation='relu'),\n",
    "        layers.Dropout(0.4),\n",
    "        layers.Dense(128, activation='relu'),\n",
    "        layers.Dropout(0.4),\n",
    "        layers.Dense(64, activation='relu'),\n",
    "        layers.Dropout(0.4),\n",
    "        layers.Dense(1)\n",
    "    ])\n",
    "    model.compile(optimizer=optimizers.Adam(), \n",
    "                  loss=losses.MeanSquaredError(), \n",
    "                  metrics=[metrics.RootMeanSquaredError()]\n",
    "                 )\n",
    "    return model\n",
    "\n",
    "es = callbacks.EarlyStopping(monitor='val_accuracy', mode='max', min_delta=0.002, patience=10)\n",
    "reduce_lr = callbacks.ReduceLROnPlateau(monitor='val_accuracy', factor=0.2,\n",
    "                              patience=5, min_lr=0.000001)"
   ]
  },
  {
   "cell_type": "code",
   "execution_count": 10,
   "id": "6ac05e86",
   "metadata": {
    "execution": {
     "iopub.execute_input": "2021-12-19T20:05:27.992830Z",
     "iopub.status.busy": "2021-12-19T20:05:27.992213Z",
     "iopub.status.idle": "2021-12-19T23:27:17.315323Z",
     "shell.execute_reply": "2021-12-19T23:27:17.315751Z",
     "shell.execute_reply.started": "2021-12-12T02:26:47.079633Z"
    },
    "papermill": {
     "duration": 12109.340961,
     "end_time": "2021-12-19T23:27:17.315957",
     "exception": false,
     "start_time": "2021-12-19T20:05:27.974996",
     "status": "completed"
    },
    "tags": []
   },
   "outputs": [
    {
     "name": "stdout",
     "output_type": "stream",
     "text": [
      "Epoch 1/100\n"
     ]
    },
    {
     "name": "stderr",
     "output_type": "stream",
     "text": [
      "2021-12-19 20:05:28.995288: I tensorflow/compiler/mlir/mlir_graph_optimization_pass.cc:185] None of the MLIR Optimization Passes are enabled (registered 2)\n",
      "2021-12-19 20:05:39.248380: I tensorflow/core/kernels/data/shuffle_dataset_op.cc:175] Filling up shuffle buffer (this may take a while): 892 of 1024\n",
      "2021-12-19 20:05:40.582729: I tensorflow/core/kernels/data/shuffle_dataset_op.cc:228] Shuffle buffer filled.\n",
      "2021-12-19 20:05:41.810440: I tensorflow/stream_executor/cuda/cuda_dnn.cc:369] Loaded cuDNN version 8005\n"
     ]
    },
    {
     "name": "stdout",
     "output_type": "stream",
     "text": [
      "248/248 [==============================] - 112s 375ms/step - loss: 579.4182 - root_mean_squared_error: 24.0711 - val_loss: 461.7269 - val_root_mean_squared_error: 21.4878\n",
      "Epoch 2/100\n",
      "248/248 [==============================] - 92s 333ms/step - loss: 496.3818 - root_mean_squared_error: 22.2796 - val_loss: 442.7378 - val_root_mean_squared_error: 21.0413\n",
      "Epoch 3/100\n",
      "248/248 [==============================] - 90s 324ms/step - loss: 504.8375 - root_mean_squared_error: 22.4686 - val_loss: 454.3772 - val_root_mean_squared_error: 21.3161\n",
      "Epoch 4/100\n",
      "248/248 [==============================] - 87s 315ms/step - loss: 499.6631 - root_mean_squared_error: 22.3531 - val_loss: 448.1712 - val_root_mean_squared_error: 21.1701\n",
      "Epoch 5/100\n",
      "248/248 [==============================] - 90s 326ms/step - loss: 492.5910 - root_mean_squared_error: 22.1944 - val_loss: 473.1177 - val_root_mean_squared_error: 21.7513\n",
      "Epoch 6/100\n",
      "248/248 [==============================] - 92s 330ms/step - loss: 488.4208 - root_mean_squared_error: 22.1002 - val_loss: 490.2743 - val_root_mean_squared_error: 22.1421\n",
      "Epoch 7/100\n",
      "248/248 [==============================] - 91s 329ms/step - loss: 486.4466 - root_mean_squared_error: 22.0555 - val_loss: 455.5639 - val_root_mean_squared_error: 21.3439\n",
      "Epoch 8/100\n",
      "248/248 [==============================] - 92s 332ms/step - loss: 488.5343 - root_mean_squared_error: 22.1028 - val_loss: 444.5683 - val_root_mean_squared_error: 21.0848\n",
      "Epoch 9/100\n",
      "248/248 [==============================] - 92s 332ms/step - loss: 486.1400 - root_mean_squared_error: 22.0486 - val_loss: 448.8763 - val_root_mean_squared_error: 21.1867\n",
      "Epoch 10/100\n",
      "248/248 [==============================] - 90s 324ms/step - loss: 486.4652 - root_mean_squared_error: 22.0560 - val_loss: 449.8077 - val_root_mean_squared_error: 21.2087\n",
      "Epoch 11/100\n",
      "248/248 [==============================] - 89s 321ms/step - loss: 476.9695 - root_mean_squared_error: 21.8396 - val_loss: 442.1615 - val_root_mean_squared_error: 21.0276\n",
      "Epoch 12/100\n",
      "248/248 [==============================] - 92s 336ms/step - loss: 479.2228 - root_mean_squared_error: 21.8912 - val_loss: 478.7804 - val_root_mean_squared_error: 21.8811\n",
      "Epoch 13/100\n"
     ]
    },
    {
     "name": "stderr",
     "output_type": "stream",
     "text": [
      "2021-12-19 20:31:29.084769: I tensorflow/core/kernels/data/shuffle_dataset_op.cc:175] Filling up shuffle buffer (this may take a while): 971 of 1024\n",
      "2021-12-19 20:31:29.500444: I tensorflow/core/kernels/data/shuffle_dataset_op.cc:228] Shuffle buffer filled.\n"
     ]
    },
    {
     "name": "stdout",
     "output_type": "stream",
     "text": [
      "248/248 [==============================] - 92s 331ms/step - loss: 480.7599 - root_mean_squared_error: 21.9262 - val_loss: 445.9574 - val_root_mean_squared_error: 21.1177\n",
      "Epoch 14/100\n",
      "248/248 [==============================] - 90s 329ms/step - loss: 481.5236 - root_mean_squared_error: 21.9436 - val_loss: 445.5953 - val_root_mean_squared_error: 21.1091\n",
      "Epoch 15/100\n"
     ]
    },
    {
     "name": "stderr",
     "output_type": "stream",
     "text": [
      "2021-12-19 20:35:23.594684: I tensorflow/core/kernels/data/shuffle_dataset_op.cc:175] Filling up shuffle buffer (this may take a while): 991 of 1024\n",
      "2021-12-19 20:35:23.885645: I tensorflow/core/kernels/data/shuffle_dataset_op.cc:228] Shuffle buffer filled.\n"
     ]
    },
    {
     "name": "stdout",
     "output_type": "stream",
     "text": [
      "248/248 [==============================] - 91s 324ms/step - loss: 474.5423 - root_mean_squared_error: 21.7840 - val_loss: 443.8213 - val_root_mean_squared_error: 21.0671\n",
      "Epoch 16/100\n",
      "248/248 [==============================] - 93s 337ms/step - loss: 476.7423 - root_mean_squared_error: 21.8344 - val_loss: 449.1667 - val_root_mean_squared_error: 21.1936\n",
      "Epoch 17/100\n",
      "248/248 [==============================] - 94s 338ms/step - loss: 478.3229 - root_mean_squared_error: 21.8706 - val_loss: 501.2471 - val_root_mean_squared_error: 22.3885\n",
      "Epoch 18/100\n",
      "248/248 [==============================] - 94s 342ms/step - loss: 478.7625 - root_mean_squared_error: 21.8806 - val_loss: 445.9015 - val_root_mean_squared_error: 21.1164\n",
      "Epoch 19/100\n"
     ]
    },
    {
     "name": "stderr",
     "output_type": "stream",
     "text": [
      "2021-12-19 20:44:03.078226: I tensorflow/core/kernels/data/shuffle_dataset_op.cc:175] Filling up shuffle buffer (this may take a while): 982 of 1024\n",
      "2021-12-19 20:44:03.547606: I tensorflow/core/kernels/data/shuffle_dataset_op.cc:228] Shuffle buffer filled.\n"
     ]
    },
    {
     "name": "stdout",
     "output_type": "stream",
     "text": [
      "248/248 [==============================] - 94s 336ms/step - loss: 474.3042 - root_mean_squared_error: 21.7785 - val_loss: 444.3696 - val_root_mean_squared_error: 21.0801\n",
      "Epoch 20/100\n",
      "248/248 [==============================] - 90s 324ms/step - loss: 482.1166 - root_mean_squared_error: 21.9572 - val_loss: 442.2357 - val_root_mean_squared_error: 21.0294\n",
      "Epoch 21/100\n",
      "248/248 [==============================] - 91s 326ms/step - loss: 473.0718 - root_mean_squared_error: 21.7502 - val_loss: 448.6133 - val_root_mean_squared_error: 21.1805\n",
      "Epoch 22/100\n",
      "248/248 [==============================] - 90s 329ms/step - loss: 473.5408 - root_mean_squared_error: 21.7610 - val_loss: 442.2787 - val_root_mean_squared_error: 21.0304\n",
      "Epoch 23/100\n",
      "248/248 [==============================] - 94s 340ms/step - loss: 473.9581 - root_mean_squared_error: 21.7706 - val_loss: 457.2372 - val_root_mean_squared_error: 21.3831\n",
      "Epoch 24/100\n",
      "248/248 [==============================] - 94s 344ms/step - loss: 471.5051 - root_mean_squared_error: 21.7142 - val_loss: 445.6122 - val_root_mean_squared_error: 21.1095\n",
      "Epoch 25/100\n",
      "248/248 [==============================] - 90s 326ms/step - loss: 471.2252 - root_mean_squared_error: 21.7077 - val_loss: 443.4735 - val_root_mean_squared_error: 21.0588\n",
      "Epoch 26/100\n"
     ]
    },
    {
     "name": "stderr",
     "output_type": "stream",
     "text": [
      "2021-12-19 20:58:10.244335: I tensorflow/core/kernels/data/shuffle_dataset_op.cc:175] Filling up shuffle buffer (this may take a while): 996 of 1024\n",
      "2021-12-19 20:58:10.554511: I tensorflow/core/kernels/data/shuffle_dataset_op.cc:228] Shuffle buffer filled.\n"
     ]
    },
    {
     "name": "stdout",
     "output_type": "stream",
     "text": [
      "248/248 [==============================] - 92s 331ms/step - loss: 473.7979 - root_mean_squared_error: 21.7669 - val_loss: 444.7381 - val_root_mean_squared_error: 21.0888\n",
      "Epoch 27/100\n"
     ]
    },
    {
     "name": "stderr",
     "output_type": "stream",
     "text": [
      "2021-12-19 21:00:32.146448: I tensorflow/core/kernels/data/shuffle_dataset_op.cc:175] Filling up shuffle buffer (this may take a while): 936 of 1024\n",
      "2021-12-19 21:00:33.123154: I tensorflow/core/kernels/data/shuffle_dataset_op.cc:228] Shuffle buffer filled.\n"
     ]
    },
    {
     "name": "stdout",
     "output_type": "stream",
     "text": [
      "248/248 [==============================] - 96s 341ms/step - loss: 467.8179 - root_mean_squared_error: 21.6291 - val_loss: 453.8386 - val_root_mean_squared_error: 21.3035\n",
      "Epoch 28/100\n"
     ]
    },
    {
     "name": "stderr",
     "output_type": "stream",
     "text": [
      "2021-12-19 21:02:54.074996: I tensorflow/core/kernels/data/shuffle_dataset_op.cc:175] Filling up shuffle buffer (this may take a while): 974 of 1024\n",
      "2021-12-19 21:02:54.487566: I tensorflow/core/kernels/data/shuffle_dataset_op.cc:228] Shuffle buffer filled.\n"
     ]
    },
    {
     "name": "stdout",
     "output_type": "stream",
     "text": [
      "248/248 [==============================] - 92s 330ms/step - loss: 475.7142 - root_mean_squared_error: 21.8109 - val_loss: 442.9559 - val_root_mean_squared_error: 21.0465\n",
      "Epoch 29/100\n"
     ]
    },
    {
     "name": "stderr",
     "output_type": "stream",
     "text": [
      "2021-12-19 21:05:15.992484: I tensorflow/core/kernels/data/shuffle_dataset_op.cc:175] Filling up shuffle buffer (this may take a while): 932 of 1024\n",
      "2021-12-19 21:05:16.777421: I tensorflow/core/kernels/data/shuffle_dataset_op.cc:228] Shuffle buffer filled.\n"
     ]
    },
    {
     "name": "stdout",
     "output_type": "stream",
     "text": [
      "248/248 [==============================] - 95s 340ms/step - loss: 471.7023 - root_mean_squared_error: 21.7187 - val_loss: 445.2032 - val_root_mean_squared_error: 21.0998\n",
      "Epoch 30/100\n",
      "248/248 [==============================] - 91s 333ms/step - loss: 469.9768 - root_mean_squared_error: 21.6789 - val_loss: 444.5384 - val_root_mean_squared_error: 21.0841\n",
      "Epoch 31/100\n"
     ]
    },
    {
     "name": "stderr",
     "output_type": "stream",
     "text": [
      "2021-12-19 21:09:13.063959: I tensorflow/core/kernels/data/shuffle_dataset_op.cc:175] Filling up shuffle buffer (this may take a while): 959 of 1024\n",
      "2021-12-19 21:09:13.593325: I tensorflow/core/kernels/data/shuffle_dataset_op.cc:228] Shuffle buffer filled.\n"
     ]
    },
    {
     "name": "stdout",
     "output_type": "stream",
     "text": [
      "248/248 [==============================] - 91s 325ms/step - loss: 471.8005 - root_mean_squared_error: 21.7210 - val_loss: 442.8589 - val_root_mean_squared_error: 21.0442\n",
      "Epoch 32/100\n",
      "248/248 [==============================] - 91s 330ms/step - loss: 464.6000 - root_mean_squared_error: 21.5546 - val_loss: 473.3536 - val_root_mean_squared_error: 21.7567\n",
      "Epoch 33/100\n"
     ]
    },
    {
     "name": "stderr",
     "output_type": "stream",
     "text": [
      "2021-12-19 21:13:06.243698: I tensorflow/core/kernels/data/shuffle_dataset_op.cc:175] Filling up shuffle buffer (this may take a while): 942 of 1024\n",
      "2021-12-19 21:13:06.906757: I tensorflow/core/kernels/data/shuffle_dataset_op.cc:228] Shuffle buffer filled.\n"
     ]
    },
    {
     "name": "stdout",
     "output_type": "stream",
     "text": [
      "248/248 [==============================] - 95s 341ms/step - loss: 468.7138 - root_mean_squared_error: 21.6498 - val_loss: 446.4199 - val_root_mean_squared_error: 21.1287\n",
      "Epoch 34/100\n",
      "248/248 [==============================] - 95s 347ms/step - loss: 470.2253 - root_mean_squared_error: 21.6847 - val_loss: 443.5686 - val_root_mean_squared_error: 21.0611\n",
      "Epoch 35/100\n"
     ]
    },
    {
     "name": "stderr",
     "output_type": "stream",
     "text": [
      "2021-12-19 21:17:03.483607: I tensorflow/core/kernels/data/shuffle_dataset_op.cc:175] Filling up shuffle buffer (this may take a while): 867 of 1024\n",
      "2021-12-19 21:17:04.858817: I tensorflow/core/kernels/data/shuffle_dataset_op.cc:228] Shuffle buffer filled.\n"
     ]
    },
    {
     "name": "stdout",
     "output_type": "stream",
     "text": [
      "248/248 [==============================] - 97s 345ms/step - loss: 469.3278 - root_mean_squared_error: 21.6640 - val_loss: 443.9575 - val_root_mean_squared_error: 21.0703\n",
      "Epoch 36/100\n",
      "248/248 [==============================] - 96s 349ms/step - loss: 467.0056 - root_mean_squared_error: 21.6103 - val_loss: 447.1738 - val_root_mean_squared_error: 21.1465\n",
      "Epoch 37/100\n",
      "248/248 [==============================] - 94s 342ms/step - loss: 460.8084 - root_mean_squared_error: 21.4664 - val_loss: 452.6631 - val_root_mean_squared_error: 21.2759\n",
      "Epoch 38/100\n"
     ]
    },
    {
     "name": "stderr",
     "output_type": "stream",
     "text": [
      "2021-12-19 21:21:50.364380: I tensorflow/core/kernels/data/shuffle_dataset_op.cc:175] Filling up shuffle buffer (this may take a while): 942 of 1024\n",
      "2021-12-19 21:21:51.047257: I tensorflow/core/kernels/data/shuffle_dataset_op.cc:228] Shuffle buffer filled.\n"
     ]
    },
    {
     "name": "stdout",
     "output_type": "stream",
     "text": [
      "248/248 [==============================] - 93s 333ms/step - loss: 461.5403 - root_mean_squared_error: 21.4835 - val_loss: 442.3746 - val_root_mean_squared_error: 21.0327\n",
      "Epoch 39/100\n",
      "248/248 [==============================] - 94s 343ms/step - loss: 466.9629 - root_mean_squared_error: 21.6093 - val_loss: 447.4021 - val_root_mean_squared_error: 21.1519\n",
      "Epoch 40/100\n"
     ]
    },
    {
     "name": "stderr",
     "output_type": "stream",
     "text": [
      "2021-12-19 21:24:57.756763: I tensorflow/core/kernels/data/shuffle_dataset_op.cc:175] Filling up shuffle buffer (this may take a while): 925 of 1024\n",
      "2021-12-19 21:24:58.620398: I tensorflow/core/kernels/data/shuffle_dataset_op.cc:228] Shuffle buffer filled.\n"
     ]
    },
    {
     "name": "stdout",
     "output_type": "stream",
     "text": [
      "248/248 [==============================] - 97s 346ms/step - loss: 463.2808 - root_mean_squared_error: 21.5240 - val_loss: 446.1045 - val_root_mean_squared_error: 21.1212\n",
      "Epoch 41/100\n",
      "248/248 [==============================] - 96s 351ms/step - loss: 459.9797 - root_mean_squared_error: 21.4471 - val_loss: 446.8396 - val_root_mean_squared_error: 21.1386\n",
      "Epoch 42/100\n",
      "248/248 [==============================] - 91s 330ms/step - loss: 459.0573 - root_mean_squared_error: 21.4256 - val_loss: 449.8099 - val_root_mean_squared_error: 21.2087\n",
      "Epoch 43/100\n"
     ]
    },
    {
     "name": "stderr",
     "output_type": "stream",
     "text": [
      "2021-12-19 21:29:41.526020: I tensorflow/core/kernels/data/shuffle_dataset_op.cc:175] Filling up shuffle buffer (this may take a while): 903 of 1024\n",
      "2021-12-19 21:29:43.023912: I tensorflow/core/kernels/data/shuffle_dataset_op.cc:228] Shuffle buffer filled.\n"
     ]
    },
    {
     "name": "stdout",
     "output_type": "stream",
     "text": [
      "248/248 [==============================] - 94s 331ms/step - loss: 463.4279 - root_mean_squared_error: 21.5274 - val_loss: 446.9424 - val_root_mean_squared_error: 21.1410\n",
      "Epoch 44/100\n"
     ]
    },
    {
     "name": "stderr",
     "output_type": "stream",
     "text": [
      "2021-12-19 21:32:03.437051: I tensorflow/core/kernels/data/shuffle_dataset_op.cc:175] Filling up shuffle buffer (this may take a while): 898 of 1024\n",
      "2021-12-19 21:32:04.515777: I tensorflow/core/kernels/data/shuffle_dataset_op.cc:228] Shuffle buffer filled.\n"
     ]
    },
    {
     "name": "stdout",
     "output_type": "stream",
     "text": [
      "248/248 [==============================] - 94s 334ms/step - loss: 463.8744 - root_mean_squared_error: 21.5377 - val_loss: 447.7233 - val_root_mean_squared_error: 21.1595\n",
      "Epoch 45/100\n"
     ]
    },
    {
     "name": "stderr",
     "output_type": "stream",
     "text": [
      "2021-12-19 21:34:25.387843: I tensorflow/core/kernels/data/shuffle_dataset_op.cc:175] Filling up shuffle buffer (this may take a while): 858 of 1024\n",
      "2021-12-19 21:34:26.803020: I tensorflow/core/kernels/data/shuffle_dataset_op.cc:228] Shuffle buffer filled.\n"
     ]
    },
    {
     "name": "stdout",
     "output_type": "stream",
     "text": [
      "248/248 [==============================] - 99s 351ms/step - loss: 462.5906 - root_mean_squared_error: 21.5079 - val_loss: 442.8743 - val_root_mean_squared_error: 21.0446\n",
      "Epoch 46/100\n"
     ]
    },
    {
     "name": "stderr",
     "output_type": "stream",
     "text": [
      "2021-12-19 21:36:47.247798: I tensorflow/core/kernels/data/shuffle_dataset_op.cc:175] Filling up shuffle buffer (this may take a while): 883 of 1024\n",
      "2021-12-19 21:36:48.520646: I tensorflow/core/kernels/data/shuffle_dataset_op.cc:228] Shuffle buffer filled.\n"
     ]
    },
    {
     "name": "stdout",
     "output_type": "stream",
     "text": [
      "248/248 [==============================] - 97s 346ms/step - loss: 459.5693 - root_mean_squared_error: 21.4376 - val_loss: 445.3713 - val_root_mean_squared_error: 21.1038\n",
      "Epoch 47/100\n",
      "248/248 [==============================] - 92s 333ms/step - loss: 457.6452 - root_mean_squared_error: 21.3926 - val_loss: 442.8282 - val_root_mean_squared_error: 21.0435\n",
      "Epoch 48/100\n"
     ]
    },
    {
     "name": "stderr",
     "output_type": "stream",
     "text": [
      "2021-12-19 21:39:56.058734: I tensorflow/core/kernels/data/shuffle_dataset_op.cc:175] Filling up shuffle buffer (this may take a while): 905 of 1024\n",
      "2021-12-19 21:39:57.027130: I tensorflow/core/kernels/data/shuffle_dataset_op.cc:228] Shuffle buffer filled.\n"
     ]
    },
    {
     "name": "stdout",
     "output_type": "stream",
     "text": [
      "248/248 [==============================] - 94s 334ms/step - loss: 459.8491 - root_mean_squared_error: 21.4441 - val_loss: 443.4232 - val_root_mean_squared_error: 21.0576\n",
      "Epoch 49/100\n"
     ]
    },
    {
     "name": "stderr",
     "output_type": "stream",
     "text": [
      "2021-12-19 21:42:17.949117: I tensorflow/core/kernels/data/shuffle_dataset_op.cc:175] Filling up shuffle buffer (this may take a while): 846 of 1024\n",
      "2021-12-19 21:42:19.613908: I tensorflow/core/kernels/data/shuffle_dataset_op.cc:228] Shuffle buffer filled.\n"
     ]
    },
    {
     "name": "stdout",
     "output_type": "stream",
     "text": [
      "248/248 [==============================] - 95s 334ms/step - loss: 455.5188 - root_mean_squared_error: 21.3429 - val_loss: 442.3029 - val_root_mean_squared_error: 21.0310\n",
      "Epoch 50/100\n"
     ]
    },
    {
     "name": "stderr",
     "output_type": "stream",
     "text": [
      "2021-12-19 21:44:39.862527: I tensorflow/core/kernels/data/shuffle_dataset_op.cc:175] Filling up shuffle buffer (this may take a while): 783 of 1024\n",
      "2021-12-19 21:44:41.895612: I tensorflow/core/kernels/data/shuffle_dataset_op.cc:228] Shuffle buffer filled.\n"
     ]
    },
    {
     "name": "stdout",
     "output_type": "stream",
     "text": [
      "248/248 [==============================] - 98s 345ms/step - loss: 456.6909 - root_mean_squared_error: 21.3703 - val_loss: 446.9092 - val_root_mean_squared_error: 21.1402\n",
      "Epoch 51/100\n"
     ]
    },
    {
     "name": "stderr",
     "output_type": "stream",
     "text": [
      "2021-12-19 21:47:01.771523: I tensorflow/core/kernels/data/shuffle_dataset_op.cc:175] Filling up shuffle buffer (this may take a while): 847 of 1024\n",
      "2021-12-19 21:47:03.345569: I tensorflow/core/kernels/data/shuffle_dataset_op.cc:228] Shuffle buffer filled.\n"
     ]
    },
    {
     "name": "stdout",
     "output_type": "stream",
     "text": [
      "248/248 [==============================] - 98s 350ms/step - loss: 450.9922 - root_mean_squared_error: 21.2366 - val_loss: 442.9398 - val_root_mean_squared_error: 21.0461\n",
      "Epoch 52/100\n"
     ]
    },
    {
     "name": "stderr",
     "output_type": "stream",
     "text": [
      "2021-12-19 21:49:23.696314: I tensorflow/core/kernels/data/shuffle_dataset_op.cc:175] Filling up shuffle buffer (this may take a while): 858 of 1024\n",
      "2021-12-19 21:49:25.104792: I tensorflow/core/kernels/data/shuffle_dataset_op.cc:228] Shuffle buffer filled.\n"
     ]
    },
    {
     "name": "stdout",
     "output_type": "stream",
     "text": [
      "248/248 [==============================] - 98s 350ms/step - loss: 452.0907 - root_mean_squared_error: 21.2624 - val_loss: 453.3739 - val_root_mean_squared_error: 21.2926\n",
      "Epoch 53/100\n"
     ]
    },
    {
     "name": "stderr",
     "output_type": "stream",
     "text": [
      "2021-12-19 21:51:45.591449: I tensorflow/core/kernels/data/shuffle_dataset_op.cc:175] Filling up shuffle buffer (this may take a while): 769 of 1024\n",
      "2021-12-19 21:51:47.811258: I tensorflow/core/kernels/data/shuffle_dataset_op.cc:228] Shuffle buffer filled.\n"
     ]
    },
    {
     "name": "stdout",
     "output_type": "stream",
     "text": [
      "248/248 [==============================] - 98s 348ms/step - loss: 450.4728 - root_mean_squared_error: 21.2243 - val_loss: 443.0056 - val_root_mean_squared_error: 21.0477\n",
      "Epoch 54/100\n"
     ]
    },
    {
     "name": "stderr",
     "output_type": "stream",
     "text": [
      "2021-12-19 21:54:07.520539: I tensorflow/core/kernels/data/shuffle_dataset_op.cc:175] Filling up shuffle buffer (this may take a while): 887 of 1024\n",
      "2021-12-19 21:54:08.619569: I tensorflow/core/kernels/data/shuffle_dataset_op.cc:228] Shuffle buffer filled.\n"
     ]
    },
    {
     "name": "stdout",
     "output_type": "stream",
     "text": [
      "248/248 [==============================] - 96s 342ms/step - loss: 447.0034 - root_mean_squared_error: 21.1425 - val_loss: 446.9254 - val_root_mean_squared_error: 21.1406\n",
      "Epoch 55/100\n"
     ]
    },
    {
     "name": "stderr",
     "output_type": "stream",
     "text": [
      "2021-12-19 21:56:29.430710: I tensorflow/core/kernels/data/shuffle_dataset_op.cc:175] Filling up shuffle buffer (this may take a while): 869 of 1024\n",
      "2021-12-19 21:56:30.734895: I tensorflow/core/kernels/data/shuffle_dataset_op.cc:228] Shuffle buffer filled.\n"
     ]
    },
    {
     "name": "stdout",
     "output_type": "stream",
     "text": [
      "248/248 [==============================] - 93s 329ms/step - loss: 446.3220 - root_mean_squared_error: 21.1263 - val_loss: 442.0461 - val_root_mean_squared_error: 21.0249\n",
      "Epoch 56/100\n"
     ]
    },
    {
     "name": "stderr",
     "output_type": "stream",
     "text": [
      "2021-12-19 21:58:51.347958: I tensorflow/core/kernels/data/shuffle_dataset_op.cc:175] Filling up shuffle buffer (this may take a while): 768 of 1024\n",
      "2021-12-19 21:58:53.519507: I tensorflow/core/kernels/data/shuffle_dataset_op.cc:228] Shuffle buffer filled.\n"
     ]
    },
    {
     "name": "stdout",
     "output_type": "stream",
     "text": [
      "248/248 [==============================] - 91s 319ms/step - loss: 444.4913 - root_mean_squared_error: 21.0830 - val_loss: 442.6714 - val_root_mean_squared_error: 21.0398\n",
      "Epoch 57/100\n"
     ]
    },
    {
     "name": "stderr",
     "output_type": "stream",
     "text": [
      "2021-12-19 22:01:13.246735: I tensorflow/core/kernels/data/shuffle_dataset_op.cc:175] Filling up shuffle buffer (this may take a while): 881 of 1024\n",
      "2021-12-19 22:01:14.818455: I tensorflow/core/kernels/data/shuffle_dataset_op.cc:228] Shuffle buffer filled.\n"
     ]
    },
    {
     "name": "stdout",
     "output_type": "stream",
     "text": [
      "248/248 [==============================] - 94s 334ms/step - loss: 443.9765 - root_mean_squared_error: 21.0707 - val_loss: 442.1805 - val_root_mean_squared_error: 21.0281\n",
      "Epoch 58/100\n"
     ]
    },
    {
     "name": "stderr",
     "output_type": "stream",
     "text": [
      "2021-12-19 22:03:35.148623: I tensorflow/core/kernels/data/shuffle_dataset_op.cc:175] Filling up shuffle buffer (this may take a while): 829 of 1024\n",
      "2021-12-19 22:03:36.784266: I tensorflow/core/kernels/data/shuffle_dataset_op.cc:228] Shuffle buffer filled.\n"
     ]
    },
    {
     "name": "stdout",
     "output_type": "stream",
     "text": [
      "248/248 [==============================] - 92s 325ms/step - loss: 447.4557 - root_mean_squared_error: 21.1531 - val_loss: 442.2192 - val_root_mean_squared_error: 21.0290\n",
      "Epoch 59/100\n",
      "248/248 [==============================] - 90s 324ms/step - loss: 446.1133 - root_mean_squared_error: 21.1214 - val_loss: 442.7154 - val_root_mean_squared_error: 21.0408\n",
      "Epoch 60/100\n",
      "248/248 [==============================] - 88s 319ms/step - loss: 443.8426 - root_mean_squared_error: 21.0676 - val_loss: 442.0383 - val_root_mean_squared_error: 21.0247\n",
      "Epoch 61/100\n",
      "248/248 [==============================] - 94s 343ms/step - loss: 443.9712 - root_mean_squared_error: 21.0706 - val_loss: 442.0409 - val_root_mean_squared_error: 21.0248\n",
      "Epoch 62/100\n",
      "248/248 [==============================] - 98s 356ms/step - loss: 444.7503 - root_mean_squared_error: 21.0891 - val_loss: 442.0415 - val_root_mean_squared_error: 21.0248\n",
      "Epoch 63/100\n",
      "248/248 [==============================] - 96s 351ms/step - loss: 445.3019 - root_mean_squared_error: 21.1022 - val_loss: 442.4263 - val_root_mean_squared_error: 21.0339\n",
      "Epoch 64/100\n",
      "248/248 [==============================] - 95s 347ms/step - loss: 445.1911 - root_mean_squared_error: 21.0996 - val_loss: 442.0525 - val_root_mean_squared_error: 21.0250\n",
      "Epoch 65/100\n",
      "248/248 [==============================] - 91s 334ms/step - loss: 447.9015 - root_mean_squared_error: 21.1637 - val_loss: 442.0571 - val_root_mean_squared_error: 21.0252\n",
      "Epoch 66/100\n"
     ]
    },
    {
     "name": "stderr",
     "output_type": "stream",
     "text": [
      "2021-12-19 22:20:01.324133: I tensorflow/core/kernels/data/shuffle_dataset_op.cc:175] Filling up shuffle buffer (this may take a while): 744 of 1024\n",
      "2021-12-19 22:20:03.706630: I tensorflow/core/kernels/data/shuffle_dataset_op.cc:228] Shuffle buffer filled.\n"
     ]
    },
    {
     "name": "stdout",
     "output_type": "stream",
     "text": [
      "248/248 [==============================] - 92s 320ms/step - loss: 444.8109 - root_mean_squared_error: 21.0905 - val_loss: 442.0538 - val_root_mean_squared_error: 21.0251\n",
      "Epoch 67/100\n"
     ]
    },
    {
     "name": "stderr",
     "output_type": "stream",
     "text": [
      "2021-12-19 22:22:23.215246: I tensorflow/core/kernels/data/shuffle_dataset_op.cc:175] Filling up shuffle buffer (this may take a while): 799 of 1024\n",
      "2021-12-19 22:22:25.113889: I tensorflow/core/kernels/data/shuffle_dataset_op.cc:228] Shuffle buffer filled.\n"
     ]
    },
    {
     "name": "stdout",
     "output_type": "stream",
     "text": [
      "248/248 [==============================] - 92s 323ms/step - loss: 445.3790 - root_mean_squared_error: 21.1040 - val_loss: 442.0386 - val_root_mean_squared_error: 21.0247\n",
      "Epoch 68/100\n",
      "248/248 [==============================] - 92s 334ms/step - loss: 449.5659 - root_mean_squared_error: 21.2030 - val_loss: 442.9035 - val_root_mean_squared_error: 21.0453\n",
      "Epoch 69/100\n",
      "248/248 [==============================] - 92s 332ms/step - loss: 448.3043 - root_mean_squared_error: 21.1732 - val_loss: 442.0598 - val_root_mean_squared_error: 21.0252\n",
      "Epoch 70/100\n"
     ]
    },
    {
     "name": "stderr",
     "output_type": "stream",
     "text": [
      "2021-12-19 22:26:58.804740: I tensorflow/core/kernels/data/shuffle_dataset_op.cc:175] Filling up shuffle buffer (this may take a while): 702 of 1024\n",
      "2021-12-19 22:27:01.427160: I tensorflow/core/kernels/data/shuffle_dataset_op.cc:228] Shuffle buffer filled.\n"
     ]
    },
    {
     "name": "stdout",
     "output_type": "stream",
     "text": [
      "248/248 [==============================] - 92s 320ms/step - loss: 444.3593 - root_mean_squared_error: 21.0798 - val_loss: 442.1563 - val_root_mean_squared_error: 21.0275\n",
      "Epoch 71/100\n",
      "248/248 [==============================] - 89s 322ms/step - loss: 444.8153 - root_mean_squared_error: 21.0906 - val_loss: 442.3919 - val_root_mean_squared_error: 21.0331\n",
      "Epoch 72/100\n"
     ]
    },
    {
     "name": "stderr",
     "output_type": "stream",
     "text": [
      "2021-12-19 22:30:52.683188: I tensorflow/core/kernels/data/shuffle_dataset_op.cc:175] Filling up shuffle buffer (this may take a while): 703 of 1024\n",
      "2021-12-19 22:30:55.265666: I tensorflow/core/kernels/data/shuffle_dataset_op.cc:228] Shuffle buffer filled.\n"
     ]
    },
    {
     "name": "stdout",
     "output_type": "stream",
     "text": [
      "248/248 [==============================] - 95s 333ms/step - loss: 442.2442 - root_mean_squared_error: 21.0296 - val_loss: 444.8086 - val_root_mean_squared_error: 21.0905\n",
      "Epoch 73/100\n"
     ]
    },
    {
     "name": "stderr",
     "output_type": "stream",
     "text": [
      "2021-12-19 22:33:14.596451: I tensorflow/core/kernels/data/shuffle_dataset_op.cc:175] Filling up shuffle buffer (this may take a while): 752 of 1024\n",
      "2021-12-19 22:33:16.941250: I tensorflow/core/kernels/data/shuffle_dataset_op.cc:228] Shuffle buffer filled.\n"
     ]
    },
    {
     "name": "stdout",
     "output_type": "stream",
     "text": [
      "248/248 [==============================] - 96s 338ms/step - loss: 445.1859 - root_mean_squared_error: 21.0994 - val_loss: 442.5575 - val_root_mean_squared_error: 21.0371\n",
      "Epoch 74/100\n"
     ]
    },
    {
     "name": "stderr",
     "output_type": "stream",
     "text": [
      "2021-12-19 22:35:36.509609: I tensorflow/core/kernels/data/shuffle_dataset_op.cc:175] Filling up shuffle buffer (this may take a while): 682 of 1024\n",
      "2021-12-19 22:35:39.471341: I tensorflow/core/kernels/data/shuffle_dataset_op.cc:228] Shuffle buffer filled.\n"
     ]
    },
    {
     "name": "stdout",
     "output_type": "stream",
     "text": [
      "248/248 [==============================] - 94s 326ms/step - loss: 443.5016 - root_mean_squared_error: 21.0595 - val_loss: 442.2401 - val_root_mean_squared_error: 21.0295\n",
      "Epoch 75/100\n"
     ]
    },
    {
     "name": "stderr",
     "output_type": "stream",
     "text": [
      "2021-12-19 22:37:58.424567: I tensorflow/core/kernels/data/shuffle_dataset_op.cc:175] Filling up shuffle buffer (this may take a while): 697 of 1024\n",
      "2021-12-19 22:38:01.142681: I tensorflow/core/kernels/data/shuffle_dataset_op.cc:228] Shuffle buffer filled.\n"
     ]
    },
    {
     "name": "stdout",
     "output_type": "stream",
     "text": [
      "248/248 [==============================] - 94s 327ms/step - loss: 439.4272 - root_mean_squared_error: 20.9625 - val_loss: 443.0339 - val_root_mean_squared_error: 21.0484\n",
      "Epoch 76/100\n"
     ]
    },
    {
     "name": "stderr",
     "output_type": "stream",
     "text": [
      "2021-12-19 22:40:20.351717: I tensorflow/core/kernels/data/shuffle_dataset_op.cc:175] Filling up shuffle buffer (this may take a while): 684 of 1024\n",
      "2021-12-19 22:40:23.203099: I tensorflow/core/kernels/data/shuffle_dataset_op.cc:228] Shuffle buffer filled.\n"
     ]
    },
    {
     "name": "stdout",
     "output_type": "stream",
     "text": [
      "248/248 [==============================] - 93s 321ms/step - loss: 439.9179 - root_mean_squared_error: 20.9742 - val_loss: 443.0526 - val_root_mean_squared_error: 21.0488\n",
      "Epoch 77/100\n",
      "248/248 [==============================] - 90s 329ms/step - loss: 442.7193 - root_mean_squared_error: 21.0409 - val_loss: 443.4631 - val_root_mean_squared_error: 21.0586\n",
      "Epoch 78/100\n",
      "248/248 [==============================] - 92s 338ms/step - loss: 444.1428 - root_mean_squared_error: 21.0747 - val_loss: 442.3869 - val_root_mean_squared_error: 21.0330\n",
      "Epoch 79/100\n",
      "248/248 [==============================] - 97s 355ms/step - loss: 443.9191 - root_mean_squared_error: 21.0694 - val_loss: 442.2502 - val_root_mean_squared_error: 21.0297\n",
      "Epoch 80/100\n",
      "248/248 [==============================] - 93s 338ms/step - loss: 441.1926 - root_mean_squared_error: 21.0046 - val_loss: 442.0401 - val_root_mean_squared_error: 21.0247\n",
      "Epoch 81/100\n"
     ]
    },
    {
     "name": "stderr",
     "output_type": "stream",
     "text": [
      "2021-12-19 22:48:54.576179: I tensorflow/core/kernels/data/shuffle_dataset_op.cc:175] Filling up shuffle buffer (this may take a while): 710 of 1024\n",
      "2021-12-19 22:48:57.423572: I tensorflow/core/kernels/data/shuffle_dataset_op.cc:228] Shuffle buffer filled.\n"
     ]
    },
    {
     "name": "stdout",
     "output_type": "stream",
     "text": [
      "248/248 [==============================] - 94s 327ms/step - loss: 439.7643 - root_mean_squared_error: 20.9706 - val_loss: 442.0991 - val_root_mean_squared_error: 21.0262\n",
      "Epoch 82/100\n",
      "248/248 [==============================] - 93s 339ms/step - loss: 441.8686 - root_mean_squared_error: 21.0207 - val_loss: 442.3083 - val_root_mean_squared_error: 21.0311\n",
      "Epoch 83/100\n"
     ]
    },
    {
     "name": "stderr",
     "output_type": "stream",
     "text": [
      "2021-12-19 22:52:50.454429: I tensorflow/core/kernels/data/shuffle_dataset_op.cc:175] Filling up shuffle buffer (this may take a while): 637 of 1024\n",
      "2021-12-19 22:52:53.949171: I tensorflow/core/kernels/data/shuffle_dataset_op.cc:228] Shuffle buffer filled.\n"
     ]
    },
    {
     "name": "stdout",
     "output_type": "stream",
     "text": [
      "248/248 [==============================] - 98s 341ms/step - loss: 442.1095 - root_mean_squared_error: 21.0264 - val_loss: 442.1328 - val_root_mean_squared_error: 21.0270\n",
      "Epoch 84/100\n",
      "248/248 [==============================] - 94s 338ms/step - loss: 445.7229 - root_mean_squared_error: 21.1122 - val_loss: 446.1708 - val_root_mean_squared_error: 21.1228\n",
      "Epoch 85/100\n"
     ]
    },
    {
     "name": "stderr",
     "output_type": "stream",
     "text": [
      "2021-12-19 22:56:50.534363: I tensorflow/core/kernels/data/shuffle_dataset_op.cc:175] Filling up shuffle buffer (this may take a while): 690 of 1024\n",
      "2021-12-19 22:56:53.518073: I tensorflow/core/kernels/data/shuffle_dataset_op.cc:228] Shuffle buffer filled.\n"
     ]
    },
    {
     "name": "stdout",
     "output_type": "stream",
     "text": [
      "248/248 [==============================] - 95s 331ms/step - loss: 442.4211 - root_mean_squared_error: 21.0338 - val_loss: 443.6956 - val_root_mean_squared_error: 21.0641\n",
      "Epoch 86/100\n",
      "248/248 [==============================] - 93s 341ms/step - loss: 444.2682 - root_mean_squared_error: 21.0777 - val_loss: 442.1086 - val_root_mean_squared_error: 21.0264\n",
      "Epoch 87/100\n"
     ]
    },
    {
     "name": "stderr",
     "output_type": "stream",
     "text": [
      "2021-12-19 23:00:47.671198: I tensorflow/core/kernels/data/shuffle_dataset_op.cc:175] Filling up shuffle buffer (this may take a while): 695 of 1024\n",
      "2021-12-19 23:00:51.469756: I tensorflow/core/kernels/data/shuffle_dataset_op.cc:228] Shuffle buffer filled.\n"
     ]
    },
    {
     "name": "stdout",
     "output_type": "stream",
     "text": [
      "248/248 [==============================] - 97s 336ms/step - loss: 442.7730 - root_mean_squared_error: 21.0422 - val_loss: 442.0756 - val_root_mean_squared_error: 21.0256\n",
      "Epoch 88/100\n",
      "248/248 [==============================] - 90s 328ms/step - loss: 446.0881 - root_mean_squared_error: 21.1208 - val_loss: 442.0406 - val_root_mean_squared_error: 21.0248\n",
      "Epoch 89/100\n"
     ]
    },
    {
     "name": "stderr",
     "output_type": "stream",
     "text": [
      "2021-12-19 23:04:39.693194: I tensorflow/core/kernels/data/shuffle_dataset_op.cc:175] Filling up shuffle buffer (this may take a while): 664 of 1024\n",
      "2021-12-19 23:04:43.250234: I tensorflow/core/kernels/data/shuffle_dataset_op.cc:228] Shuffle buffer filled.\n"
     ]
    },
    {
     "name": "stdout",
     "output_type": "stream",
     "text": [
      "248/248 [==============================] - 98s 339ms/step - loss: 444.5704 - root_mean_squared_error: 21.0848 - val_loss: 442.0358 - val_root_mean_squared_error: 21.0246\n",
      "Epoch 90/100\n",
      "248/248 [==============================] - 94s 340ms/step - loss: 442.0992 - root_mean_squared_error: 21.0262 - val_loss: 442.4646 - val_root_mean_squared_error: 21.0348\n",
      "Epoch 91/100\n",
      "248/248 [==============================] - 93s 340ms/step - loss: 444.6512 - root_mean_squared_error: 21.0868 - val_loss: 442.1196 - val_root_mean_squared_error: 21.0266\n",
      "Epoch 92/100\n",
      "248/248 [==============================] - 91s 330ms/step - loss: 442.2792 - root_mean_squared_error: 21.0304 - val_loss: 442.0593 - val_root_mean_squared_error: 21.0252\n",
      "Epoch 93/100\n"
     ]
    },
    {
     "name": "stderr",
     "output_type": "stream",
     "text": [
      "2021-12-19 23:10:55.172308: I tensorflow/core/kernels/data/shuffle_dataset_op.cc:175] Filling up shuffle buffer (this may take a while): 691 of 1024\n",
      "2021-12-19 23:10:58.458766: I tensorflow/core/kernels/data/shuffle_dataset_op.cc:228] Shuffle buffer filled.\n"
     ]
    },
    {
     "name": "stdout",
     "output_type": "stream",
     "text": [
      "248/248 [==============================] - 94s 326ms/step - loss: 442.4044 - root_mean_squared_error: 21.0334 - val_loss: 442.5616 - val_root_mean_squared_error: 21.0371\n",
      "Epoch 94/100\n",
      "248/248 [==============================] - 90s 328ms/step - loss: 440.4351 - root_mean_squared_error: 20.9865 - val_loss: 443.9983 - val_root_mean_squared_error: 21.0713\n",
      "Epoch 95/100\n",
      "248/248 [==============================] - 94s 346ms/step - loss: 438.9262 - root_mean_squared_error: 20.9506 - val_loss: 443.0959 - val_root_mean_squared_error: 21.0498\n",
      "Epoch 96/100\n"
     ]
    },
    {
     "name": "stderr",
     "output_type": "stream",
     "text": [
      "2021-12-19 23:16:21.660331: I tensorflow/core/kernels/data/shuffle_dataset_op.cc:175] Filling up shuffle buffer (this may take a while): 710 of 1024\n",
      "2021-12-19 23:16:25.223429: I tensorflow/core/kernels/data/shuffle_dataset_op.cc:228] Shuffle buffer filled.\n"
     ]
    },
    {
     "name": "stdout",
     "output_type": "stream",
     "text": [
      "248/248 [==============================] - 98s 340ms/step - loss: 443.2605 - root_mean_squared_error: 21.0538 - val_loss: 442.5385 - val_root_mean_squared_error: 21.0366\n",
      "Epoch 97/100\n",
      "248/248 [==============================] - 93s 340ms/step - loss: 442.6173 - root_mean_squared_error: 21.0385 - val_loss: 443.3288 - val_root_mean_squared_error: 21.0554\n",
      "Epoch 98/100\n"
     ]
    },
    {
     "name": "stderr",
     "output_type": "stream",
     "text": [
      "2021-12-19 23:20:21.596894: I tensorflow/core/kernels/data/shuffle_dataset_op.cc:175] Filling up shuffle buffer (this may take a while): 668 of 1024\n",
      "2021-12-19 23:20:25.434585: I tensorflow/core/kernels/data/shuffle_dataset_op.cc:228] Shuffle buffer filled.\n"
     ]
    },
    {
     "name": "stdout",
     "output_type": "stream",
     "text": [
      "248/248 [==============================] - 97s 337ms/step - loss: 446.1218 - root_mean_squared_error: 21.1216 - val_loss: 443.7914 - val_root_mean_squared_error: 21.0664\n",
      "Epoch 99/100\n",
      "248/248 [==============================] - 90s 327ms/step - loss: 440.5566 - root_mean_squared_error: 20.9894 - val_loss: 443.1635 - val_root_mean_squared_error: 21.0514\n",
      "Epoch 100/100\n",
      "248/248 [==============================] - 91s 330ms/step - loss: 443.2978 - root_mean_squared_error: 21.0546 - val_loss: 442.6559 - val_root_mean_squared_error: 21.0394\n"
     ]
    }
   ],
   "source": [
    "model = build_model()\n",
    "history = model.fit(\n",
    "    train_dataset,\n",
    "    validation_data=val_dataset,\n",
    "    epochs=100,\n",
    "#     steps_per_epoch=10,\n",
    "#     use_multiprocessing=True,\n",
    "#     callbacks=[es, reduce_lr]\n",
    ")"
   ]
  },
  {
   "cell_type": "code",
   "execution_count": 11,
   "id": "d778b922",
   "metadata": {
    "execution": {
     "iopub.execute_input": "2021-12-19T23:27:29.850548Z",
     "iopub.status.busy": "2021-12-19T23:27:29.843554Z",
     "iopub.status.idle": "2021-12-19T23:27:30.043304Z",
     "shell.execute_reply": "2021-12-19T23:27:30.043998Z",
     "shell.execute_reply.started": "2021-12-12T02:27:10.191853Z"
    },
    "papermill": {
     "duration": 6.609134,
     "end_time": "2021-12-19T23:27:30.044155",
     "exception": false,
     "start_time": "2021-12-19T23:27:23.435021",
     "status": "completed"
    },
    "tags": []
   },
   "outputs": [
    {
     "data": {
      "image/png": "[encoded data removed]",
      "text/plain": [
       "<Figure size 432x288 with 1 Axes>"
      ]
     },
     "metadata": {
      "needs_background": "light"
     },
     "output_type": "display_data"
    }
   ],
   "source": [
    "plt.plot(history.history['root_mean_squared_error'])\n",
    "plt.plot(history.history['val_root_mean_squared_error'])\n",
    "plt.legend(['train', 'val'], loc='upper right')\n",
    "plt.show()"
   ]
  },
  {
   "cell_type": "code",
   "execution_count": 12,
   "id": "712aed55",
   "metadata": {
    "execution": {
     "iopub.execute_input": "2021-12-19T23:27:43.126508Z",
     "iopub.status.busy": "2021-12-19T23:27:43.121954Z",
     "iopub.status.idle": "2021-12-19T23:27:43.281338Z",
     "shell.execute_reply": "2021-12-19T23:27:43.281841Z",
     "shell.execute_reply.started": "2021-12-12T02:27:10.422217Z"
    },
    "papermill": {
     "duration": 6.821562,
     "end_time": "2021-12-19T23:27:43.282006",
     "exception": false,
     "start_time": "2021-12-19T23:27:36.460444",
     "status": "completed"
    },
    "tags": []
   },
   "outputs": [
    {
     "data": {
      "image/png": "[encoded data removed]",
      "text/plain": [
       "<Figure size 432x288 with 1 Axes>"
      ]
     },
     "metadata": {
      "needs_background": "light"
     },
     "output_type": "display_data"
    }
   ],
   "source": [
    "plt.plot(history.history['loss'])\n",
    "plt.plot(history.history['val_loss'])\n",
    "plt.legend(['train', 'val'], loc='upper right')\n",
    "plt.show()"
   ]
  },
  {
   "cell_type": "code",
   "execution_count": 13,
   "id": "a84bea20",
   "metadata": {
    "execution": {
     "iopub.execute_input": "2021-12-19T23:27:55.847439Z",
     "iopub.status.busy": "2021-12-19T23:27:55.846574Z",
     "iopub.status.idle": "2021-12-19T23:27:56.112252Z",
     "shell.execute_reply": "2021-12-19T23:27:56.112680Z",
     "shell.execute_reply.started": "2021-12-12T02:27:10.62343Z"
    },
    "papermill": {
     "duration": 6.428774,
     "end_time": "2021-12-19T23:27:56.112842",
     "exception": false,
     "start_time": "2021-12-19T23:27:49.684068",
     "status": "completed"
    },
    "tags": []
   },
   "outputs": [],
   "source": [
    "preds = model.predict(test_dataset)"
   ]
  },
  {
   "cell_type": "code",
   "execution_count": 14,
   "id": "5b91bf96",
   "metadata": {
    "execution": {
     "iopub.execute_input": "2021-12-19T23:28:08.902248Z",
     "iopub.status.busy": "2021-12-19T23:28:08.901346Z",
     "iopub.status.idle": "2021-12-19T23:28:08.903295Z",
     "shell.execute_reply": "2021-12-19T23:28:08.903699Z",
     "shell.execute_reply.started": "2021-12-12T02:27:10.940772Z"
    },
    "papermill": {
     "duration": 6.445357,
     "end_time": "2021-12-19T23:28:08.903845",
     "exception": false,
     "start_time": "2021-12-19T23:28:02.458488",
     "status": "completed"
    },
    "tags": []
   },
   "outputs": [],
   "source": [
    "submisson_df = test_df[['Id']]\n",
    "submisson_df['Pawpularity'] = preds"
   ]
  },
  {
   "cell_type": "code",
   "execution_count": 15,
   "id": "fd7f7486",
   "metadata": {
    "execution": {
     "iopub.execute_input": "2021-12-19T23:28:21.897274Z",
     "iopub.status.busy": "2021-12-19T23:28:21.896647Z",
     "iopub.status.idle": "2021-12-19T23:28:21.902969Z",
     "shell.execute_reply": "2021-12-19T23:28:21.902441Z",
     "shell.execute_reply.started": "2021-12-12T02:27:10.949419Z"
    },
    "papermill": {
     "duration": 6.357707,
     "end_time": "2021-12-19T23:28:21.903103",
     "exception": false,
     "start_time": "2021-12-19T23:28:15.545396",
     "status": "completed"
    },
    "tags": []
   },
   "outputs": [
    {
     "data": {
      "text/html": [
       "<div>\n",
       "<style scoped>\n",
       "    .dataframe tbody tr th:only-of-type {\n",
       "        vertical-align: middle;\n",
       "    }\n",
       "\n",
       "    .dataframe tbody tr th {\n",
       "        vertical-align: top;\n",
       "    }\n",
       "\n",
       "    .dataframe thead th {\n",
       "        text-align: right;\n",
       "    }\n",
       "</style>\n",
       "<table border=\"1\" class=\"dataframe\">\n",
       "  <thead>\n",
       "    <tr style=\"text-align: right;\">\n",
       "      <th></th>\n",
       "      <th>Id</th>\n",
       "      <th>Pawpularity</th>\n",
       "    </tr>\n",
       "  </thead>\n",
       "  <tbody>\n",
       "    <tr>\n",
       "      <th>0</th>\n",
       "      <td>4128bae22183829d2b5fea10effdb0c3</td>\n",
       "      <td>37.262928</td>\n",
       "    </tr>\n",
       "    <tr>\n",
       "      <th>1</th>\n",
       "      <td>43a2262d7738e3d420d453815151079e</td>\n",
       "      <td>37.262928</td>\n",
       "    </tr>\n",
       "    <tr>\n",
       "      <th>2</th>\n",
       "      <td>4e429cead1848a298432a0acad014c9d</td>\n",
       "      <td>37.262928</td>\n",
       "    </tr>\n",
       "    <tr>\n",
       "      <th>3</th>\n",
       "      <td>80bc3ccafcc51b66303c2c263aa38486</td>\n",
       "      <td>37.262928</td>\n",
       "    </tr>\n",
       "    <tr>\n",
       "      <th>4</th>\n",
       "      <td>8f49844c382931444e68dffbe20228f4</td>\n",
       "      <td>37.262928</td>\n",
       "    </tr>\n",
       "    <tr>\n",
       "      <th>5</th>\n",
       "      <td>b03f7041962238a7c9d6537e22f9b017</td>\n",
       "      <td>37.262928</td>\n",
       "    </tr>\n",
       "    <tr>\n",
       "      <th>6</th>\n",
       "      <td>c978013571258ed6d4637f6e8cc9d6a3</td>\n",
       "      <td>37.262928</td>\n",
       "    </tr>\n",
       "    <tr>\n",
       "      <th>7</th>\n",
       "      <td>e0de453c1bffc20c22b072b34b54e50f</td>\n",
       "      <td>37.262928</td>\n",
       "    </tr>\n",
       "  </tbody>\n",
       "</table>\n",
       "</div>"
      ],
      "text/plain": [
       "                                 Id  Pawpularity\n",
       "0  4128bae22183829d2b5fea10effdb0c3    37.262928\n",
       "1  43a2262d7738e3d420d453815151079e    37.262928\n",
       "2  4e429cead1848a298432a0acad014c9d    37.262928\n",
       "3  80bc3ccafcc51b66303c2c263aa38486    37.262928\n",
       "4  8f49844c382931444e68dffbe20228f4    37.262928\n",
       "5  b03f7041962238a7c9d6537e22f9b017    37.262928\n",
       "6  c978013571258ed6d4637f6e8cc9d6a3    37.262928\n",
       "7  e0de453c1bffc20c22b072b34b54e50f    37.262928"
      ]
     },
     "execution_count": 15,
     "metadata": {},
     "output_type": "execute_result"
    }
   ],
   "source": [
    "submisson_df"
   ]
  },
  {
   "cell_type": "code",
   "execution_count": 16,
   "id": "e6fa21de",
   "metadata": {
    "execution": {
     "iopub.execute_input": "2021-12-19T23:28:34.525325Z",
     "iopub.status.busy": "2021-12-19T23:28:34.524516Z",
     "iopub.status.idle": "2021-12-19T23:28:34.529752Z",
     "shell.execute_reply": "2021-12-19T23:28:34.529347Z",
     "shell.execute_reply.started": "2021-12-12T02:27:10.968548Z"
    },
    "papermill": {
     "duration": 6.440927,
     "end_time": "2021-12-19T23:28:34.529896",
     "exception": false,
     "start_time": "2021-12-19T23:28:28.088969",
     "status": "completed"
    },
    "tags": []
   },
   "outputs": [],
   "source": [
    "submisson_df.to_csv('submission.csv', index=False)"
   ]
  },
  {
   "cell_type": "code",
   "execution_count": 17,
   "id": "0496bc40",
   "metadata": {
    "execution": {
     "iopub.execute_input": "2021-12-19T23:28:47.562761Z",
     "iopub.status.busy": "2021-12-19T23:28:47.561947Z",
     "iopub.status.idle": "2021-12-19T23:28:47.650438Z",
     "shell.execute_reply": "2021-12-19T23:28:47.649962Z"
    },
    "papermill": {
     "duration": 6.94831,
     "end_time": "2021-12-19T23:28:47.650556",
     "exception": false,
     "start_time": "2021-12-19T23:28:40.702246",
     "status": "completed"
    },
    "tags": []
   },
   "outputs": [],
   "source": [
    "model.save('/kaggle/working/cnn_images_only_model.h5')"
   ]
  }
 ],
 "metadata": {
  "kernelspec": {
   "display_name": "Python 3",
   "language": "python",
   "name": "python3"
  },
  "language_info": {
   "codemirror_mode": {
    "name": "ipython",
    "version": 3
   },
   "file_extension": ".py",
   "mimetype": "text/x-python",
   "name": "python",
   "nbconvert_exporter": "python",
   "pygments_lexer": "ipython3",
   "version": "3.7.10"
  },
  "papermill": {
   "default_parameters": {},
   "duration": 12226.020313,
   "end_time": "2021-12-19T23:28:57.863021",
   "environment_variables": {},
   "exception": null,
   "input_path": "__notebook__.ipynb",
   "output_path": "__notebook__.ipynb",
   "parameters": {},
   "start_time": "2021-12-19T20:05:11.842708",
   "version": "2.3.3"
  }
 },
 "nbformat": 4,
 "nbformat_minor": 5
}
