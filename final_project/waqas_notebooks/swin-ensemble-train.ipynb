{
  "cells": [
    {
      "cell_type": "code",
      "source": [
        "import numpy as np \n",
        "import pandas as pd\n",
        "import os \n",
        "import sys\n",
        "import shutil\n",
        "import pathlib\n",
        "import fastai.vision.all as faiv\n",
        "import gc\n",
        "import torch\n",
        "\n",
        "sys.path.append('../input/pytorch-image-models')\n",
        "pathlib.Path('/root/.cache/torch/hub/checkpoints/').mkdir(parents=True, exist_ok=True) \n",
        "shutil.copy('../input/swim-package/swin_large_patch4_window7_224_22kto1k.pth', '/root/.cache/torch/hub/checkpoints/swin_large_patch4_window7_224_22kto1k.pth')\n",
        "\n",
        "from timm import create_model\n"
      ],
      "outputs": [],
      "execution_count": null,
      "metadata": {
        "_uuid": "8f2839f25d086af736a60e9eeb907d3b93b6e0e5",
        "_cell_guid": "b1076dfc-b9ad-4769-8c92-a6c4dae69d19",
        "execution": {
          "iopub.status.busy": "2021-12-21T19:28:14.759667Z",
          "iopub.execute_input": "2021-12-21T19:28:14.760220Z",
          "iopub.status.idle": "2021-12-21T19:28:22.276235Z",
          "shell.execute_reply.started": "2021-12-21T19:28:14.760185Z",
          "shell.execute_reply": "2021-12-21T19:28:22.275493Z"
        },
        "trusted": true
      }
    },
    {
      "cell_type": "code",
      "source": [
        "def getKFoldIndices(inp_df, k=5):\n",
        "    \"\"\"\n",
        "    Return k columns of booleans such that each entry in the original DataFrame corresponds to a row with a unique \"1\" entry in the k columns. \n",
        "    The columns correspond to training set splits to be used in k-fold cross validation.\n",
        "    \"\"\"\n",
        "    \n",
        "    no_dps = inp_df.shape[0]\n",
        "    folds = np.zeros([k, no_dps])\n",
        "    indices = np.linspace(1, no_dps, no_dps)\n",
        "    np.random.shuffle(indices)\n",
        "    fold_indices = np.array_split(indices, k)\n",
        "    indices = np.sort(indices)\n",
        "    for i in range(k):\n",
        "        folds[i] = np.in1d(indices, fold_indices[i])\n",
        "        \n",
        "    return folds.T"
      ],
      "outputs": [],
      "execution_count": null,
      "metadata": {
        "execution": {
          "iopub.status.busy": "2021-12-21T19:28:24.555166Z",
          "iopub.execute_input": "2021-12-21T19:28:24.555730Z",
          "iopub.status.idle": "2021-12-21T19:28:24.564683Z",
          "shell.execute_reply.started": "2021-12-21T19:28:24.555692Z",
          "shell.execute_reply": "2021-12-21T19:28:24.561438Z"
        },
        "trusted": true
      }
    },
    {
      "cell_type": "code",
      "source": [
        "train_im_dir = '../input/petfinder-pawpularity-score/train'\n",
        "train_df = pd.read_csv('/kaggle/input/petfinder-pawpularity-score/train.csv') \n",
        "\n",
        "# fastai reads image directories directly from pandas tables, so we modify the image ID to correspond to its path in the directory.\n",
        "train_df['Id'] = train_df['Id'].apply(lambda x: f\"../input/petfinder-pawpularity-score/train/{x}.jpg\")\n",
        "\n",
        "# Divide training data target to be values between 0-1 in order to treat pawpularity prediction as a binary classification problem.\n",
        "train_df['Pawpularity'] = train_df['Pawpularity']/100\n",
        "\n",
        "# Get indices corresponding to five cv splits\n",
        "folds = getKFoldIndices(train_df, k=5)\n",
        "\n",
        "\n",
        "# Fast AI accepts columns of booleans as an input for CV folds. So, we create these columns \n",
        "# whose entries are 1 or 0 dependening on whether the data entry should be include in the\n",
        "# validation or training set of a CV fold, respectively.\n",
        "\n",
        "folds_df = pd.DataFrame(folds)\n",
        "folds_df.columns = ['Fold_1', 'Fold_2', 'Fold_3', 'Fold_4', 'Fold_5']\n",
        "train_df = pd.concat([train_df, folds_df], axis=1)\n",
        "train_df.head()"
      ],
      "outputs": [],
      "execution_count": null,
      "metadata": {
        "execution": {
          "iopub.status.busy": "2021-12-21T19:28:25.893122Z",
          "iopub.execute_input": "2021-12-21T19:28:25.893368Z",
          "iopub.status.idle": "2021-12-21T19:28:26.810398Z",
          "shell.execute_reply.started": "2021-12-21T19:28:25.893339Z",
          "shell.execute_reply": "2021-12-21T19:28:26.809685Z"
        },
        "trusted": true
      }
    },
    {
      "cell_type": "code",
      "source": [
        "def getFoldModel(train_df, fold_str, lr = 5.6e-5):\n",
        "    \"\"\"Function that exports the parameters of a trained SWIN model for a given CV fold.\"\"\"\n",
        "    \n",
        "    # Get training set batches from the training dataframe. Note that the valid_col variable corresponds to the current CV fold.\n",
        "    fastai_dl = faiv.ImageDataLoaders.from_df(df = train_df,\n",
        "                                     seed = 1997,\n",
        "                                     fn_col = 'Id',\n",
        "                                     label_col = 'Pawpularity',\n",
        "                                     valid_col = fold_str,\n",
        "                                     y_block = faiv.RegressionBlock,\n",
        "                                     item_tfms = faiv.Resize(224),\n",
        "                                     bs = 16)\n",
        "    \n",
        "    # Get pretrained SWIN model. The 224x224x3 model is used as there is not enough GPU memory to train the 384x384x3 SWIN model.\n",
        "    model = create_model('swin_large_patch4_window7_224', pretrained = True, num_classes = 1)\n",
        "    \n",
        "    # Update the SWIN parameters on the training set using \n",
        "    fai_learner = faiv.Learner(fastai_dl, model, loss_func=faiv.BCEWithLogitsLossFlat())\n",
        "    fai_learner.fit_one_cycle(10, lr, cbs=[faiv.SaveModelCallback(), faiv.EarlyStoppingCallback(patience = 2)])\n",
        "    fai_learner.recorder.plot_loss()\n",
        "    out_str = f'SWIN_v2_{fold_str}.pkl'\n",
        "    fai_learner.export(out_str)\n",
        "    return fai_learner"
      ],
      "outputs": [],
      "execution_count": null,
      "metadata": {
        "execution": {
          "iopub.status.busy": "2021-12-21T19:28:28.055010Z",
          "iopub.execute_input": "2021-12-21T19:28:28.055265Z",
          "iopub.status.idle": "2021-12-21T19:28:28.063153Z",
          "shell.execute_reply.started": "2021-12-21T19:28:28.055233Z",
          "shell.execute_reply": "2021-12-21T19:28:28.061663Z"
        },
        "trusted": true
      }
    },
    {
      "cell_type": "code",
      "source": [
        "learners = []\n",
        "for fold_index,fold_str in enumerate(['Fold_1', 'Fold_2', 'Fold_3', 'Fold_4', 'Fold_5']):\n",
        "    print(fold_str)\n",
        "    getFoldModel(train_df, fold_str)\n",
        "    \n",
        "    # Collect garbage and empty GPU cache to free up memory.\n",
        "    torch.cuda.empty_cache()\n",
        "    gc.collect()"
      ],
      "outputs": [],
      "execution_count": null,
      "metadata": {}
    }
  ],
  "metadata": {
    "kernelspec": {
      "language": "python",
      "display_name": "Python 3",
      "name": "python3"
    },
    "language_info": {
      "name": "python",
      "version": "3.7.12",
      "mimetype": "text/x-python",
      "codemirror_mode": {
        "name": "ipython",
        "version": 3
      },
      "pygments_lexer": "ipython3",
      "nbconvert_exporter": "python",
      "file_extension": ".py"
    },
    "nteract": {
      "version": "0.28.0"
    }
  },
  "nbformat": 4,
  "nbformat_minor": 4
}