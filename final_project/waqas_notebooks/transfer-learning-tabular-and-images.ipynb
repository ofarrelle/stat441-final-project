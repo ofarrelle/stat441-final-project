{
 "cells": [
  {
   "cell_type": "code",
   "execution_count": 1,
   "id": "281dd338",
   "metadata": {
    "_cell_guid": "b1076dfc-b9ad-4769-8c92-a6c4dae69d19",
    "_uuid": "8f2839f25d086af736a60e9eeb907d3b93b6e0e5",
    "execution": {
     "iopub.execute_input": "2021-12-19T19:49:24.462725Z",
     "iopub.status.busy": "2021-12-19T19:49:24.455296Z",
     "iopub.status.idle": "2021-12-19T19:49:24.466413Z",
     "shell.execute_reply": "2021-12-19T19:49:24.465883Z",
     "shell.execute_reply.started": "2021-12-19T19:47:45.233546Z"
    },
    "papermill": {
     "duration": 0.029729,
     "end_time": "2021-12-19T19:49:24.466568",
     "exception": false,
     "start_time": "2021-12-19T19:49:24.436839",
     "status": "completed"
    },
    "tags": []
   },
   "outputs": [],
   "source": [
    "# This Python 3 environment comes with many helpful analytics libraries installed\n",
    "# It is defined by the kaggle/python Docker image: https://github.com/kaggle/docker-python\n",
    "# For example, here's several helpful packages to load\n",
    "\n",
    "import numpy as np # linear algebra\n",
    "import pandas as pd # data processing, CSV file I/O (e.g. pd.read_csv)\n",
    "\n",
    "# Input data files are available in the read-only \"../input/\" directory\n",
    "# For example, running this (by clicking run or pressing Shift+Enter) will list all files under the input directory\n",
    "\n",
    "import os\n",
    "# for dirname, _, filenames in os.walk('/kaggle/input'):\n",
    "#     for filename in filenames:\n",
    "#         print(os.path.join(dirname, filename))\n",
    "\n",
    "# You can write up to 20GB to the current directory (/kaggle/working/) that gets preserved as output when you create a version using \"Save & Run All\" \n",
    "# You can also write temporary files to /kaggle/temp/, but they won't be saved outside of the current session"
   ]
  },
  {
   "cell_type": "code",
   "execution_count": 2,
   "id": "efab18c9",
   "metadata": {
    "execution": {
     "iopub.execute_input": "2021-12-19T19:49:24.499963Z",
     "iopub.status.busy": "2021-12-19T19:49:24.499298Z",
     "iopub.status.idle": "2021-12-19T19:49:30.320432Z",
     "shell.execute_reply": "2021-12-19T19:49:30.319945Z",
     "shell.execute_reply.started": "2021-12-19T19:47:45.259761Z"
    },
    "papermill": {
     "duration": 5.840279,
     "end_time": "2021-12-19T19:49:30.320599",
     "exception": false,
     "start_time": "2021-12-19T19:49:24.480320",
     "status": "completed"
    },
    "tags": []
   },
   "outputs": [],
   "source": [
    "import numpy as np\n",
    "import pandas as pd\n",
    "import tensorflow as tf\n",
    "from tensorflow.keras.preprocessing import image\n",
    "from tensorflow.keras import models, Input, layers, optimizers, regularizers, callbacks, losses, metrics \n",
    "from matplotlib import pyplot as plt\n",
    "from sklearn.model_selection import KFold, train_test_split\n",
    "\n",
    "import warnings\n",
    "warnings.filterwarnings(\"ignore\")\n",
    "\n",
    "%matplotlib inline"
   ]
  },
  {
   "cell_type": "code",
   "execution_count": 3,
   "id": "ae497bcb",
   "metadata": {
    "execution": {
     "iopub.execute_input": "2021-12-19T19:49:30.355477Z",
     "iopub.status.busy": "2021-12-19T19:49:30.354550Z",
     "iopub.status.idle": "2021-12-19T19:49:30.359165Z",
     "shell.execute_reply": "2021-12-19T19:49:30.358695Z",
     "shell.execute_reply.started": "2021-12-19T19:47:51.933967Z"
    },
    "papermill": {
     "duration": 0.023521,
     "end_time": "2021-12-19T19:49:30.359285",
     "exception": false,
     "start_time": "2021-12-19T19:49:30.335764",
     "status": "completed"
    },
    "tags": []
   },
   "outputs": [],
   "source": [
    "# FOR KAGGLE\n",
    "train_images_dir = '../input/petfinder-pawpularity-score/train/'\n",
    "test_images_dir = '../input/petfinder-pawpularity-score/test/'\n",
    "\n",
    "# FOR LOCAL PC\n",
    "# train_images_dir = './dataset/train/'\n",
    "# test_images_dir = './dataset/test/'"
   ]
  },
  {
   "cell_type": "code",
   "execution_count": 4,
   "id": "b764c904",
   "metadata": {
    "execution": {
     "iopub.execute_input": "2021-12-19T19:49:30.395092Z",
     "iopub.status.busy": "2021-12-19T19:49:30.394374Z",
     "iopub.status.idle": "2021-12-19T19:49:30.441369Z",
     "shell.execute_reply": "2021-12-19T19:49:30.442109Z",
     "shell.execute_reply.started": "2021-12-19T19:47:51.940195Z"
    },
    "papermill": {
     "duration": 0.067672,
     "end_time": "2021-12-19T19:49:30.442264",
     "exception": false,
     "start_time": "2021-12-19T19:49:30.374592",
     "status": "completed"
    },
    "tags": []
   },
   "outputs": [],
   "source": [
    "train_df = pd.read_csv('../input/petfinder-pawpularity-score/train.csv')\n",
    "train_df.loc[:, 'filename'] = train_images_dir + train_df['Id'] + '.jpg'\n",
    "\n",
    "test_df = pd.read_csv('../input/petfinder-pawpularity-score/test.csv')\n",
    "test_df.loc[:, 'filename'] = test_images_dir + test_df['Id'] + '.jpg'"
   ]
  },
  {
   "cell_type": "code",
   "execution_count": 5,
   "id": "1814f027",
   "metadata": {
    "execution": {
     "iopub.execute_input": "2021-12-19T19:49:30.475172Z",
     "iopub.status.busy": "2021-12-19T19:49:30.474488Z",
     "iopub.status.idle": "2021-12-19T19:49:30.484947Z",
     "shell.execute_reply": "2021-12-19T19:49:30.484262Z",
     "shell.execute_reply.started": "2021-12-19T19:47:52.016959Z"
    },
    "papermill": {
     "duration": 0.029027,
     "end_time": "2021-12-19T19:49:30.485110",
     "exception": false,
     "start_time": "2021-12-19T19:49:30.456083",
     "status": "completed"
    },
    "tags": []
   },
   "outputs": [],
   "source": [
    "X_train, X_val, y_train, y_val = train_test_split(train_df.loc[:, train_df.columns != 'Pawpularity'], train_df['Pawpularity'], test_size=0.2, random_state=42)"
   ]
  },
  {
   "cell_type": "code",
   "execution_count": 6,
   "id": "e763ea87",
   "metadata": {
    "execution": {
     "iopub.execute_input": "2021-12-19T19:49:30.517076Z",
     "iopub.status.busy": "2021-12-19T19:49:30.516315Z",
     "iopub.status.idle": "2021-12-19T19:49:30.518355Z",
     "shell.execute_reply": "2021-12-19T19:49:30.518788Z",
     "shell.execute_reply.started": "2021-12-19T19:47:52.033979Z"
    },
    "papermill": {
     "duration": 0.020097,
     "end_time": "2021-12-19T19:49:30.518914",
     "exception": false,
     "start_time": "2021-12-19T19:49:30.498817",
     "status": "completed"
    },
    "tags": []
   },
   "outputs": [],
   "source": [
    "cols = ['Subject Focus', 'Eyes', 'Face', 'Near', 'Action', 'Accessory',\n",
    "       'Group', 'Collage', 'Human', 'Occlusion', 'Info', 'Blur']"
   ]
  },
  {
   "cell_type": "code",
   "execution_count": 7,
   "id": "73e35793",
   "metadata": {
    "execution": {
     "iopub.execute_input": "2021-12-19T19:49:30.558458Z",
     "iopub.status.busy": "2021-12-19T19:49:30.557717Z",
     "iopub.status.idle": "2021-12-19T19:49:30.560135Z",
     "shell.execute_reply": "2021-12-19T19:49:30.559731Z",
     "shell.execute_reply.started": "2021-12-19T19:47:52.045447Z"
    },
    "papermill": {
     "duration": 0.027275,
     "end_time": "2021-12-19T19:49:30.560240",
     "exception": false,
     "start_time": "2021-12-19T19:49:30.532965",
     "status": "completed"
    },
    "tags": []
   },
   "outputs": [],
   "source": [
    "img_size = (320, 320, 3)\n",
    "BATCH_SIZE = 32\n",
    "\n",
    "def augment_image(inputs, label=None):\n",
    "    image = tf.image.random_flip_left_right(inputs[0])\n",
    "    image = tf.image.random_flip_up_down(image)\n",
    "    image = tf.image.random_saturation(image, 0.95, 1.05)\n",
    "    image = tf.image.random_brightness(image, 0.05)\n",
    "    image = tf.image.random_contrast(image, 0.95, 1.05)\n",
    "    image = tf.image.random_hue(image, 0.05)\n",
    "    return (image, inputs[1]), label\n",
    "\n",
    "def parse_image(inputs, label=None):\n",
    "    image_string = tf.io.read_file(inputs[0])\n",
    "    image = tf.image.decode_jpeg(image_string, channels=img_size[2])\n",
    "    image = tf.image.convert_image_dtype(image, tf.float32)\n",
    "    image = tf.cast(image, tf.float32) / 255.0\n",
    "    image = tf.image.resize(image, img_size[:2])\n",
    "    return (image, inputs[1]), label\n",
    "\n",
    "def get_dataset(inputs, label=None, shuffle=False, augment=False, repeat=False):\n",
    "    dataset = tf.data.TFRecordDataset.from_tensor_slices((inputs, label))     \n",
    "    dataset = dataset.map(parse_image, num_parallel_calls=4)\n",
    "    if augment:\n",
    "        dataset = dataset.map(augment_image, num_parallel_calls=4)\n",
    "    if repeat:\n",
    "        dataset = dataset.repeat()\n",
    "    if shuffle:\n",
    "        dataset = dataset.shuffle(1024, reshuffle_each_iteration = True)\n",
    "    dataset = dataset.batch(BATCH_SIZE)\n",
    "    dataset = dataset.prefetch(True)\n",
    "    return dataset"
   ]
  },
  {
   "cell_type": "code",
   "execution_count": 8,
   "id": "05b70c90",
   "metadata": {
    "execution": {
     "iopub.execute_input": "2021-12-19T19:49:32.442015Z",
     "iopub.status.busy": "2021-12-19T19:49:32.441100Z",
     "iopub.status.idle": "2021-12-19T19:49:33.027568Z",
     "shell.execute_reply": "2021-12-19T19:49:33.027068Z",
     "shell.execute_reply.started": "2021-12-19T19:47:52.058523Z"
    },
    "papermill": {
     "duration": 2.453434,
     "end_time": "2021-12-19T19:49:33.027695",
     "exception": false,
     "start_time": "2021-12-19T19:49:30.574261",
     "status": "completed"
    },
    "tags": []
   },
   "outputs": [
    {
     "name": "stderr",
     "output_type": "stream",
     "text": [
      "2021-12-19 19:49:30.648866: I tensorflow/stream_executor/cuda/cuda_gpu_executor.cc:937] successful NUMA node read from SysFS had negative value (-1), but there must be at least one NUMA node, so returning NUMA node zero\n",
      "2021-12-19 19:49:30.750102: I tensorflow/stream_executor/cuda/cuda_gpu_executor.cc:937] successful NUMA node read from SysFS had negative value (-1), but there must be at least one NUMA node, so returning NUMA node zero\n",
      "2021-12-19 19:49:30.750866: I tensorflow/stream_executor/cuda/cuda_gpu_executor.cc:937] successful NUMA node read from SysFS had negative value (-1), but there must be at least one NUMA node, so returning NUMA node zero\n",
      "2021-12-19 19:49:30.753376: I tensorflow/core/platform/cpu_feature_guard.cc:142] This TensorFlow binary is optimized with oneAPI Deep Neural Network Library (oneDNN) to use the following CPU instructions in performance-critical operations:  AVX2 AVX512F FMA\n",
      "To enable them in other operations, rebuild TensorFlow with the appropriate compiler flags.\n",
      "2021-12-19 19:49:30.754623: I tensorflow/stream_executor/cuda/cuda_gpu_executor.cc:937] successful NUMA node read from SysFS had negative value (-1), but there must be at least one NUMA node, so returning NUMA node zero\n",
      "2021-12-19 19:49:30.755279: I tensorflow/stream_executor/cuda/cuda_gpu_executor.cc:937] successful NUMA node read from SysFS had negative value (-1), but there must be at least one NUMA node, so returning NUMA node zero\n",
      "2021-12-19 19:49:30.755957: I tensorflow/stream_executor/cuda/cuda_gpu_executor.cc:937] successful NUMA node read from SysFS had negative value (-1), but there must be at least one NUMA node, so returning NUMA node zero\n",
      "2021-12-19 19:49:32.432198: I tensorflow/stream_executor/cuda/cuda_gpu_executor.cc:937] successful NUMA node read from SysFS had negative value (-1), but there must be at least one NUMA node, so returning NUMA node zero\n",
      "2021-12-19 19:49:32.433086: I tensorflow/stream_executor/cuda/cuda_gpu_executor.cc:937] successful NUMA node read from SysFS had negative value (-1), but there must be at least one NUMA node, so returning NUMA node zero\n",
      "2021-12-19 19:49:32.433824: I tensorflow/stream_executor/cuda/cuda_gpu_executor.cc:937] successful NUMA node read from SysFS had negative value (-1), but there must be at least one NUMA node, so returning NUMA node zero\n",
      "2021-12-19 19:49:32.434439: I tensorflow/core/common_runtime/gpu/gpu_device.cc:1510] Created device /job:localhost/replica:0/task:0/device:GPU:0 with 15403 MB memory:  -> device: 0, name: Tesla P100-PCIE-16GB, pci bus id: 0000:00:04.0, compute capability: 6.0\n"
     ]
    }
   ],
   "source": [
    "train_dataset = get_dataset((X_train['filename'], X_train[cols]), y_train, shuffle=True, augment=True)\n",
    "val_dataset = get_dataset((X_val['filename'], X_val[cols]), y_val)\n",
    "test_dataset = get_dataset((test_df['filename'], test_df[cols]))"
   ]
  },
  {
   "cell_type": "code",
   "execution_count": 9,
   "id": "e2e73bd5",
   "metadata": {
    "execution": {
     "iopub.execute_input": "2021-12-19T19:49:33.069417Z",
     "iopub.status.busy": "2021-12-19T19:49:33.068885Z",
     "iopub.status.idle": "2021-12-19T19:49:33.100693Z",
     "shell.execute_reply": "2021-12-19T19:49:33.101121Z",
     "shell.execute_reply.started": "2021-12-19T19:47:52.373364Z"
    },
    "papermill": {
     "duration": 0.058606,
     "end_time": "2021-12-19T19:49:33.101256",
     "exception": false,
     "start_time": "2021-12-19T19:49:33.042650",
     "status": "completed"
    },
    "tags": []
   },
   "outputs": [],
   "source": [
    "img_augmentation = tf.keras.models.Sequential(\n",
    "    [\n",
    "        layers.RandomRotation(factor=1/32),\n",
    "        layers.RandomTranslation(height_factor=0.1, width_factor=0.1),\n",
    "        layers.RandomFlip('horizontal'),\n",
    "        layers.RandomContrast(factor=0.1),\n",
    "    ],\n",
    "    name=\"img_augmentation\",\n",
    ")\n",
    "\n",
    "def build_model():\n",
    "    # inputs\n",
    "    image_input = Input(shape=img_size)\n",
    "    tabular_input = Input(shape=(len(cols),))\n",
    "    \n",
    "    mobilenet = tf.keras.applications.MobileNetV3Small(include_top=False, weights=\"imagenet\")\n",
    "    # Freeze the pretrained weights\n",
    "    mobilenet.trainable = False\n",
    "    # Rebuild top\n",
    "    x = mobilenet(image_input)\n",
    "    x = layers.GlobalAveragePooling2D(name=\"avg_pool\")(x)\n",
    "    x = layers.BatchNormalization()(x)\n",
    "    top_dropout_rate = 0.2\n",
    "    x = layers.Dropout(top_dropout_rate, name=\"top_dropout\")(x)\n",
    "    flat_img = layers.Dense(64, activation=\"relu\", name=\"features\")(x)\n",
    "\n",
    "    # tabular metadata processing\n",
    "    y = layers.Dense(128, activation='relu')(tabular_input)\n",
    "    y = layers.Dropout(0.3)(y)\n",
    "    y = layers.Dense(64, activation='relu')(y)\n",
    "    y = layers.Dropout(0.3)(y)\n",
    "\n",
    "    # combining\n",
    "    z = layers.Concatenate(name='concat')([flat_img, y])\n",
    "    z = layers.Dense(32, activation='relu')(z)\n",
    "    z = layers.Dropout(0.3)(z)\n",
    "    z = layers.Dense(16, activation='relu')(z)\n",
    "    output = layers.Dense(1)(z)\n",
    "    # output = layers.Rescaling(100)(z)\n",
    "\n",
    "    model = tf.keras.Model(\n",
    "        inputs = (image_input, tabular_input),\n",
    "        outputs=output\n",
    "    )\n",
    "    model.compile(optimizer=optimizers.Adam(), \n",
    "                  loss=losses.MeanSquaredError(), \n",
    "                  metrics=[metrics.RootMeanSquaredError()]\n",
    "                 )\n",
    "    return model"
   ]
  },
  {
   "cell_type": "code",
   "execution_count": 10,
   "id": "85cea931",
   "metadata": {
    "execution": {
     "iopub.execute_input": "2021-12-19T19:49:33.143036Z",
     "iopub.status.busy": "2021-12-19T19:49:33.142080Z",
     "iopub.status.idle": "2021-12-19T19:49:34.900013Z",
     "shell.execute_reply": "2021-12-19T19:49:34.899350Z",
     "shell.execute_reply.started": "2021-12-19T19:47:52.420630Z"
    },
    "papermill": {
     "duration": 1.783516,
     "end_time": "2021-12-19T19:49:34.900147",
     "exception": false,
     "start_time": "2021-12-19T19:49:33.116631",
     "status": "completed"
    },
    "tags": []
   },
   "outputs": [
    {
     "name": "stdout",
     "output_type": "stream",
     "text": [
      "Downloading data from https://storage.googleapis.com/tensorflow/keras-applications/mobilenet_v3/weights_mobilenet_v3_small_224_1.0_float_no_top.h5\n",
      "6701056/6698480 [==============================] - 0s 0us/step\n",
      "6709248/6698480 [==============================] - 0s 0us/step\n"
     ]
    }
   ],
   "source": [
    "model = build_model()"
   ]
  },
  {
   "cell_type": "code",
   "execution_count": 11,
   "id": "906e4245",
   "metadata": {
    "execution": {
     "iopub.execute_input": "2021-12-19T19:49:34.937491Z",
     "iopub.status.busy": "2021-12-19T19:49:34.936978Z",
     "iopub.status.idle": "2021-12-19T23:15:30.067156Z",
     "shell.execute_reply": "2021-12-19T23:15:30.065854Z",
     "shell.execute_reply.started": "2021-12-19T19:47:54.249405Z"
    },
    "papermill": {
     "duration": 12355.151505,
     "end_time": "2021-12-19T23:15:30.067342",
     "exception": false,
     "start_time": "2021-12-19T19:49:34.915837",
     "status": "completed"
    },
    "tags": []
   },
   "outputs": [
    {
     "name": "stdout",
     "output_type": "stream",
     "text": [
      "Epoch 1/100\n"
     ]
    },
    {
     "name": "stderr",
     "output_type": "stream",
     "text": [
      "2021-12-19 19:49:37.879749: I tensorflow/compiler/mlir/mlir_graph_optimization_pass.cc:185] None of the MLIR Optimization Passes are enabled (registered 2)\n",
      "2021-12-19 19:49:48.337694: I tensorflow/core/kernels/data/shuffle_dataset_op.cc:175] Filling up shuffle buffer (this may take a while): 942 of 1024\n",
      "2021-12-19 19:49:49.214834: I tensorflow/core/kernels/data/shuffle_dataset_op.cc:228] Shuffle buffer filled.\n",
      "2021-12-19 19:49:51.084258: I tensorflow/stream_executor/cuda/cuda_dnn.cc:369] Loaded cuDNN version 8005\n"
     ]
    },
    {
     "name": "stdout",
     "output_type": "stream",
     "text": [
      "248/248 [==============================] - 115s 381ms/step - loss: 618.2010 - root_mean_squared_error: 24.8636 - val_loss: 444.9302 - val_root_mean_squared_error: 21.0934\n",
      "Epoch 2/100\n",
      "248/248 [==============================] - 89s 324ms/step - loss: 445.9944 - root_mean_squared_error: 21.1186 - val_loss: 455.5911 - val_root_mean_squared_error: 21.3446\n",
      "Epoch 3/100\n",
      "248/248 [==============================] - 90s 328ms/step - loss: 449.2879 - root_mean_squared_error: 21.1964 - val_loss: 449.6078 - val_root_mean_squared_error: 21.2040\n",
      "Epoch 4/100\n",
      "248/248 [==============================] - 90s 327ms/step - loss: 444.7314 - root_mean_squared_error: 21.0887 - val_loss: 448.5503 - val_root_mean_squared_error: 21.1790\n",
      "Epoch 5/100\n",
      "248/248 [==============================] - 91s 330ms/step - loss: 442.1070 - root_mean_squared_error: 21.0263 - val_loss: 467.5411 - val_root_mean_squared_error: 21.6227\n",
      "Epoch 6/100\n",
      "248/248 [==============================] - 91s 329ms/step - loss: 439.8376 - root_mean_squared_error: 20.9723 - val_loss: 459.7364 - val_root_mean_squared_error: 21.4415\n",
      "Epoch 7/100\n",
      "248/248 [==============================] - 91s 331ms/step - loss: 437.6691 - root_mean_squared_error: 20.9205 - val_loss: 461.0304 - val_root_mean_squared_error: 21.4716\n",
      "Epoch 8/100\n",
      "248/248 [==============================] - 89s 323ms/step - loss: 437.7957 - root_mean_squared_error: 20.9236 - val_loss: 464.7367 - val_root_mean_squared_error: 21.5578\n",
      "Epoch 9/100\n",
      "248/248 [==============================] - 90s 328ms/step - loss: 436.5724 - root_mean_squared_error: 20.8943 - val_loss: 477.2652 - val_root_mean_squared_error: 21.8464\n",
      "Epoch 10/100\n",
      "248/248 [==============================] - 89s 325ms/step - loss: 433.4847 - root_mean_squared_error: 20.8203 - val_loss: 504.5536 - val_root_mean_squared_error: 22.4623\n",
      "Epoch 11/100\n",
      "248/248 [==============================] - 87s 314ms/step - loss: 430.3448 - root_mean_squared_error: 20.7448 - val_loss: 510.0082 - val_root_mean_squared_error: 22.5834\n",
      "Epoch 12/100\n",
      "248/248 [==============================] - 88s 317ms/step - loss: 431.2021 - root_mean_squared_error: 20.7654 - val_loss: 514.7481 - val_root_mean_squared_error: 22.6881\n",
      "Epoch 13/100\n",
      "248/248 [==============================] - 90s 327ms/step - loss: 429.2288 - root_mean_squared_error: 20.7178 - val_loss: 503.5502 - val_root_mean_squared_error: 22.4399\n",
      "Epoch 14/100\n",
      "248/248 [==============================] - 90s 326ms/step - loss: 425.3922 - root_mean_squared_error: 20.6250 - val_loss: 506.4233 - val_root_mean_squared_error: 22.5039\n",
      "Epoch 15/100\n",
      "248/248 [==============================] - 90s 328ms/step - loss: 427.4457 - root_mean_squared_error: 20.6748 - val_loss: 538.5681 - val_root_mean_squared_error: 23.2071\n",
      "Epoch 16/100\n",
      "248/248 [==============================] - 89s 321ms/step - loss: 425.7560 - root_mean_squared_error: 20.6339 - val_loss: 597.3956 - val_root_mean_squared_error: 24.4417\n",
      "Epoch 17/100\n",
      "248/248 [==============================] - 90s 324ms/step - loss: 424.2082 - root_mean_squared_error: 20.5963 - val_loss: 548.7825 - val_root_mean_squared_error: 23.4261\n",
      "Epoch 18/100\n",
      "248/248 [==============================] - 91s 328ms/step - loss: 424.2885 - root_mean_squared_error: 20.5983 - val_loss: 520.6725 - val_root_mean_squared_error: 22.8182\n",
      "Epoch 19/100\n",
      "248/248 [==============================] - 90s 330ms/step - loss: 426.2837 - root_mean_squared_error: 20.6466 - val_loss: 488.9202 - val_root_mean_squared_error: 22.1115\n",
      "Epoch 20/100\n"
     ]
    },
    {
     "name": "stderr",
     "output_type": "stream",
     "text": [
      "2021-12-19 20:28:41.613197: I tensorflow/core/kernels/data/shuffle_dataset_op.cc:175] Filling up shuffle buffer (this may take a while): 1003 of 1024\n",
      "2021-12-19 20:28:41.788715: I tensorflow/core/kernels/data/shuffle_dataset_op.cc:228] Shuffle buffer filled.\n"
     ]
    },
    {
     "name": "stdout",
     "output_type": "stream",
     "text": [
      "248/248 [==============================] - 91s 326ms/step - loss: 424.0328 - root_mean_squared_error: 20.5921 - val_loss: 513.4326 - val_root_mean_squared_error: 22.6590\n",
      "Epoch 21/100\n",
      "248/248 [==============================] - 90s 330ms/step - loss: 424.5713 - root_mean_squared_error: 20.6051 - val_loss: 512.5302 - val_root_mean_squared_error: 22.6391\n",
      "Epoch 22/100\n"
     ]
    },
    {
     "name": "stderr",
     "output_type": "stream",
     "text": [
      "2021-12-19 20:32:34.548678: I tensorflow/core/kernels/data/shuffle_dataset_op.cc:175] Filling up shuffle buffer (this may take a while): 991 of 1024\n",
      "2021-12-19 20:32:34.782471: I tensorflow/core/kernels/data/shuffle_dataset_op.cc:228] Shuffle buffer filled.\n"
     ]
    },
    {
     "name": "stdout",
     "output_type": "stream",
     "text": [
      "248/248 [==============================] - 88s 313ms/step - loss: 423.9516 - root_mean_squared_error: 20.5901 - val_loss: 542.8110 - val_root_mean_squared_error: 23.2983\n",
      "Epoch 23/100\n",
      "248/248 [==============================] - 91s 329ms/step - loss: 426.4773 - root_mean_squared_error: 20.6513 - val_loss: 578.1575 - val_root_mean_squared_error: 24.0449\n",
      "Epoch 24/100\n",
      "248/248 [==============================] - 91s 327ms/step - loss: 423.6097 - root_mean_squared_error: 20.5818 - val_loss: 501.0579 - val_root_mean_squared_error: 22.3843\n",
      "Epoch 25/100\n"
     ]
    },
    {
     "name": "stderr",
     "output_type": "stream",
     "text": [
      "2021-12-19 20:39:40.274897: I tensorflow/core/kernels/data/shuffle_dataset_op.cc:175] Filling up shuffle buffer (this may take a while): 979 of 1024\n",
      "2021-12-19 20:39:40.795633: I tensorflow/core/kernels/data/shuffle_dataset_op.cc:228] Shuffle buffer filled.\n"
     ]
    },
    {
     "name": "stdout",
     "output_type": "stream",
     "text": [
      "248/248 [==============================] - 90s 321ms/step - loss: 421.9523 - root_mean_squared_error: 20.5415 - val_loss: 515.9444 - val_root_mean_squared_error: 22.7144\n",
      "Epoch 26/100\n",
      "248/248 [==============================] - 91s 329ms/step - loss: 424.0726 - root_mean_squared_error: 20.5930 - val_loss: 495.2444 - val_root_mean_squared_error: 22.2541\n",
      "Epoch 27/100\n",
      "248/248 [==============================] - 91s 326ms/step - loss: 422.3451 - root_mean_squared_error: 20.5510 - val_loss: 546.2146 - val_root_mean_squared_error: 23.3712\n",
      "Epoch 28/100\n",
      "248/248 [==============================] - 90s 330ms/step - loss: 420.7512 - root_mean_squared_error: 20.5122 - val_loss: 538.9700 - val_root_mean_squared_error: 23.2157\n",
      "Epoch 29/100\n",
      "248/248 [==============================] - 88s 316ms/step - loss: 422.1872 - root_mean_squared_error: 20.5472 - val_loss: 550.2986 - val_root_mean_squared_error: 23.4584\n",
      "Epoch 30/100\n",
      "248/248 [==============================] - 92s 335ms/step - loss: 422.0894 - root_mean_squared_error: 20.5448 - val_loss: 554.2776 - val_root_mean_squared_error: 23.5431\n",
      "Epoch 31/100\n"
     ]
    },
    {
     "name": "stderr",
     "output_type": "stream",
     "text": [
      "2021-12-19 20:50:25.761442: I tensorflow/core/kernels/data/shuffle_dataset_op.cc:175] Filling up shuffle buffer (this may take a while): 981 of 1024\n",
      "2021-12-19 20:50:26.108195: I tensorflow/core/kernels/data/shuffle_dataset_op.cc:228] Shuffle buffer filled.\n"
     ]
    },
    {
     "name": "stdout",
     "output_type": "stream",
     "text": [
      "248/248 [==============================] - 93s 334ms/step - loss: 421.6452 - root_mean_squared_error: 20.5340 - val_loss: 535.6784 - val_root_mean_squared_error: 23.1447\n",
      "Epoch 32/100\n"
     ]
    },
    {
     "name": "stderr",
     "output_type": "stream",
     "text": [
      "2021-12-19 20:52:47.671845: I tensorflow/core/kernels/data/shuffle_dataset_op.cc:175] Filling up shuffle buffer (this may take a while): 956 of 1024\n",
      "2021-12-19 20:52:48.228041: I tensorflow/core/kernels/data/shuffle_dataset_op.cc:228] Shuffle buffer filled.\n"
     ]
    },
    {
     "name": "stdout",
     "output_type": "stream",
     "text": [
      "248/248 [==============================] - 90s 319ms/step - loss: 420.2352 - root_mean_squared_error: 20.4996 - val_loss: 564.1326 - val_root_mean_squared_error: 23.7515\n",
      "Epoch 33/100\n"
     ]
    },
    {
     "name": "stderr",
     "output_type": "stream",
     "text": [
      "2021-12-19 20:55:09.579430: I tensorflow/core/kernels/data/shuffle_dataset_op.cc:175] Filling up shuffle buffer (this may take a while): 1021 of 1024\n",
      "2021-12-19 20:55:09.587214: I tensorflow/core/kernels/data/shuffle_dataset_op.cc:228] Shuffle buffer filled.\n"
     ]
    },
    {
     "name": "stdout",
     "output_type": "stream",
     "text": [
      "248/248 [==============================] - 92s 331ms/step - loss: 420.5910 - root_mean_squared_error: 20.5083 - val_loss: 561.8539 - val_root_mean_squared_error: 23.7035\n",
      "Epoch 34/100\n"
     ]
    },
    {
     "name": "stderr",
     "output_type": "stream",
     "text": [
      "2021-12-19 20:57:31.490314: I tensorflow/core/kernels/data/shuffle_dataset_op.cc:175] Filling up shuffle buffer (this may take a while): 1006 of 1024\n",
      "2021-12-19 20:57:31.634007: I tensorflow/core/kernels/data/shuffle_dataset_op.cc:228] Shuffle buffer filled.\n"
     ]
    },
    {
     "name": "stdout",
     "output_type": "stream",
     "text": [
      "248/248 [==============================] - 90s 323ms/step - loss: 423.5186 - root_mean_squared_error: 20.5796 - val_loss: 541.2827 - val_root_mean_squared_error: 23.2655\n",
      "Epoch 35/100\n",
      "248/248 [==============================] - 91s 332ms/step - loss: 420.3462 - root_mean_squared_error: 20.5023 - val_loss: 551.3999 - val_root_mean_squared_error: 23.4819\n",
      "Epoch 36/100\n"
     ]
    },
    {
     "name": "stderr",
     "output_type": "stream",
     "text": [
      "2021-12-19 21:01:23.720713: I tensorflow/core/kernels/data/shuffle_dataset_op.cc:175] Filling up shuffle buffer (this may take a while): 981 of 1024\n",
      "2021-12-19 21:01:24.090689: I tensorflow/core/kernels/data/shuffle_dataset_op.cc:228] Shuffle buffer filled.\n"
     ]
    },
    {
     "name": "stdout",
     "output_type": "stream",
     "text": [
      "248/248 [==============================] - 94s 336ms/step - loss: 422.3323 - root_mean_squared_error: 20.5507 - val_loss: 470.4791 - val_root_mean_squared_error: 21.6905\n",
      "Epoch 37/100\n",
      "248/248 [==============================] - 90s 332ms/step - loss: 422.3183 - root_mean_squared_error: 20.5504 - val_loss: 541.4688 - val_root_mean_squared_error: 23.2695\n",
      "Epoch 38/100\n"
     ]
    },
    {
     "name": "stderr",
     "output_type": "stream",
     "text": [
      "2021-12-19 21:04:27.931147: I tensorflow/core/kernels/data/shuffle_dataset_op.cc:175] Filling up shuffle buffer (this may take a while): 977 of 1024\n",
      "2021-12-19 21:04:28.280806: I tensorflow/core/kernels/data/shuffle_dataset_op.cc:228] Shuffle buffer filled.\n"
     ]
    },
    {
     "name": "stdout",
     "output_type": "stream",
     "text": [
      "248/248 [==============================] - 90s 321ms/step - loss: 419.3832 - root_mean_squared_error: 20.4788 - val_loss: 551.4398 - val_root_mean_squared_error: 23.4828\n",
      "Epoch 39/100\n",
      "248/248 [==============================] - 89s 320ms/step - loss: 419.5199 - root_mean_squared_error: 20.4822 - val_loss: 593.0557 - val_root_mean_squared_error: 24.3527\n",
      "Epoch 40/100\n"
     ]
    },
    {
     "name": "stderr",
     "output_type": "stream",
     "text": [
      "2021-12-19 21:07:26.834161: I tensorflow/core/kernels/data/shuffle_dataset_op.cc:175] Filling up shuffle buffer (this may take a while): 981 of 1024\n",
      "2021-12-19 21:07:27.173682: I tensorflow/core/kernels/data/shuffle_dataset_op.cc:228] Shuffle buffer filled.\n"
     ]
    },
    {
     "name": "stdout",
     "output_type": "stream",
     "text": [
      "248/248 [==============================] - 94s 336ms/step - loss: 420.6826 - root_mean_squared_error: 20.5105 - val_loss: 621.0639 - val_root_mean_squared_error: 24.9212\n",
      "Epoch 41/100\n",
      "248/248 [==============================] - 92s 336ms/step - loss: 420.4393 - root_mean_squared_error: 20.5046 - val_loss: 554.8361 - val_root_mean_squared_error: 23.5550\n",
      "Epoch 42/100\n"
     ]
    },
    {
     "name": "stderr",
     "output_type": "stream",
     "text": [
      "2021-12-19 21:10:32.280180: I tensorflow/core/kernels/data/shuffle_dataset_op.cc:175] Filling up shuffle buffer (this may take a while): 974 of 1024\n",
      "2021-12-19 21:10:32.697110: I tensorflow/core/kernels/data/shuffle_dataset_op.cc:228] Shuffle buffer filled.\n"
     ]
    },
    {
     "name": "stdout",
     "output_type": "stream",
     "text": [
      "248/248 [==============================] - 93s 335ms/step - loss: 418.6616 - root_mean_squared_error: 20.4612 - val_loss: 542.1939 - val_root_mean_squared_error: 23.2851\n",
      "Epoch 43/100\n"
     ]
    },
    {
     "name": "stderr",
     "output_type": "stream",
     "text": [
      "2021-12-19 21:12:54.195848: I tensorflow/core/kernels/data/shuffle_dataset_op.cc:175] Filling up shuffle buffer (this may take a while): 966 of 1024\n",
      "2021-12-19 21:12:54.672412: I tensorflow/core/kernels/data/shuffle_dataset_op.cc:228] Shuffle buffer filled.\n"
     ]
    },
    {
     "name": "stdout",
     "output_type": "stream",
     "text": [
      "248/248 [==============================] - 93s 331ms/step - loss: 419.2747 - root_mean_squared_error: 20.4762 - val_loss: 549.8214 - val_root_mean_squared_error: 23.4483\n",
      "Epoch 44/100\n",
      "248/248 [==============================] - 93s 338ms/step - loss: 419.8441 - root_mean_squared_error: 20.4901 - val_loss: 542.9324 - val_root_mean_squared_error: 23.3009\n",
      "Epoch 45/100\n"
     ]
    },
    {
     "name": "stderr",
     "output_type": "stream",
     "text": [
      "2021-12-19 21:16:48.791427: I tensorflow/core/kernels/data/shuffle_dataset_op.cc:175] Filling up shuffle buffer (this may take a while): 937 of 1024\n",
      "2021-12-19 21:16:49.473375: I tensorflow/core/kernels/data/shuffle_dataset_op.cc:228] Shuffle buffer filled.\n"
     ]
    },
    {
     "name": "stdout",
     "output_type": "stream",
     "text": [
      "248/248 [==============================] - 95s 339ms/step - loss: 419.3040 - root_mean_squared_error: 20.4769 - val_loss: 532.3454 - val_root_mean_squared_error: 23.0726\n",
      "Epoch 46/100\n"
     ]
    },
    {
     "name": "stderr",
     "output_type": "stream",
     "text": [
      "2021-12-19 21:19:10.692814: I tensorflow/core/kernels/data/shuffle_dataset_op.cc:175] Filling up shuffle buffer (this may take a while): 838 of 1024\n",
      "2021-12-19 21:19:12.170667: I tensorflow/core/kernels/data/shuffle_dataset_op.cc:228] Shuffle buffer filled.\n"
     ]
    },
    {
     "name": "stdout",
     "output_type": "stream",
     "text": [
      "248/248 [==============================] - 95s 336ms/step - loss: 418.8664 - root_mean_squared_error: 20.4662 - val_loss: 567.0532 - val_root_mean_squared_error: 23.8129\n",
      "Epoch 47/100\n"
     ]
    },
    {
     "name": "stderr",
     "output_type": "stream",
     "text": [
      "2021-12-19 21:21:32.612645: I tensorflow/core/kernels/data/shuffle_dataset_op.cc:175] Filling up shuffle buffer (this may take a while): 929 of 1024\n",
      "2021-12-19 21:21:33.408086: I tensorflow/core/kernels/data/shuffle_dataset_op.cc:228] Shuffle buffer filled.\n"
     ]
    },
    {
     "name": "stdout",
     "output_type": "stream",
     "text": [
      "248/248 [==============================] - 95s 341ms/step - loss: 419.4028 - root_mean_squared_error: 20.4793 - val_loss: 584.5503 - val_root_mean_squared_error: 24.1775\n",
      "Epoch 48/100\n"
     ]
    },
    {
     "name": "stderr",
     "output_type": "stream",
     "text": [
      "2021-12-19 21:23:54.515996: I tensorflow/core/kernels/data/shuffle_dataset_op.cc:175] Filling up shuffle buffer (this may take a while): 907 of 1024\n",
      "2021-12-19 21:23:55.434010: I tensorflow/core/kernels/data/shuffle_dataset_op.cc:228] Shuffle buffer filled.\n"
     ]
    },
    {
     "name": "stdout",
     "output_type": "stream",
     "text": [
      "248/248 [==============================] - 95s 338ms/step - loss: 419.4814 - root_mean_squared_error: 20.4812 - val_loss: 543.8698 - val_root_mean_squared_error: 23.3210\n",
      "Epoch 49/100\n"
     ]
    },
    {
     "name": "stderr",
     "output_type": "stream",
     "text": [
      "2021-12-19 21:26:16.440820: I tensorflow/core/kernels/data/shuffle_dataset_op.cc:175] Filling up shuffle buffer (this may take a while): 811 of 1024\n",
      "2021-12-19 21:26:18.081365: I tensorflow/core/kernels/data/shuffle_dataset_op.cc:228] Shuffle buffer filled.\n"
     ]
    },
    {
     "name": "stdout",
     "output_type": "stream",
     "text": [
      "248/248 [==============================] - 90s 315ms/step - loss: 418.6233 - root_mean_squared_error: 20.4603 - val_loss: 540.4922 - val_root_mean_squared_error: 23.2485\n",
      "Epoch 50/100\n"
     ]
    },
    {
     "name": "stderr",
     "output_type": "stream",
     "text": [
      "2021-12-19 21:28:38.338575: I tensorflow/core/kernels/data/shuffle_dataset_op.cc:175] Filling up shuffle buffer (this may take a while): 897 of 1024\n",
      "2021-12-19 21:28:39.396270: I tensorflow/core/kernels/data/shuffle_dataset_op.cc:228] Shuffle buffer filled.\n"
     ]
    },
    {
     "name": "stdout",
     "output_type": "stream",
     "text": [
      "248/248 [==============================] - 89s 316ms/step - loss: 419.7654 - root_mean_squared_error: 20.4882 - val_loss: 597.8986 - val_root_mean_squared_error: 24.4520\n",
      "Epoch 51/100\n"
     ]
    },
    {
     "name": "stderr",
     "output_type": "stream",
     "text": [
      "2021-12-19 21:31:00.281433: I tensorflow/core/kernels/data/shuffle_dataset_op.cc:175] Filling up shuffle buffer (this may take a while): 917 of 1024\n",
      "2021-12-19 21:31:01.365334: I tensorflow/core/kernels/data/shuffle_dataset_op.cc:228] Shuffle buffer filled.\n"
     ]
    },
    {
     "name": "stdout",
     "output_type": "stream",
     "text": [
      "248/248 [==============================] - 93s 332ms/step - loss: 419.5455 - root_mean_squared_error: 20.4828 - val_loss: 558.1833 - val_root_mean_squared_error: 23.6259\n",
      "Epoch 52/100\n"
     ]
    },
    {
     "name": "stderr",
     "output_type": "stream",
     "text": [
      "2021-12-19 21:33:22.195762: I tensorflow/core/kernels/data/shuffle_dataset_op.cc:175] Filling up shuffle buffer (this may take a while): 922 of 1024\n",
      "2021-12-19 21:33:23.644206: I tensorflow/core/kernels/data/shuffle_dataset_op.cc:228] Shuffle buffer filled.\n"
     ]
    },
    {
     "name": "stdout",
     "output_type": "stream",
     "text": [
      "248/248 [==============================] - 93s 327ms/step - loss: 419.4328 - root_mean_squared_error: 20.4801 - val_loss: 574.7422 - val_root_mean_squared_error: 23.9738\n",
      "Epoch 53/100\n",
      "248/248 [==============================] - 87s 318ms/step - loss: 421.4144 - root_mean_squared_error: 20.5284 - val_loss: 555.7482 - val_root_mean_squared_error: 23.5743\n",
      "Epoch 54/100\n"
     ]
    },
    {
     "name": "stderr",
     "output_type": "stream",
     "text": [
      "2021-12-19 21:37:17.075194: I tensorflow/core/kernels/data/shuffle_dataset_op.cc:175] Filling up shuffle buffer (this may take a while): 800 of 1024\n",
      "2021-12-19 21:37:18.813079: I tensorflow/core/kernels/data/shuffle_dataset_op.cc:228] Shuffle buffer filled.\n"
     ]
    },
    {
     "name": "stdout",
     "output_type": "stream",
     "text": [
      "248/248 [==============================] - 92s 323ms/step - loss: 418.0854 - root_mean_squared_error: 20.4471 - val_loss: 546.5331 - val_root_mean_squared_error: 23.3780\n",
      "Epoch 55/100\n"
     ]
    },
    {
     "name": "stderr",
     "output_type": "stream",
     "text": [
      "2021-12-19 21:39:39.007776: I tensorflow/core/kernels/data/shuffle_dataset_op.cc:175] Filling up shuffle buffer (this may take a while): 869 of 1024\n",
      "2021-12-19 21:39:40.333506: I tensorflow/core/kernels/data/shuffle_dataset_op.cc:228] Shuffle buffer filled.\n"
     ]
    },
    {
     "name": "stdout",
     "output_type": "stream",
     "text": [
      "248/248 [==============================] - 93s 331ms/step - loss: 418.7890 - root_mean_squared_error: 20.4643 - val_loss: 520.1769 - val_root_mean_squared_error: 22.8074\n",
      "Epoch 56/100\n"
     ]
    },
    {
     "name": "stderr",
     "output_type": "stream",
     "text": [
      "2021-12-19 21:42:00.942462: I tensorflow/core/kernels/data/shuffle_dataset_op.cc:175] Filling up shuffle buffer (this may take a while): 858 of 1024\n",
      "2021-12-19 21:42:02.214030: I tensorflow/core/kernels/data/shuffle_dataset_op.cc:228] Shuffle buffer filled.\n"
     ]
    },
    {
     "name": "stdout",
     "output_type": "stream",
     "text": [
      "248/248 [==============================] - 93s 330ms/step - loss: 419.2003 - root_mean_squared_error: 20.4744 - val_loss: 581.7259 - val_root_mean_squared_error: 24.1190\n",
      "Epoch 57/100\n",
      "248/248 [==============================] - 90s 329ms/step - loss: 422.0990 - root_mean_squared_error: 20.5450 - val_loss: 517.8697 - val_root_mean_squared_error: 22.7568\n",
      "Epoch 58/100\n"
     ]
    },
    {
     "name": "stderr",
     "output_type": "stream",
     "text": [
      "2021-12-19 21:45:56.017530: I tensorflow/core/kernels/data/shuffle_dataset_op.cc:175] Filling up shuffle buffer (this may take a while): 858 of 1024\n",
      "2021-12-19 21:45:57.307947: I tensorflow/core/kernels/data/shuffle_dataset_op.cc:228] Shuffle buffer filled.\n"
     ]
    },
    {
     "name": "stdout",
     "output_type": "stream",
     "text": [
      "248/248 [==============================] - 94s 335ms/step - loss: 418.1599 - root_mean_squared_error: 20.4490 - val_loss: 542.9715 - val_root_mean_squared_error: 23.3017\n",
      "Epoch 59/100\n",
      "248/248 [==============================] - 91s 333ms/step - loss: 417.7303 - root_mean_squared_error: 20.4385 - val_loss: 568.3045 - val_root_mean_squared_error: 23.8391\n",
      "Epoch 60/100\n"
     ]
    },
    {
     "name": "stderr",
     "output_type": "stream",
     "text": [
      "2021-12-19 21:49:52.397581: I tensorflow/core/kernels/data/shuffle_dataset_op.cc:175] Filling up shuffle buffer (this may take a while): 858 of 1024\n",
      "2021-12-19 21:49:54.622609: I tensorflow/core/kernels/data/shuffle_dataset_op.cc:228] Shuffle buffer filled.\n"
     ]
    },
    {
     "name": "stdout",
     "output_type": "stream",
     "text": [
      "248/248 [==============================] - 91s 317ms/step - loss: 417.6894 - root_mean_squared_error: 20.4375 - val_loss: 537.5251 - val_root_mean_squared_error: 23.1846\n",
      "Epoch 61/100\n"
     ]
    },
    {
     "name": "stderr",
     "output_type": "stream",
     "text": [
      "2021-12-19 21:52:14.284823: I tensorflow/core/kernels/data/shuffle_dataset_op.cc:175] Filling up shuffle buffer (this may take a while): 734 of 1024\n",
      "2021-12-19 21:52:16.940282: I tensorflow/core/kernels/data/shuffle_dataset_op.cc:228] Shuffle buffer filled.\n"
     ]
    },
    {
     "name": "stdout",
     "output_type": "stream",
     "text": [
      "248/248 [==============================] - 95s 331ms/step - loss: 415.8335 - root_mean_squared_error: 20.3920 - val_loss: 554.9352 - val_root_mean_squared_error: 23.5571\n",
      "Epoch 62/100\n",
      "248/248 [==============================] - 88s 317ms/step - loss: 418.9452 - root_mean_squared_error: 20.4682 - val_loss: 576.5809 - val_root_mean_squared_error: 24.0121\n",
      "Epoch 63/100\n",
      "248/248 [==============================] - 89s 323ms/step - loss: 417.7564 - root_mean_squared_error: 20.4391 - val_loss: 562.4651 - val_root_mean_squared_error: 23.7163\n",
      "Epoch 64/100\n"
     ]
    },
    {
     "name": "stderr",
     "output_type": "stream",
     "text": [
      "2021-12-19 21:57:39.329417: I tensorflow/core/kernels/data/shuffle_dataset_op.cc:175] Filling up shuffle buffer (this may take a while): 760 of 1024\n",
      "2021-12-19 21:57:41.582644: I tensorflow/core/kernels/data/shuffle_dataset_op.cc:228] Shuffle buffer filled.\n"
     ]
    },
    {
     "name": "stdout",
     "output_type": "stream",
     "text": [
      "248/248 [==============================] - 95s 334ms/step - loss: 419.0845 - root_mean_squared_error: 20.4716 - val_loss: 579.2786 - val_root_mean_squared_error: 24.0682\n",
      "Epoch 65/100\n"
     ]
    },
    {
     "name": "stderr",
     "output_type": "stream",
     "text": [
      "2021-12-19 22:00:01.232313: I tensorflow/core/kernels/data/shuffle_dataset_op.cc:175] Filling up shuffle buffer (this may take a while): 809 of 1024\n",
      "2021-12-19 22:00:02.980213: I tensorflow/core/kernels/data/shuffle_dataset_op.cc:228] Shuffle buffer filled.\n"
     ]
    },
    {
     "name": "stdout",
     "output_type": "stream",
     "text": [
      "248/248 [==============================] - 95s 336ms/step - loss: 417.6377 - root_mean_squared_error: 20.4362 - val_loss: 582.9070 - val_root_mean_squared_error: 24.1435\n",
      "Epoch 66/100\n"
     ]
    },
    {
     "name": "stderr",
     "output_type": "stream",
     "text": [
      "2021-12-19 22:02:23.160283: I tensorflow/core/kernels/data/shuffle_dataset_op.cc:175] Filling up shuffle buffer (this may take a while): 817 of 1024\n",
      "2021-12-19 22:02:24.887990: I tensorflow/core/kernels/data/shuffle_dataset_op.cc:228] Shuffle buffer filled.\n"
     ]
    },
    {
     "name": "stdout",
     "output_type": "stream",
     "text": [
      "248/248 [==============================] - 92s 325ms/step - loss: 418.7812 - root_mean_squared_error: 20.4641 - val_loss: 543.1219 - val_root_mean_squared_error: 23.3050\n",
      "Epoch 67/100\n"
     ]
    },
    {
     "name": "stderr",
     "output_type": "stream",
     "text": [
      "2021-12-19 22:04:45.056932: I tensorflow/core/kernels/data/shuffle_dataset_op.cc:175] Filling up shuffle buffer (this may take a while): 732 of 1024\n",
      "2021-12-19 22:04:47.431826: I tensorflow/core/kernels/data/shuffle_dataset_op.cc:228] Shuffle buffer filled.\n"
     ]
    },
    {
     "name": "stdout",
     "output_type": "stream",
     "text": [
      "248/248 [==============================] - 96s 335ms/step - loss: 416.5731 - root_mean_squared_error: 20.4101 - val_loss: 555.3890 - val_root_mean_squared_error: 23.5667\n",
      "Epoch 68/100\n",
      "248/248 [==============================] - 92s 333ms/step - loss: 416.5788 - root_mean_squared_error: 20.4103 - val_loss: 557.3892 - val_root_mean_squared_error: 23.6091\n",
      "Epoch 69/100\n"
     ]
    },
    {
     "name": "stderr",
     "output_type": "stream",
     "text": [
      "2021-12-19 22:08:42.512948: I tensorflow/core/kernels/data/shuffle_dataset_op.cc:175] Filling up shuffle buffer (this may take a while): 793 of 1024\n",
      "2021-12-19 22:08:44.488092: I tensorflow/core/kernels/data/shuffle_dataset_op.cc:228] Shuffle buffer filled.\n"
     ]
    },
    {
     "name": "stdout",
     "output_type": "stream",
     "text": [
      "248/248 [==============================] - 95s 336ms/step - loss: 416.6759 - root_mean_squared_error: 20.4126 - val_loss: 578.3408 - val_root_mean_squared_error: 24.0487\n",
      "Epoch 70/100\n"
     ]
    },
    {
     "name": "stderr",
     "output_type": "stream",
     "text": [
      "2021-12-19 22:11:04.436970: I tensorflow/core/kernels/data/shuffle_dataset_op.cc:175] Filling up shuffle buffer (this may take a while): 788 of 1024\n",
      "2021-12-19 22:11:06.980006: I tensorflow/core/kernels/data/shuffle_dataset_op.cc:228] Shuffle buffer filled.\n"
     ]
    },
    {
     "name": "stdout",
     "output_type": "stream",
     "text": [
      "248/248 [==============================] - 96s 336ms/step - loss: 416.8398 - root_mean_squared_error: 20.4167 - val_loss: 534.2899 - val_root_mean_squared_error: 23.1147\n",
      "Epoch 71/100\n",
      "248/248 [==============================] - 91s 332ms/step - loss: 417.7187 - root_mean_squared_error: 20.4382 - val_loss: 554.5170 - val_root_mean_squared_error: 23.5482\n",
      "Epoch 72/100\n"
     ]
    },
    {
     "name": "stderr",
     "output_type": "stream",
     "text": [
      "2021-12-19 22:15:02.284703: I tensorflow/core/kernels/data/shuffle_dataset_op.cc:175] Filling up shuffle buffer (this may take a while): 777 of 1024\n",
      "2021-12-19 22:15:04.344828: I tensorflow/core/kernels/data/shuffle_dataset_op.cc:228] Shuffle buffer filled.\n"
     ]
    },
    {
     "name": "stdout",
     "output_type": "stream",
     "text": [
      "248/248 [==============================] - 95s 336ms/step - loss: 417.6954 - root_mean_squared_error: 20.4376 - val_loss: 610.7240 - val_root_mean_squared_error: 24.7128\n",
      "Epoch 73/100\n",
      "248/248 [==============================] - 90s 330ms/step - loss: 417.2446 - root_mean_squared_error: 20.4266 - val_loss: 568.3935 - val_root_mean_squared_error: 23.8410\n",
      "Epoch 74/100\n"
     ]
    },
    {
     "name": "stderr",
     "output_type": "stream",
     "text": [
      "2021-12-19 22:18:59.650199: I tensorflow/core/kernels/data/shuffle_dataset_op.cc:175] Filling up shuffle buffer (this may take a while): 757 of 1024\n",
      "2021-12-19 22:19:01.847096: I tensorflow/core/kernels/data/shuffle_dataset_op.cc:228] Shuffle buffer filled.\n"
     ]
    },
    {
     "name": "stdout",
     "output_type": "stream",
     "text": [
      "248/248 [==============================] - 95s 333ms/step - loss: 418.2454 - root_mean_squared_error: 20.4510 - val_loss: 557.4839 - val_root_mean_squared_error: 23.6111\n",
      "Epoch 75/100\n"
     ]
    },
    {
     "name": "stderr",
     "output_type": "stream",
     "text": [
      "2021-12-19 22:21:21.585006: I tensorflow/core/kernels/data/shuffle_dataset_op.cc:175] Filling up shuffle buffer (this may take a while): 680 of 1024\n",
      "2021-12-19 22:21:24.465706: I tensorflow/core/kernels/data/shuffle_dataset_op.cc:228] Shuffle buffer filled.\n"
     ]
    },
    {
     "name": "stdout",
     "output_type": "stream",
     "text": [
      "248/248 [==============================] - 96s 334ms/step - loss: 419.1796 - root_mean_squared_error: 20.4739 - val_loss: 553.0341 - val_root_mean_squared_error: 23.5167\n",
      "Epoch 76/100\n",
      "248/248 [==============================] - 91s 333ms/step - loss: 418.8244 - root_mean_squared_error: 20.4652 - val_loss: 543.9374 - val_root_mean_squared_error: 23.3225\n",
      "Epoch 77/100\n",
      "248/248 [==============================] - 89s 324ms/step - loss: 417.7434 - root_mean_squared_error: 20.4388 - val_loss: 535.9359 - val_root_mean_squared_error: 23.1503\n",
      "Epoch 78/100\n",
      "248/248 [==============================] - 96s 352ms/step - loss: 416.7861 - root_mean_squared_error: 20.4153 - val_loss: 554.6362 - val_root_mean_squared_error: 23.5507\n",
      "Epoch 79/100\n",
      "248/248 [==============================] - 96s 352ms/step - loss: 418.0675 - root_mean_squared_error: 20.4467 - val_loss: 550.1315 - val_root_mean_squared_error: 23.4549\n",
      "Epoch 80/100\n",
      "248/248 [==============================] - 96s 351ms/step - loss: 417.3769 - root_mean_squared_error: 20.4298 - val_loss: 521.0192 - val_root_mean_squared_error: 22.8258\n",
      "Epoch 81/100\n",
      "248/248 [==============================] - 91s 335ms/step - loss: 417.9959 - root_mean_squared_error: 20.4449 - val_loss: 534.6528 - val_root_mean_squared_error: 23.1226\n",
      "Epoch 82/100\n",
      "248/248 [==============================] - 90s 330ms/step - loss: 417.4785 - root_mean_squared_error: 20.4323 - val_loss: 556.6219 - val_root_mean_squared_error: 23.5928\n",
      "Epoch 83/100\n",
      "248/248 [==============================] - 92s 335ms/step - loss: 417.6401 - root_mean_squared_error: 20.4362 - val_loss: 524.2209 - val_root_mean_squared_error: 22.8959\n",
      "Epoch 84/100\n",
      "248/248 [==============================] - 92s 336ms/step - loss: 415.4475 - root_mean_squared_error: 20.3825 - val_loss: 533.4426 - val_root_mean_squared_error: 23.0964\n",
      "Epoch 85/100\n",
      "248/248 [==============================] - 93s 342ms/step - loss: 417.8179 - root_mean_squared_error: 20.4406 - val_loss: 570.2159 - val_root_mean_squared_error: 23.8792\n",
      "Epoch 86/100\n"
     ]
    },
    {
     "name": "stderr",
     "output_type": "stream",
     "text": [
      "2021-12-19 22:44:04.185702: I tensorflow/core/kernels/data/shuffle_dataset_op.cc:175] Filling up shuffle buffer (this may take a while): 701 of 1024\n",
      "2021-12-19 22:44:07.368402: I tensorflow/core/kernels/data/shuffle_dataset_op.cc:228] Shuffle buffer filled.\n"
     ]
    },
    {
     "name": "stdout",
     "output_type": "stream",
     "text": [
      "248/248 [==============================] - 94s 327ms/step - loss: 417.2956 - root_mean_squared_error: 20.4278 - val_loss: 533.3344 - val_root_mean_squared_error: 23.0940\n",
      "Epoch 87/100\n",
      "248/248 [==============================] - 92s 333ms/step - loss: 417.2452 - root_mean_squared_error: 20.4266 - val_loss: 502.8631 - val_root_mean_squared_error: 22.4246\n",
      "Epoch 88/100\n"
     ]
    },
    {
     "name": "stderr",
     "output_type": "stream",
     "text": [
      "2021-12-19 22:48:00.470430: I tensorflow/core/kernels/data/shuffle_dataset_op.cc:175] Filling up shuffle buffer (this may take a while): 734 of 1024\n",
      "2021-12-19 22:48:03.368617: I tensorflow/core/kernels/data/shuffle_dataset_op.cc:228] Shuffle buffer filled.\n"
     ]
    },
    {
     "name": "stdout",
     "output_type": "stream",
     "text": [
      "248/248 [==============================] - 97s 339ms/step - loss: 416.1878 - root_mean_squared_error: 20.4007 - val_loss: 567.4109 - val_root_mean_squared_error: 23.8204\n",
      "Epoch 89/100\n",
      "248/248 [==============================] - 93s 339ms/step - loss: 416.9677 - root_mean_squared_error: 20.4198 - val_loss: 560.8974 - val_root_mean_squared_error: 23.6833\n",
      "Epoch 90/100\n"
     ]
    },
    {
     "name": "stderr",
     "output_type": "stream",
     "text": [
      "2021-12-19 22:51:59.495848: I tensorflow/core/kernels/data/shuffle_dataset_op.cc:175] Filling up shuffle buffer (this may take a while): 733 of 1024\n",
      "2021-12-19 22:52:02.640644: I tensorflow/core/kernels/data/shuffle_dataset_op.cc:228] Shuffle buffer filled.\n"
     ]
    },
    {
     "name": "stdout",
     "output_type": "stream",
     "text": [
      "248/248 [==============================] - 97s 337ms/step - loss: 416.1327 - root_mean_squared_error: 20.3993 - val_loss: 536.3794 - val_root_mean_squared_error: 23.1599\n",
      "Epoch 91/100\n",
      "248/248 [==============================] - 93s 336ms/step - loss: 418.0348 - root_mean_squared_error: 20.4459 - val_loss: 562.4008 - val_root_mean_squared_error: 23.7150\n",
      "Epoch 92/100\n",
      "248/248 [==============================] - 93s 339ms/step - loss: 415.6110 - root_mean_squared_error: 20.3865 - val_loss: 516.1346 - val_root_mean_squared_error: 22.7186\n",
      "Epoch 93/100\n",
      "248/248 [==============================] - 90s 325ms/step - loss: 416.3088 - root_mean_squared_error: 20.4036 - val_loss: 541.9385 - val_root_mean_squared_error: 23.2796\n",
      "Epoch 94/100\n",
      "248/248 [==============================] - 93s 339ms/step - loss: 417.6403 - root_mean_squared_error: 20.4363 - val_loss: 557.5399 - val_root_mean_squared_error: 23.6123\n",
      "Epoch 95/100\n"
     ]
    },
    {
     "name": "stderr",
     "output_type": "stream",
     "text": [
      "2021-12-19 23:02:59.790346: I tensorflow/core/kernels/data/shuffle_dataset_op.cc:175] Filling up shuffle buffer (this may take a while): 715 of 1024\n",
      "2021-12-19 23:03:03.269682: I tensorflow/core/kernels/data/shuffle_dataset_op.cc:228] Shuffle buffer filled.\n"
     ]
    },
    {
     "name": "stdout",
     "output_type": "stream",
     "text": [
      "248/248 [==============================] - 98s 339ms/step - loss: 418.1852 - root_mean_squared_error: 20.4496 - val_loss: 584.9857 - val_root_mean_squared_error: 24.1865\n",
      "Epoch 96/100\n",
      "248/248 [==============================] - 93s 341ms/step - loss: 417.5599 - root_mean_squared_error: 20.4343 - val_loss: 567.5953 - val_root_mean_squared_error: 23.8243\n",
      "Epoch 97/100\n",
      "248/248 [==============================] - 94s 343ms/step - loss: 416.3384 - root_mean_squared_error: 20.4044 - val_loss: 517.3652 - val_root_mean_squared_error: 22.7457\n",
      "Epoch 98/100\n",
      "248/248 [==============================] - 92s 335ms/step - loss: 416.1508 - root_mean_squared_error: 20.3998 - val_loss: 518.5439 - val_root_mean_squared_error: 22.7716\n",
      "Epoch 99/100\n"
     ]
    },
    {
     "name": "stderr",
     "output_type": "stream",
     "text": [
      "2021-12-19 23:11:38.153797: I tensorflow/core/kernels/data/shuffle_dataset_op.cc:175] Filling up shuffle buffer (this may take a while): 669 of 1024\n",
      "2021-12-19 23:11:42.012304: I tensorflow/core/kernels/data/shuffle_dataset_op.cc:228] Shuffle buffer filled.\n"
     ]
    },
    {
     "name": "stdout",
     "output_type": "stream",
     "text": [
      "248/248 [==============================] - 100s 347ms/step - loss: 416.3603 - root_mean_squared_error: 20.4049 - val_loss: 569.7192 - val_root_mean_squared_error: 23.8688\n",
      "Epoch 100/100\n",
      "248/248 [==============================] - 91s 334ms/step - loss: 415.7041 - root_mean_squared_error: 20.3888 - val_loss: 544.0654 - val_root_mean_squared_error: 23.3252\n"
     ]
    }
   ],
   "source": [
    "es = callbacks.EarlyStopping(monitor='val_accuracy', mode='max', min_delta=0.002, patience=10)\n",
    "reduce_lr = callbacks.ReduceLROnPlateau(monitor='val_accuracy', factor=0.2,\n",
    "                              patience=5, min_lr=0.000001)\n",
    "history = model.fit(\n",
    "    train_dataset,\n",
    "    validation_data=val_dataset,\n",
    "    epochs=100,\n",
    "#     steps_per_epoch=20,\n",
    "#     use_multiprocessing=True,\n",
    "#     callbacks=[es, reduce_lr]\n",
    ")"
   ]
  },
  {
   "cell_type": "code",
   "execution_count": 12,
   "id": "e46ef871",
   "metadata": {
    "execution": {
     "iopub.execute_input": "2021-12-19T23:15:43.388289Z",
     "iopub.status.busy": "2021-12-19T23:15:43.387452Z",
     "iopub.status.idle": "2021-12-19T23:15:43.584294Z",
     "shell.execute_reply": "2021-12-19T23:15:43.584838Z",
     "shell.execute_reply.started": "2021-12-19T19:48:39.456692Z"
    },
    "papermill": {
     "duration": 7.190706,
     "end_time": "2021-12-19T23:15:43.584999",
     "exception": false,
     "start_time": "2021-12-19T23:15:36.394293",
     "status": "completed"
    },
    "tags": []
   },
   "outputs": [
    {
     "data": {
      "image/png": "[encoded data removed]",
      "text/plain": [
       "<Figure size 432x288 with 1 Axes>"
      ]
     },
     "metadata": {
      "needs_background": "light"
     },
     "output_type": "display_data"
    }
   ],
   "source": [
    "plt.plot(history.history['root_mean_squared_error'])\n",
    "plt.plot(history.history['val_root_mean_squared_error'])\n",
    "plt.legend(['train', 'val'], loc='upper right')\n",
    "plt.show()"
   ]
  },
  {
   "cell_type": "code",
   "execution_count": 13,
   "id": "0fd297a4",
   "metadata": {
    "execution": {
     "iopub.execute_input": "2021-12-19T23:15:56.365835Z",
     "iopub.status.busy": "2021-12-19T23:15:56.362218Z",
     "iopub.status.idle": "2021-12-19T23:15:56.516241Z",
     "shell.execute_reply": "2021-12-19T23:15:56.516626Z",
     "shell.execute_reply.started": "2021-12-19T19:48:39.950444Z"
    },
    "papermill": {
     "duration": 6.700367,
     "end_time": "2021-12-19T23:15:56.516776",
     "exception": false,
     "start_time": "2021-12-19T23:15:49.816409",
     "status": "completed"
    },
    "tags": []
   },
   "outputs": [
    {
     "data": {
      "image/png": "[encoded data removed]",
      "text/plain": [
       "<Figure size 432x288 with 1 Axes>"
      ]
     },
     "metadata": {
      "needs_background": "light"
     },
     "output_type": "display_data"
    }
   ],
   "source": [
    "plt.plot(history.history['loss'])\n",
    "plt.plot(history.history['val_loss'])\n",
    "plt.legend(['train', 'val'], loc='upper right')\n",
    "plt.show()"
   ]
  },
  {
   "cell_type": "code",
   "execution_count": 14,
   "id": "948fd704",
   "metadata": {
    "execution": {
     "iopub.execute_input": "2021-12-19T23:16:09.306602Z",
     "iopub.status.busy": "2021-12-19T23:16:09.305648Z",
     "iopub.status.idle": "2021-12-19T23:16:10.358829Z",
     "shell.execute_reply": "2021-12-19T23:16:10.358321Z",
     "shell.execute_reply.started": "2021-12-19T19:48:39.952168Z"
    },
    "papermill": {
     "duration": 7.603036,
     "end_time": "2021-12-19T23:16:10.358966",
     "exception": false,
     "start_time": "2021-12-19T23:16:02.755930",
     "status": "completed"
    },
    "tags": []
   },
   "outputs": [],
   "source": [
    "preds = model.predict(test_dataset)"
   ]
  },
  {
   "cell_type": "code",
   "execution_count": 15,
   "id": "eb37f81a",
   "metadata": {
    "execution": {
     "iopub.execute_input": "2021-12-19T23:16:23.579106Z",
     "iopub.status.busy": "2021-12-19T23:16:23.578356Z",
     "iopub.status.idle": "2021-12-19T23:16:23.581789Z",
     "shell.execute_reply": "2021-12-19T23:16:23.581323Z",
     "shell.execute_reply.started": "2021-12-19T19:48:39.953838Z"
    },
    "papermill": {
     "duration": 6.239575,
     "end_time": "2021-12-19T23:16:23.581915",
     "exception": false,
     "start_time": "2021-12-19T23:16:17.342340",
     "status": "completed"
    },
    "tags": []
   },
   "outputs": [],
   "source": [
    "submisson_df = test_df[['Id']]\n",
    "submisson_df['Pawpularity'] = preds"
   ]
  },
  {
   "cell_type": "code",
   "execution_count": 16,
   "id": "16f1f60e",
   "metadata": {
    "execution": {
     "iopub.execute_input": "2021-12-19T23:16:36.605941Z",
     "iopub.status.busy": "2021-12-19T23:16:36.604941Z",
     "iopub.status.idle": "2021-12-19T23:16:36.611925Z",
     "shell.execute_reply": "2021-12-19T23:16:36.612372Z",
     "shell.execute_reply.started": "2021-12-19T19:48:39.956421Z"
    },
    "papermill": {
     "duration": 6.642619,
     "end_time": "2021-12-19T23:16:36.612512",
     "exception": false,
     "start_time": "2021-12-19T23:16:29.969893",
     "status": "completed"
    },
    "tags": []
   },
   "outputs": [
    {
     "data": {
      "text/html": [
       "<div>\n",
       "<style scoped>\n",
       "    .dataframe tbody tr th:only-of-type {\n",
       "        vertical-align: middle;\n",
       "    }\n",
       "\n",
       "    .dataframe tbody tr th {\n",
       "        vertical-align: top;\n",
       "    }\n",
       "\n",
       "    .dataframe thead th {\n",
       "        text-align: right;\n",
       "    }\n",
       "</style>\n",
       "<table border=\"1\" class=\"dataframe\">\n",
       "  <thead>\n",
       "    <tr style=\"text-align: right;\">\n",
       "      <th></th>\n",
       "      <th>Id</th>\n",
       "      <th>Pawpularity</th>\n",
       "    </tr>\n",
       "  </thead>\n",
       "  <tbody>\n",
       "    <tr>\n",
       "      <th>0</th>\n",
       "      <td>4128bae22183829d2b5fea10effdb0c3</td>\n",
       "      <td>19.188612</td>\n",
       "    </tr>\n",
       "    <tr>\n",
       "      <th>1</th>\n",
       "      <td>43a2262d7738e3d420d453815151079e</td>\n",
       "      <td>26.241337</td>\n",
       "    </tr>\n",
       "    <tr>\n",
       "      <th>2</th>\n",
       "      <td>4e429cead1848a298432a0acad014c9d</td>\n",
       "      <td>18.445230</td>\n",
       "    </tr>\n",
       "    <tr>\n",
       "      <th>3</th>\n",
       "      <td>80bc3ccafcc51b66303c2c263aa38486</td>\n",
       "      <td>18.653963</td>\n",
       "    </tr>\n",
       "    <tr>\n",
       "      <th>4</th>\n",
       "      <td>8f49844c382931444e68dffbe20228f4</td>\n",
       "      <td>18.354698</td>\n",
       "    </tr>\n",
       "    <tr>\n",
       "      <th>5</th>\n",
       "      <td>b03f7041962238a7c9d6537e22f9b017</td>\n",
       "      <td>37.779636</td>\n",
       "    </tr>\n",
       "    <tr>\n",
       "      <th>6</th>\n",
       "      <td>c978013571258ed6d4637f6e8cc9d6a3</td>\n",
       "      <td>14.689577</td>\n",
       "    </tr>\n",
       "    <tr>\n",
       "      <th>7</th>\n",
       "      <td>e0de453c1bffc20c22b072b34b54e50f</td>\n",
       "      <td>20.070110</td>\n",
       "    </tr>\n",
       "  </tbody>\n",
       "</table>\n",
       "</div>"
      ],
      "text/plain": [
       "                                 Id  Pawpularity\n",
       "0  4128bae22183829d2b5fea10effdb0c3    19.188612\n",
       "1  43a2262d7738e3d420d453815151079e    26.241337\n",
       "2  4e429cead1848a298432a0acad014c9d    18.445230\n",
       "3  80bc3ccafcc51b66303c2c263aa38486    18.653963\n",
       "4  8f49844c382931444e68dffbe20228f4    18.354698\n",
       "5  b03f7041962238a7c9d6537e22f9b017    37.779636\n",
       "6  c978013571258ed6d4637f6e8cc9d6a3    14.689577\n",
       "7  e0de453c1bffc20c22b072b34b54e50f    20.070110"
      ]
     },
     "execution_count": 16,
     "metadata": {},
     "output_type": "execute_result"
    }
   ],
   "source": [
    "submisson_df"
   ]
  },
  {
   "cell_type": "code",
   "execution_count": 17,
   "id": "5f9a996f",
   "metadata": {
    "execution": {
     "iopub.execute_input": "2021-12-19T23:16:50.256894Z",
     "iopub.status.busy": "2021-12-19T23:16:50.255976Z",
     "iopub.status.idle": "2021-12-19T23:16:50.260977Z",
     "shell.execute_reply": "2021-12-19T23:16:50.260557Z",
     "shell.execute_reply.started": "2021-12-19T19:48:39.958101Z"
    },
    "papermill": {
     "duration": 7.388505,
     "end_time": "2021-12-19T23:16:50.261095",
     "exception": false,
     "start_time": "2021-12-19T23:16:42.872590",
     "status": "completed"
    },
    "tags": []
   },
   "outputs": [],
   "source": [
    "submisson_df.to_csv('submission.csv', index=False)"
   ]
  },
  {
   "cell_type": "code",
   "execution_count": 18,
   "id": "f251243e",
   "metadata": {
    "execution": {
     "iopub.execute_input": "2021-12-19T23:17:02.961702Z",
     "iopub.status.busy": "2021-12-19T23:17:02.949549Z",
     "iopub.status.idle": "2021-12-19T23:17:03.206565Z",
     "shell.execute_reply": "2021-12-19T23:17:03.205971Z",
     "shell.execute_reply.started": "2021-12-19T19:48:39.960162Z"
    },
    "papermill": {
     "duration": 6.776209,
     "end_time": "2021-12-19T23:17:03.206707",
     "exception": false,
     "start_time": "2021-12-19T23:16:56.430498",
     "status": "completed"
    },
    "tags": []
   },
   "outputs": [],
   "source": [
    "model.save('/kaggle/working/multi_transfer_model.h5')"
   ]
  },
  {
   "cell_type": "code",
   "execution_count": null,
   "id": "b9e8021d",
   "metadata": {
    "papermill": {
     "duration": 6.5907,
     "end_time": "2021-12-19T23:17:16.228517",
     "exception": false,
     "start_time": "2021-12-19T23:17:09.637817",
     "status": "completed"
    },
    "tags": []
   },
   "outputs": [],
   "source": []
  }
 ],
 "metadata": {
  "kernelspec": {
   "display_name": "Python 3",
   "language": "python",
   "name": "python3"
  },
  "language_info": {
   "codemirror_mode": {
    "name": "ipython",
    "version": 3
   },
   "file_extension": ".py",
   "mimetype": "text/x-python",
   "name": "python",
   "nbconvert_exporter": "python",
   "pygments_lexer": "ipython3",
   "version": "3.7.12"
  },
  "papermill": {
   "default_parameters": {},
   "duration": 12489.733684,
   "end_time": "2021-12-19T23:17:25.976536",
   "environment_variables": {},
   "exception": null,
   "input_path": "__notebook__.ipynb",
   "output_path": "__notebook__.ipynb",
   "parameters": {},
   "start_time": "2021-12-19T19:49:16.242852",
   "version": "2.3.3"
  }
 },
 "nbformat": 4,
 "nbformat_minor": 5
}
